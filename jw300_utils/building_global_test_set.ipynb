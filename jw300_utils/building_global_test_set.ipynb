{
  "nbformat": 4,
  "nbformat_minor": 0,
  "metadata": {
    "colab": {
      "name": "building_global_test_set.ipynb",
      "provenance": [],
      "collapsed_sections": [],
      "include_colab_link": true
    },
    "kernelspec": {
      "display_name": "Python 3 (ipykernel)",
      "language": "python",
      "name": "python3"
    },
    "language_info": {
      "codemirror_mode": {
        "name": "ipython",
        "version": 3
      },
      "file_extension": ".py",
      "mimetype": "text/x-python",
      "name": "python",
      "nbconvert_exporter": "python",
      "pygments_lexer": "ipython3",
      "version": "3.7.10"
    }
  },
  "cells": [
    {
      "cell_type": "markdown",
      "metadata": {
        "id": "view-in-github",
        "colab_type": "text"
      },
      "source": [
        "<a href=\"https://colab.research.google.com/github/Kabongosalomon/RDC-Mobongoli/blob/main/jw300_utils/building_global_test_set.ipynb\" target=\"_parent\"><img src=\"https://colab.research.google.com/assets/colab-badge.svg\" alt=\"Open In Colab\"/></a>"
      ]
    },
    {
      "cell_type": "code",
      "metadata": {
        "colab": {
          "base_uri": "https://localhost:8080/"
        },
        "id": "wH8AJ3OAVBpF",
        "outputId": "cc6d5617-71d8-4239-dcbb-68cd47a3bcfd"
      },
      "source": [
        "from google.colab import drive\n",
        "drive.mount('/content/drive')"
      ],
      "execution_count": 1,
      "outputs": [
        {
          "output_type": "stream",
          "text": [
            "Mounted at /content/drive\n"
          ],
          "name": "stdout"
        }
      ]
    },
    {
      "cell_type": "markdown",
      "metadata": {
        "id": "yLIkGn6RQ5yg"
      },
      "source": [
        "### Setting Up the data"
      ]
    },
    {
      "cell_type": "markdown",
      "metadata": {
        "id": "P_uBo3H6Q5yr"
      },
      "source": [
        "Downloading the global test set is simple,\n",
        "we need to set english and your target as source and target language, then we find the intersection of the english test set with the target corpus after that we get the corresponding target sentences from the target corpus."
      ]
    },
    {
      "cell_type": "code",
      "metadata": {
        "id": "4rdvcs5aRVbf"
      },
      "source": [
        "%%capture\n",
        "!pip install opustools-pkg"
      ],
      "execution_count": 2,
      "outputs": []
    },
    {
      "cell_type": "markdown",
      "metadata": {
        "id": "FG5qoTCkdyCy"
      },
      "source": [
        "# SET THE LANGUAGE CODE and other variables.\n",
        "\n",
        "You need to change the value below for your language!\n",
        "\n",
        "The language codes from the [JW300 corpus website](https://object.pouta.csc.fi/OPUS-JW300/v1/languages.json) are: \n",
        "```\n",
        "{\n",
        "    \"language\": \"French - Français\",\n",
        "    \"language_en\": \"French\",\n",
        "    \"language_native\": \"Français\",\n",
        "    \"language_short\": \"fr\",\n",
        "    \"url\": \"https://wol.jw.org/fr/wol/pref/r30/lp-f?newrsconf=r30&newlib=lp-f&url=\"\n",
        "}, \n",
        "\n",
        "{\n",
        "    \"language\": \"Lingala - Lingala\",\n",
        "    \"language_en\": \"Lingala\",\n",
        "    \"language_native\": \"Lingala\",\n",
        "    \"language_short\": \"ln\",\n",
        "    \"url\": \"https://wol.jw.org/ln/wol/pref/r126/lp-li?newrsconf=r126&newlib=lp-li&url=\"\n",
        "},\n",
        "\n",
        "{\n",
        "    \"language\": \"Tshiluba - Tshiluba\",\n",
        "    \"language_en\": \"Tshiluba\",\n",
        "    \"language_native\": \"Tshiluba\",\n",
        "    \"language_short\": \"lua\",\n",
        "    \"url\": \"https://wol.jw.org/lua/wol/pref/r477/lp-sh?newrsconf=r477&newlib=lp-sh&url=\"\n",
        "},\n",
        "\n",
        "{\n",
        "    \"language\": \"Kikongo - Kikongo\",\n",
        "    \"language_en\": \"Kikongo\",\n",
        "    \"language_native\": \"Kikongo\",\n",
        "    \"language_short\": \"kwy\",\n",
        "    \"url\": \"https://wol.jw.org/kwy/wol/pref/r128/lp-kg?newrsconf=r128&newlib=lp-kg&url=\"\n",
        "},\n",
        "\n",
        "{\n",
        "    \"language\": \"Swahili (Congo) - Kiswahili (Congo)\",\n",
        "    \"language_en\": \"Swahili (Congo)\",\n",
        "    \"language_native\": \"Kiswahili (Congo)\",\n",
        "    \"language_short\": \"swc\",\n",
        "    \"url\": \"https://wol.jw.org/swc/wol/pref/r143/lp-zs?newrsconf=r143&newlib=lp-zs&url=\"\n",
        "  },\n",
        "```\n",
        "Already-created test sets: https://raw.githubusercontent.com/ai-drc/RDC-Mobongoli/main/jw300_utils/test/"
      ]
    },
    {
      "cell_type": "code",
      "metadata": {
        "id": "EhNiQZplQ5yt"
      },
      "source": [
        "import os\n",
        "source_language = \"fr\"\n",
        "target_language = \"ln\" # TODO: CHANGE THIS TO YOUR LANGUAGE! \"ha\" is hausa. See the language codes at https://opus.nlpl.eu/JW300.php\n",
        "lc = False  # If True, lowercase the data.\n",
        "seed = 42  # Random seed for shuffling.\n",
        "tag = \"baseline\" # Give a unique name to your folder - this is to ensure you don't rewrite any models you've already submitted\n",
        "\n",
        "os.environ[\"src\"] = source_language # Sets them in bash as well, since we often use bash scripts\n",
        "os.environ[\"tgt\"] = target_language\n",
        "os.environ[\"tag\"] = tag\n",
        "\n",
        "# No need to use gdrive since we are training on gcp\n",
        "!mkdir -p \"$src-$tgt-$tag\"\n",
        "os.environ[\"gdrive_path\"] = \"%s-%s-%s\" % (source_language, target_language, tag) # saving directly on the vm"
      ],
      "execution_count": 31,
      "outputs": []
    },
    {
      "cell_type": "code",
      "metadata": {
        "colab": {
          "base_uri": "https://localhost:8080/"
        },
        "id": "RExQ_q-vQ5yy",
        "outputId": "1181c722-d6f7-47af-8ecd-d33ea9ae2553"
      },
      "source": [
        "!echo $gdrive_path"
      ],
      "execution_count": 32,
      "outputs": [
        {
          "output_type": "stream",
          "text": [
            "fr-ln-baseline\n"
          ],
          "name": "stdout"
        }
      ]
    },
    {
      "cell_type": "markdown",
      "metadata": {
        "id": "6C760IqtQ5y0"
      },
      "source": [
        "#### Downloading the corpus data"
      ]
    },
    {
      "cell_type": "markdown",
      "metadata": {
        "id": "x1jEhHm8Q5y1"
      },
      "source": [
        "for precaution , am removing the old data"
      ]
    },
    {
      "cell_type": "code",
      "metadata": {
        "id": "XQBYlyBSQ5y3"
      },
      "source": [
        "!rm -f w300.$src jw300.$tgt JW300_latest_xml_$src-$tgt.xml.gz JW300_latest_xml_$src-$tgt.xml JW300_latest_xml_$src.zip  JW300_latest_xml_$tgt.zip test.fr-any.fr"
      ],
      "execution_count": 33,
      "outputs": []
    },
    {
      "cell_type": "code",
      "metadata": {
        "colab": {
          "base_uri": "https://localhost:8080/"
        },
        "id": "W2bhVsAEQ5y4",
        "scrolled": true,
        "outputId": "e4c4f5e3-a4fb-443e-a829-44a01656d3e1"
      },
      "source": [
        "# Downloading our corpus\n",
        "! opus_read -d JW300 -s $src -t $tgt -wm moses -w jw300.$src jw300.$tgt -q\n",
        "\n",
        "# extract the corpus file\n",
        "! gunzip JW300_latest_xml_$src-$tgt.xml.gz"
      ],
      "execution_count": 34,
      "outputs": [
        {
          "output_type": "stream",
          "text": [
            "\n",
            "Alignment file /proj/nlpl/data/OPUS/JW300/latest/xml/fr-ln.xml.gz not found. The following files are available for downloading:\n",
            "\n",
            "   6 MB https://object.pouta.csc.fi/OPUS-JW300/v1b/xml/fr-ln.xml.gz\n",
            " 278 MB https://object.pouta.csc.fi/OPUS-JW300/v1b/xml/fr.zip\n",
            "  60 MB https://object.pouta.csc.fi/OPUS-JW300/v1b/xml/ln.zip\n",
            "\n",
            " 345 MB Total size\n",
            "./JW300_latest_xml_fr-ln.xml.gz ... 100% of 6 MB\n",
            "./JW300_latest_xml_fr.zip ... 100% of 278 MB\n",
            "./JW300_latest_xml_ln.zip ... 100% of 60 MB\n"
          ],
          "name": "stdout"
        }
      ]
    },
    {
      "cell_type": "code",
      "metadata": {
        "colab": {
          "base_uri": "https://localhost:8080/"
        },
        "id": "AdJrG4SmQ5y7",
        "outputId": "d0b77b62-5c4f-4b75-bb69-043492cf095a"
      },
      "source": [
        "! wget https://raw.githubusercontent.com/ai-drc/RDC-Mobongoli/main/jw300_utils/test/test.fr-any.fr\n",
        "\n",
        "  \n",
        "# And the specific test set for this language pair.\n",
        "os.environ[\"trg\"] = target_language \n",
        "os.environ[\"src\"] = source_language "
      ],
      "execution_count": 35,
      "outputs": [
        {
          "output_type": "stream",
          "text": [
            "--2021-07-20 14:49:55--  https://raw.githubusercontent.com/ai-drc/RDC-Mobongoli/main/jw300_utils/test/test.fr-any.fr\n",
            "Resolving raw.githubusercontent.com (raw.githubusercontent.com)... 185.199.110.133, 185.199.111.133, 185.199.109.133, ...\n",
            "Connecting to raw.githubusercontent.com (raw.githubusercontent.com)|185.199.110.133|:443... connected.\n",
            "HTTP request sent, awaiting response... 200 OK\n",
            "Length: 377235 (368K) [text/plain]\n",
            "Saving to: ‘test.fr-any.fr’\n",
            "\n",
            "test.fr-any.fr      100%[===================>] 368.39K  --.-KB/s    in 0.06s   \n",
            "\n",
            "2021-07-20 14:49:56 (6.00 MB/s) - ‘test.fr-any.fr’ saved [377235/377235]\n",
            "\n"
          ],
          "name": "stdout"
        }
      ]
    },
    {
      "cell_type": "code",
      "metadata": {
        "colab": {
          "base_uri": "https://localhost:8080/"
        },
        "id": "-XLatU0iQ5y8",
        "outputId": "43b2ca2d-5250-45e5-e05b-3516d081a82f"
      },
      "source": [
        "# Read the test data to filter from train and dev splits.\n",
        "# Store english portion in set for quick filtering checks.\n",
        "en_test_sents = set()\n",
        "filter_test_sents = \"test.fr-any.fr\"\n",
        "j = 0\n",
        "with open(filter_test_sents) as f:\n",
        "  for line in f:\n",
        "    en_test_sents.add(line.strip())\n",
        "    j += 1\n",
        "print('Loaded {} global test sentences to filter from the training/dev data.'.format(j))"
      ],
      "execution_count": 36,
      "outputs": [
        {
          "output_type": "stream",
          "text": [
            "Loaded 3974 global test sentences to filter from the training/dev data.\n"
          ],
          "name": "stdout"
        }
      ]
    },
    {
      "cell_type": "code",
      "metadata": {
        "colab": {
          "base_uri": "https://localhost:8080/"
        },
        "id": "ydypbA7LQ5y-",
        "outputId": "e80e058d-d49c-4924-e7b3-f0545c5a89f3"
      },
      "source": [
        "!ls"
      ],
      "execution_count": 37,
      "outputs": [
        {
          "output_type": "stream",
          "text": [
            "drive\t\t\t    JW300_latest_xml_fr-lua.xml  jw300.lua\n",
            "fr-ln-baseline\t\t    JW300_latest_xml_fr.zip\t sample_data\n",
            "fr-lua-baseline\t\t    JW300_latest_xml_ln.zip\t test.fr-any.fr\n",
            "jw300.fr\t\t    JW300_latest_xml_lua.zip\t test.fr-lua.fr\n",
            "JW300_latest_xml_fr-ln.xml  jw300.ln\t\t\t test.lua-any.lua\n"
          ],
          "name": "stdout"
        }
      ]
    },
    {
      "cell_type": "markdown",
      "metadata": {
        "id": "mTsD-Ta1Q5zD"
      },
      "source": [
        "#### Building the corpus"
      ]
    },
    {
      "cell_type": "markdown",
      "metadata": {
        "id": "8I8fMRRrQ5zF"
      },
      "source": [
        "In the 2 cells below you can check if the 2 datasets are aligned. Even if you don't speak the language you can get a sense, especially with similar words, punctuation, and so forth."
      ]
    },
    {
      "cell_type": "code",
      "metadata": {
        "colab": {
          "base_uri": "https://localhost:8080/"
        },
        "id": "UHpOmS0xQ5zF",
        "scrolled": true,
        "outputId": "fd8042c7-fbe2-4350-eb38-2c81af799774"
      },
      "source": [
        "! head -5 jw300.fr"
      ],
      "execution_count": 38,
      "outputs": [
        {
          "output_type": "stream",
          "text": [
            "Qui veut être millionnaire ?\n",
            "IL SEMBLE que ce soit là le désir de tout un chacun , ou presque .\n",
            "Or la solution la plus simple , dans l’esprit du public , est de gagner à la loterie ou au loto sportif * .\n",
            "Flattant les désirs du grand nombre — et convoitant les excédents qui reviendront à l’État — , de Moscou à Madrid , de Manille à Mexico , les gouvernements parrainent des loteries d’État qui peuvent faire gagner l’équivalent de plusieurs centaines de millions de francs français .\n",
            "Quelques joueurs deviennent effectivement millionnaires .\n"
          ],
          "name": "stdout"
        }
      ]
    },
    {
      "cell_type": "code",
      "metadata": {
        "colab": {
          "base_uri": "https://localhost:8080/"
        },
        "id": "mgPwLbD8Q5zG",
        "outputId": "c46cb4f9-97da-4141-81c9-07f690fef2c5"
      },
      "source": [
        "! head -5 jw300.$tgt"
      ],
      "execution_count": 39,
      "outputs": [
        {
          "output_type": "stream",
          "text": [
            "Nani alingi kozala milionere ?\n",
            "EYANO emonani lokola ete , wana ezali mposa ya moto na moto to pene na bato nyonso .\n",
            "Nzokande , na makanisi ya bato , nzela ya pɛtɛɛ mpo na kozwa yango ezali kolónga na loterie to na momekano ya kosakola liboso équipe ya ndembo oyo ekolónga .\n",
            "Kolamusáká mposa ya bato mingi ​ — mpe koluláká kozwa misolo oyo Leta akozwa likoló ​ — kolongwa Moscou kino Madrid , kolongwa Manille kino Mexico , baguvernema bazali kopesa lisungi na loterie esalemi na Leta , kati na yango balóngi bakoki kozwa nkámá mingi ya bamilió ya badolare .\n",
            "Mwa babɛti na yango bazali mpenza kokóma bamilionere .\n"
          ],
          "name": "stdout"
        }
      ]
    },
    {
      "cell_type": "code",
      "metadata": {
        "colab": {
          "base_uri": "https://localhost:8080/",
          "height": 376
        },
        "id": "IlJP5HzhQ5zJ",
        "outputId": "4693d13b-61d8-443e-f4f6-af17c443dd3e"
      },
      "source": [
        "import pandas as pd\n",
        "\n",
        "# TMX file to dataframe\n",
        "source_file = 'jw300.' + source_language  ## source language is english\n",
        "target_file = 'jw300.' + target_language ## Target is whatever you set. For our example it was ha, so jw300.ha\n",
        "target_test = {}\n",
        "source = []\n",
        "target = []\n",
        "english_sentences_in_global_test_set = {}  # Collect the line numbers of the source portion to skip the same lines for the target portion.\n",
        "with open(source_file) as src_f:\n",
        "    for i, line in enumerate(src_f):\n",
        "        # Skip sentences that are contained in the test set and add them into the new frencg test\n",
        "        if line.strip() not in en_test_sents:\n",
        "            source.append(line.strip())\n",
        "        else:\n",
        "            # Here is the intersection with the global test set\n",
        "            english_sentences_in_global_test_set[i] = line.strip()           \n",
        "with open(target_file) as f:\n",
        "    for j, line in enumerate(f):\n",
        "        # Only add to corpus if corresponding source was not skipped.\n",
        "        if j not in english_sentences_in_global_test_set.keys():\n",
        "            target.append(line.strip())\n",
        "        else:\n",
        "            #Collecting the aligned test sentences\n",
        "            target_test[j] = line.strip()\n",
        "    \n",
        "print('Loaded data and skipped {}/{} lines since contained in test set.'.format(len(english_sentences_in_global_test_set.keys()), i))\n",
        "    \n",
        "df = pd.DataFrame(zip(source, target), columns=['source_sentence', 'target_sentence'])\n",
        "# if you get TypeError: data argument can't be an iterator is because of your zip version run this below\n",
        "#df = pd.DataFrame(list(zip(source, target)), columns=['source_sentence', 'target_sentence'])\n",
        "df.head(10)"
      ],
      "execution_count": 40,
      "outputs": [
        {
          "output_type": "stream",
          "text": [
            "Loaded data and skipped 6707/590525 lines since contained in test set.\n"
          ],
          "name": "stdout"
        },
        {
          "output_type": "execute_result",
          "data": {
            "text/html": [
              "<div>\n",
              "<style scoped>\n",
              "    .dataframe tbody tr th:only-of-type {\n",
              "        vertical-align: middle;\n",
              "    }\n",
              "\n",
              "    .dataframe tbody tr th {\n",
              "        vertical-align: top;\n",
              "    }\n",
              "\n",
              "    .dataframe thead th {\n",
              "        text-align: right;\n",
              "    }\n",
              "</style>\n",
              "<table border=\"1\" class=\"dataframe\">\n",
              "  <thead>\n",
              "    <tr style=\"text-align: right;\">\n",
              "      <th></th>\n",
              "      <th>source_sentence</th>\n",
              "      <th>target_sentence</th>\n",
              "    </tr>\n",
              "  </thead>\n",
              "  <tbody>\n",
              "    <tr>\n",
              "      <th>0</th>\n",
              "      <td>Qui veut être millionnaire ?</td>\n",
              "      <td>Nani alingi kozala milionere ?</td>\n",
              "    </tr>\n",
              "    <tr>\n",
              "      <th>1</th>\n",
              "      <td>IL SEMBLE que ce soit là le désir de tout un c...</td>\n",
              "      <td>EYANO emonani lokola ete , wana ezali mposa ya...</td>\n",
              "    </tr>\n",
              "    <tr>\n",
              "      <th>2</th>\n",
              "      <td>Or la solution la plus simple , dans l’esprit ...</td>\n",
              "      <td>Nzokande , na makanisi ya bato , nzela ya pɛtɛ...</td>\n",
              "    </tr>\n",
              "    <tr>\n",
              "      <th>3</th>\n",
              "      <td>Flattant les désirs du grand nombre — et convo...</td>\n",
              "      <td>Kolamusáká mposa ya bato mingi ​ — mpe kolulák...</td>\n",
              "    </tr>\n",
              "    <tr>\n",
              "      <th>4</th>\n",
              "      <td>Quelques joueurs deviennent effectivement mill...</td>\n",
              "      <td>Mwa babɛti na yango bazali mpenza kokóma bamil...</td>\n",
              "    </tr>\n",
              "    <tr>\n",
              "      <th>5</th>\n",
              "      <td>Un Anglais , qui avait parié pendant 25 ans su...</td>\n",
              "      <td>Mongelesi moko oyo azalaki kosala momekano na ...</td>\n",
              "    </tr>\n",
              "    <tr>\n",
              "      <th>6</th>\n",
              "      <td>Une mise équivalant à moins de 3 francs frança...</td>\n",
              "      <td>Abɛtaki bobele na mosolo mokokani na franka 3 ...</td>\n",
              "    </tr>\n",
              "    <tr>\n",
              "      <th>7</th>\n",
              "      <td>Plus spectaculaire encore est le cas de cette ...</td>\n",
              "      <td>Oyo ekamwisi mpenza ezali likambo ya mwasi oyo...</td>\n",
              "    </tr>\n",
              "    <tr>\n",
              "      <th>8</th>\n",
              "      <td>Mais ce ne sont là que des exceptions .</td>\n",
              "      <td>Kasi baoyo bazali kolónga boye bazali sé moke ...</td>\n",
              "    </tr>\n",
              "    <tr>\n",
              "      <th>9</th>\n",
              "      <td>Plus représentatif est cet employé de bureau e...</td>\n",
              "      <td>Ndakisa emonisi yango malamu ezali mosali na b...</td>\n",
              "    </tr>\n",
              "  </tbody>\n",
              "</table>\n",
              "</div>"
            ],
            "text/plain": [
              "                                     source_sentence                                    target_sentence\n",
              "0                       Qui veut être millionnaire ?                     Nani alingi kozala milionere ?\n",
              "1  IL SEMBLE que ce soit là le désir de tout un c...  EYANO emonani lokola ete , wana ezali mposa ya...\n",
              "2  Or la solution la plus simple , dans l’esprit ...  Nzokande , na makanisi ya bato , nzela ya pɛtɛ...\n",
              "3  Flattant les désirs du grand nombre — et convo...  Kolamusáká mposa ya bato mingi ​ — mpe kolulák...\n",
              "4  Quelques joueurs deviennent effectivement mill...  Mwa babɛti na yango bazali mpenza kokóma bamil...\n",
              "5  Un Anglais , qui avait parié pendant 25 ans su...  Mongelesi moko oyo azalaki kosala momekano na ...\n",
              "6  Une mise équivalant à moins de 3 francs frança...  Abɛtaki bobele na mosolo mokokani na franka 3 ...\n",
              "7  Plus spectaculaire encore est le cas de cette ...  Oyo ekamwisi mpenza ezali likambo ya mwasi oyo...\n",
              "8            Mais ce ne sont là que des exceptions .  Kasi baoyo bazali kolónga boye bazali sé moke ...\n",
              "9  Plus représentatif est cet employé de bureau e...  Ndakisa emonisi yango malamu ezali mosali na b..."
            ]
          },
          "metadata": {
            "tags": []
          },
          "execution_count": 40
        }
      ]
    },
    {
      "cell_type": "markdown",
      "metadata": {
        "id": "krpoFeY_TtrG"
      },
      "source": [
        "## Check a random item!\n",
        "Let's pick one of the keys in the dictionary at random and check it. "
      ]
    },
    {
      "cell_type": "code",
      "metadata": {
        "colab": {
          "base_uri": "https://localhost:8080/"
        },
        "id": "aGBDbByaQ5zL",
        "scrolled": true,
        "outputId": "ec2e14d3-1ff3-46bb-d566-511a1fb73d68"
      },
      "source": [
        "import random\n",
        "keys_in_target_test = list(target_test.keys())\n",
        "print(type(keys_in_target_test))\n",
        "random_key = random.choice(keys_in_target_test)\n",
        "print(f\"The random key we picked was {random_key}\")"
      ],
      "execution_count": 41,
      "outputs": [
        {
          "output_type": "stream",
          "text": [
            "<class 'list'>\n",
            "The random key we picked was 382297\n"
          ],
          "name": "stdout"
        }
      ]
    },
    {
      "cell_type": "code",
      "metadata": {
        "colab": {
          "base_uri": "https://localhost:8080/",
          "height": 35
        },
        "id": "b0rjaSMyUzMt",
        "outputId": "70aa950c-6391-4745-f6c5-c95468caf850"
      },
      "source": [
        "target_test[random_key]"
      ],
      "execution_count": 42,
      "outputs": [
        {
          "output_type": "execute_result",
          "data": {
            "application/vnd.google.colaboratory.intrinsic+json": {
              "type": "string"
            },
            "text/plain": [
              "'1 , 2 .'"
            ]
          },
          "metadata": {
            "tags": []
          },
          "execution_count": 42
        }
      ]
    },
    {
      "cell_type": "code",
      "metadata": {
        "colab": {
          "base_uri": "https://localhost:8080/",
          "height": 35
        },
        "id": "_H63DagnQ5zM",
        "outputId": "3b95f2c5-1167-4598-f7e4-21aeab725c10"
      },
      "source": [
        "english_sentences_in_global_test_set[random_key]"
      ],
      "execution_count": 43,
      "outputs": [
        {
          "output_type": "execute_result",
          "data": {
            "application/vnd.google.colaboratory.intrinsic+json": {
              "type": "string"
            },
            "text/plain": [
              "'1 , 2 .'"
            ]
          },
          "metadata": {
            "tags": []
          },
          "execution_count": 43
        }
      ]
    },
    {
      "cell_type": "markdown",
      "metadata": {
        "id": "Pwuc4IlEe1TR"
      },
      "source": [
        "Do the two look like they line up? "
      ]
    },
    {
      "cell_type": "markdown",
      "metadata": {
        "id": "K5mtDXEoe9NC"
      },
      "source": [
        "## Check several rows at the tail end\n",
        "\n",
        "Let's get a sample from the end of the dataset"
      ]
    },
    {
      "cell_type": "code",
      "metadata": {
        "id": "uD7ht8dKQ5zN"
      },
      "source": [
        "target_test_set = pd.DataFrame(zip(target_test.values(), english_sentences_in_global_test_set.values()), columns=['target_equivalent', 'english_equivalent'])"
      ],
      "execution_count": 44,
      "outputs": []
    },
    {
      "cell_type": "code",
      "metadata": {
        "id": "QclpZObEQ5zN"
      },
      "source": [
        "target_test_set = target_test_set.reset_index()"
      ],
      "execution_count": 45,
      "outputs": []
    },
    {
      "cell_type": "code",
      "metadata": {
        "id": "TqPm3EDTQ5zN"
      },
      "source": [
        "target_test_set = target_test_set.set_index(\"index\")"
      ],
      "execution_count": 46,
      "outputs": []
    },
    {
      "cell_type": "code",
      "metadata": {
        "colab": {
          "base_uri": "https://localhost:8080/",
          "height": 235
        },
        "id": "LnXQ31qOQ5zO",
        "outputId": "2d0297ea-0426-4356-9c30-ba35f3483092"
      },
      "source": [
        "target_test_set.tail()"
      ],
      "execution_count": 47,
      "outputs": [
        {
          "output_type": "execute_result",
          "data": {
            "text/html": [
              "<div>\n",
              "<style scoped>\n",
              "    .dataframe tbody tr th:only-of-type {\n",
              "        vertical-align: middle;\n",
              "    }\n",
              "\n",
              "    .dataframe tbody tr th {\n",
              "        vertical-align: top;\n",
              "    }\n",
              "\n",
              "    .dataframe thead th {\n",
              "        text-align: right;\n",
              "    }\n",
              "</style>\n",
              "<table border=\"1\" class=\"dataframe\">\n",
              "  <thead>\n",
              "    <tr style=\"text-align: right;\">\n",
              "      <th></th>\n",
              "      <th>target_equivalent</th>\n",
              "      <th>english_equivalent</th>\n",
              "    </tr>\n",
              "    <tr>\n",
              "      <th>index</th>\n",
              "      <th></th>\n",
              "      <th></th>\n",
              "    </tr>\n",
              "  </thead>\n",
              "  <tbody>\n",
              "    <tr>\n",
              "      <th>6702</th>\n",
              "      <td>Sikoyo , nani aleki na mayele : moto oyo asalá...</td>\n",
              "      <td>Alors , qui est le plus intelligent : le créat...</td>\n",
              "    </tr>\n",
              "    <tr>\n",
              "      <th>6703</th>\n",
              "      <td>13 , 14 .</td>\n",
              "      <td>13 , 14 .</td>\n",
              "    </tr>\n",
              "    <tr>\n",
              "      <th>6704</th>\n",
              "      <td>Yango wana , ezali na ntina mingi ete baboti b...</td>\n",
              "      <td>C’est pour cela que c’est important que les pa...</td>\n",
              "    </tr>\n",
              "    <tr>\n",
              "      <th>6705</th>\n",
              "      <td>Tiká bana na yo bámona ete Yehova azali mpenza...</td>\n",
              "      <td>Montre - ​ leur que Jéhovah est vraiment réel ...</td>\n",
              "    </tr>\n",
              "    <tr>\n",
              "      <th>6706</th>\n",
              "      <td>Yango ekómisaki makasi kondima na ye epai ya N...</td>\n",
              "      <td>C’est excellent pour sa foi en Dieu et en la B...</td>\n",
              "    </tr>\n",
              "  </tbody>\n",
              "</table>\n",
              "</div>"
            ],
            "text/plain": [
              "                                       target_equivalent                                 english_equivalent\n",
              "index                                                                                                      \n",
              "6702   Sikoyo , nani aleki na mayele : moto oyo asalá...  Alors , qui est le plus intelligent : le créat...\n",
              "6703                                           13 , 14 .                                          13 , 14 .\n",
              "6704   Yango wana , ezali na ntina mingi ete baboti b...  C’est pour cela que c’est important que les pa...\n",
              "6705   Tiká bana na yo bámona ete Yehova azali mpenza...  Montre - ​ leur que Jéhovah est vraiment réel ...\n",
              "6706   Yango ekómisaki makasi kondima na ye epai ya N...  C’est excellent pour sa foi en Dieu et en la B..."
            ]
          },
          "metadata": {
            "tags": []
          },
          "execution_count": 47
        }
      ]
    },
    {
      "cell_type": "markdown",
      "metadata": {
        "id": "r-7KKhEcQ5zO"
      },
      "source": [
        "Removing duplicates from english and target set"
      ]
    },
    {
      "cell_type": "code",
      "metadata": {
        "id": "Y0sCRCX2Q5zO"
      },
      "source": [
        "target_test_set = target_test_set.drop_duplicates(subset='target_equivalent')"
      ],
      "execution_count": 48,
      "outputs": []
    },
    {
      "cell_type": "code",
      "metadata": {
        "id": "6biqqTgUQ5zP"
      },
      "source": [
        "target_test_set = target_test_set.drop_duplicates(subset='english_equivalent')"
      ],
      "execution_count": 49,
      "outputs": []
    },
    {
      "cell_type": "code",
      "metadata": {
        "colab": {
          "base_uri": "https://localhost:8080/",
          "height": 235
        },
        "id": "IrqizJY3Q5zQ",
        "outputId": "d1b0ae55-dac2-415a-9f49-8d42c6e85164"
      },
      "source": [
        "target_test_set.head()"
      ],
      "execution_count": 50,
      "outputs": [
        {
          "output_type": "execute_result",
          "data": {
            "text/html": [
              "<div>\n",
              "<style scoped>\n",
              "    .dataframe tbody tr th:only-of-type {\n",
              "        vertical-align: middle;\n",
              "    }\n",
              "\n",
              "    .dataframe tbody tr th {\n",
              "        vertical-align: top;\n",
              "    }\n",
              "\n",
              "    .dataframe thead th {\n",
              "        text-align: right;\n",
              "    }\n",
              "</style>\n",
              "<table border=\"1\" class=\"dataframe\">\n",
              "  <thead>\n",
              "    <tr style=\"text-align: right;\">\n",
              "      <th></th>\n",
              "      <th>target_equivalent</th>\n",
              "      <th>english_equivalent</th>\n",
              "    </tr>\n",
              "    <tr>\n",
              "      <th>index</th>\n",
              "      <th></th>\n",
              "      <th></th>\n",
              "    </tr>\n",
              "  </thead>\n",
              "  <tbody>\n",
              "    <tr>\n",
              "      <th>0</th>\n",
              "      <td>Mpo na nini ?</td>\n",
              "      <td>Pourquoi ?</td>\n",
              "    </tr>\n",
              "    <tr>\n",
              "      <th>1</th>\n",
              "      <td>Oyo ezali mobeko moleki monene mpe oyo na libo...</td>\n",
              "      <td>C’est là le plus grand et le premier commandem...</td>\n",
              "    </tr>\n",
              "    <tr>\n",
              "      <th>6</th>\n",
              "      <td>Lamuká !</td>\n",
              "      <td>Réveillez - vous !</td>\n",
              "    </tr>\n",
              "    <tr>\n",
              "      <th>11</th>\n",
              "      <td>Sapolsky mpe E .</td>\n",
              "      <td>Non .</td>\n",
              "    </tr>\n",
              "    <tr>\n",
              "      <th>18</th>\n",
              "      <td>Oyo ezali mobeko moleki monene mpe ya liboso .</td>\n",
              "      <td>’ C’est là le plus grand et le premier command...</td>\n",
              "    </tr>\n",
              "  </tbody>\n",
              "</table>\n",
              "</div>"
            ],
            "text/plain": [
              "                                       target_equivalent                                 english_equivalent\n",
              "index                                                                                                      \n",
              "0                                          Mpo na nini ?                                         Pourquoi ?\n",
              "1      Oyo ezali mobeko moleki monene mpe oyo na libo...  C’est là le plus grand et le premier commandem...\n",
              "6                                               Lamuká !                                 Réveillez - vous !\n",
              "11                                      Sapolsky mpe E .                                              Non .\n",
              "18        Oyo ezali mobeko moleki monene mpe ya liboso .  ’ C’est là le plus grand et le premier command..."
            ]
          },
          "metadata": {
            "tags": []
          },
          "execution_count": 50
        }
      ]
    },
    {
      "cell_type": "code",
      "metadata": {
        "colab": {
          "base_uri": "https://localhost:8080/"
        },
        "id": "TJDI9P-LQ5zS",
        "outputId": "3460a0d1-2433-445b-f96b-8d5384ea72e1"
      },
      "source": [
        "target_test_set.shape"
      ],
      "execution_count": 51,
      "outputs": [
        {
          "output_type": "execute_result",
          "data": {
            "text/plain": [
              "(2933, 2)"
            ]
          },
          "metadata": {
            "tags": []
          },
          "execution_count": 51
        }
      ]
    },
    {
      "cell_type": "code",
      "metadata": {
        "colab": {
          "base_uri": "https://localhost:8080/",
          "height": 80
        },
        "id": "jyWb1BPsQ5zT",
        "outputId": "4dd9cf34-0741-4e3a-f2e4-c3c336540eb9"
      },
      "source": [
        "target_test_set.loc[~target_test_set.english_equivalent.isin(en_test_sents)]"
      ],
      "execution_count": 52,
      "outputs": [
        {
          "output_type": "execute_result",
          "data": {
            "text/html": [
              "<div>\n",
              "<style scoped>\n",
              "    .dataframe tbody tr th:only-of-type {\n",
              "        vertical-align: middle;\n",
              "    }\n",
              "\n",
              "    .dataframe tbody tr th {\n",
              "        vertical-align: top;\n",
              "    }\n",
              "\n",
              "    .dataframe thead th {\n",
              "        text-align: right;\n",
              "    }\n",
              "</style>\n",
              "<table border=\"1\" class=\"dataframe\">\n",
              "  <thead>\n",
              "    <tr style=\"text-align: right;\">\n",
              "      <th></th>\n",
              "      <th>target_equivalent</th>\n",
              "      <th>english_equivalent</th>\n",
              "    </tr>\n",
              "    <tr>\n",
              "      <th>index</th>\n",
              "      <th></th>\n",
              "      <th></th>\n",
              "    </tr>\n",
              "  </thead>\n",
              "  <tbody>\n",
              "  </tbody>\n",
              "</table>\n",
              "</div>"
            ],
            "text/plain": [
              "Empty DataFrame\n",
              "Columns: [target_equivalent, english_equivalent]\n",
              "Index: []"
            ]
          },
          "metadata": {
            "tags": []
          },
          "execution_count": 52
        }
      ]
    },
    {
      "cell_type": "markdown",
      "metadata": {
        "id": "iFBOZerTjxSI"
      },
      "source": [
        "## Write out target-language test set file\n",
        "In our example, we should have `test.ln-any.ln`, but it will be different for you if you picked a different code."
      ]
    },
    {
      "cell_type": "code",
      "metadata": {
        "colab": {
          "base_uri": "https://localhost:8080/"
        },
        "id": "C6zxiOfdVab2",
        "outputId": "cf1bed3e-8615-47b2-f3d5-83bec32444f9"
      },
      "source": [
        "target_test_filename = f\"test.{target_language}-any.{target_language}\"\n",
        "print(target_test_filename)"
      ],
      "execution_count": 53,
      "outputs": [
        {
          "output_type": "stream",
          "text": [
            "test.ln-any.ln\n"
          ],
          "name": "stdout"
        }
      ]
    },
    {
      "cell_type": "markdown",
      "metadata": {
        "id": "3LXXXfwjfZQq"
      },
      "source": [
        "## Write out English-language test set file\n",
        "In our example, we should have `test.fr-ln.fr`, but it will be different for you if you picked a different code.\n",
        "\n",
        "**Make sure the data lines up in the two files!**\n",
        "The first line of each file should be translations of each other.\n"
      ]
    },
    {
      "cell_type": "code",
      "metadata": {
        "id": "CpFWMOhdQ5zU"
      },
      "source": [
        "\n",
        "with open(target_test_filename, \"w\") as test_tgt_any_tgt:\n",
        "    test_tgt_any_tgt.write(\"\\n\".join(target_test_set.target_equivalent))"
      ],
      "execution_count": 54,
      "outputs": []
    },
    {
      "cell_type": "code",
      "metadata": {
        "colab": {
          "base_uri": "https://localhost:8080/"
        },
        "id": "cnZUf97gQ5zV",
        "outputId": "804c39f8-c522-4e2d-b34c-72394a48d7cc"
      },
      "source": [
        "!head -5 test.$tgt-any.$tgt"
      ],
      "execution_count": 55,
      "outputs": [
        {
          "output_type": "stream",
          "text": [
            "Mpo na nini ?\n",
            "Oyo ezali mobeko moleki monene mpe oyo na liboso .\n",
            "Lamuká !\n",
            "Sapolsky mpe E .\n",
            "Oyo ezali mobeko moleki monene mpe ya liboso .\n"
          ],
          "name": "stdout"
        }
      ]
    },
    {
      "cell_type": "code",
      "metadata": {
        "colab": {
          "base_uri": "https://localhost:8080/"
        },
        "id": "HZ93jNULQ5zV",
        "outputId": "a0db378a-245a-4770-8c9a-29b6cda7475e"
      },
      "source": [
        "source_test_filename = f\"test.fr-{target_language}.fr\"\n",
        "print(f\"saving english aligned sentences to {source_test_filename}\")\n",
        "with open(source_test_filename, \"w\") as test_en_tgt_en:\n",
        "    test_en_tgt_en.write(\"\\n\".join(target_test_set.english_equivalent))\n",
        "!ls -al"
      ],
      "execution_count": 56,
      "outputs": [
        {
          "output_type": "stream",
          "text": [
            "saving english aligned sentences to test.fr-ln.fr\n",
            "total 576272\n",
            "drwxr-xr-x 1 root root      4096 Jul 20 14:49 .\n",
            "drwxr-xr-x 1 root root      4096 Jul 20 14:30 ..\n",
            "drwxr-xr-x 4 root root      4096 Jul 16 13:19 .config\n",
            "drwx------ 6 root root      4096 Jul 20 14:31 drive\n",
            "drwxr-xr-x 2 root root      4096 Jul 20 14:46 fr-ln-baseline\n",
            "drwxr-xr-x 2 root root      4096 Jul 20 14:33 fr-lua-baseline\n",
            "-rw-r--r-- 1 root root  62642691 Jul 20 14:49 jw300.fr\n",
            "-rw-r--r-- 1 root root  34104082 Jul 20 14:46 JW300_latest_xml_fr-ln.xml\n",
            "-rw-r--r-- 1 root root  18757876 Jul 20 14:34 JW300_latest_xml_fr-lua.xml\n",
            "-rw-r--r-- 1 root root 285126296 Jul 20 14:47 JW300_latest_xml_fr.zip\n",
            "-rw-r--r-- 1 root root  61546014 Jul 20 14:47 JW300_latest_xml_ln.zip\n",
            "-rw-r--r-- 1 root root  32608568 Jul 20 14:34 JW300_latest_xml_lua.zip\n",
            "-rw-r--r-- 1 root root  61075229 Jul 20 14:49 jw300.ln\n",
            "-rw-r--r-- 1 root root  32756386 Jul 20 14:36 jw300.lua\n",
            "drwxr-xr-x 1 root root      4096 Jul 16 13:20 sample_data\n",
            "-rw-r--r-- 1 root root    377235 Jul 20 14:49 test.fr-any.fr\n",
            "-rw-r--r-- 1 root root    268922 Jul 20 14:49 test.fr-ln.fr\n",
            "-rw-r--r-- 1 root root    259585 Jul 20 14:37 test.fr-lua.fr\n",
            "-rw-r--r-- 1 root root    259242 Jul 20 14:49 test.ln-any.ln\n",
            "-rw-r--r-- 1 root root    256860 Jul 20 14:37 test.lua-any.lua\n"
          ],
          "name": "stdout"
        }
      ]
    },
    {
      "cell_type": "code",
      "metadata": {
        "colab": {
          "base_uri": "https://localhost:8080/"
        },
        "id": "zKW2y01hbOyc",
        "outputId": "6f84423e-3075-4830-d844-2dcbeea8e27e"
      },
      "source": [
        "!head -5 test.fr-$tgt.fr"
      ],
      "execution_count": 57,
      "outputs": [
        {
          "output_type": "stream",
          "text": [
            "Pourquoi ?\n",
            "C’est là le plus grand et le premier commandement .\n",
            "Réveillez - vous !\n",
            "Non .\n",
            "’ C’est là le plus grand et le premier commandement .\n"
          ],
          "name": "stdout"
        }
      ]
    },
    {
      "cell_type": "markdown",
      "metadata": {
        "id": "kr79AnMtfxyQ"
      },
      "source": [
        "## One last check to see if the two files are aligned\n",
        "\n",
        "Let's just get one more sample! Let's take from the end this time"
      ]
    },
    {
      "cell_type": "code",
      "metadata": {
        "colab": {
          "base_uri": "https://localhost:8080/"
        },
        "id": "gvmVNumtf3sC",
        "outputId": "cb9319e0-1dfe-4c94-96d0-5a7a7fe9d38e"
      },
      "source": [
        "!echo \"test.fr-$tgt.fr\"\n",
        "!tail -5 test.fr-$tgt.fr\n",
        "!echo\n",
        "!echo \"**********************\"\n",
        "!echo \"test.$tgt-any.$tgt\"\n",
        "!echo \"**********************\"\n",
        "!tail -5 test.$tgt-any.$tgt"
      ],
      "execution_count": 58,
      "outputs": [
        {
          "output_type": "stream",
          "text": [
            "test.fr-ln.fr\n",
            "Et qu’est - ​ ce qui est plus joli : le bruit d’un avion ou le chant d’un oiseau ?\n",
            "Alors , qui est le plus intelligent : le créateur des avions ou le Créateur des oiseaux ?\n",
            "C’est pour cela que c’est important que les parents n’arrêtent jamais d’enseigner .\n",
            "Montre - ​ leur que Jéhovah est vraiment réel pour toi .\n",
            "C’est excellent pour sa foi en Dieu et en la Bible . »\n",
            "**********************\n",
            "test.ln-any.ln\n",
            "**********************\n",
            "Mpe okoloba nini mpo na makɛlɛlɛ ya mpɛpɔ ná koyemba ya ndɛkɛ ?\n",
            "Sikoyo , nani aleki na mayele : moto oyo asalá mpɛpɔ to Mozalisi ya bandɛkɛ ? ”\n",
            "Yango wana , ezali na ntina mingi ete baboti bákoba koteya bana na bango . ”\n",
            "Tiká bana na yo bámona ete Yehova azali mpenza solo na miso na yo .\n",
            "Yango ekómisaki makasi kondima na ye epai ya Nzambe mpe na Biblia . ”"
          ],
          "name": "stdout"
        }
      ]
    },
    {
      "cell_type": "code",
      "metadata": {
        "id": "P2miJypOj0rg"
      },
      "source": [
        ""
      ],
      "execution_count": null,
      "outputs": []
    }
  ]
}