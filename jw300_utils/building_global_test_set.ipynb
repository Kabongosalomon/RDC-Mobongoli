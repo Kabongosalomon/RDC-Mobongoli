{
  "nbformat": 4,
  "nbformat_minor": 0,
  "metadata": {
    "colab": {
      "name": "building_global_test_set.ipynb",
      "provenance": [],
      "collapsed_sections": [],
      "include_colab_link": true
    },
    "kernelspec": {
      "display_name": "Python 3 (ipykernel)",
      "language": "python",
      "name": "python3"
    },
    "language_info": {
      "codemirror_mode": {
        "name": "ipython",
        "version": 3
      },
      "file_extension": ".py",
      "mimetype": "text/x-python",
      "name": "python",
      "nbconvert_exporter": "python",
      "pygments_lexer": "ipython3",
      "version": "3.7.10"
    }
  },
  "cells": [
    {
      "cell_type": "markdown",
      "metadata": {
        "id": "view-in-github",
        "colab_type": "text"
      },
      "source": [
        "<a href=\"https://colab.research.google.com/github/Kabongosalomon/RDC-Mobongoli/blob/main/jw300_utils/building_global_test_set.ipynb\" target=\"_parent\"><img src=\"https://colab.research.google.com/assets/colab-badge.svg\" alt=\"Open In Colab\"/></a>"
      ]
    },
    {
      "cell_type": "code",
      "metadata": {
        "colab": {
          "base_uri": "https://localhost:8080/"
        },
        "id": "wH8AJ3OAVBpF",
        "outputId": "1a34bf98-36ba-41aa-db0a-454ec26577e5"
      },
      "source": [
        "from google.colab import drive\n",
        "drive.mount('/content/drive')"
      ],
      "execution_count": 1,
      "outputs": [
        {
          "output_type": "stream",
          "text": [
            "Mounted at /content/drive\n"
          ],
          "name": "stdout"
        }
      ]
    },
    {
      "cell_type": "markdown",
      "metadata": {
        "id": "yLIkGn6RQ5yg"
      },
      "source": [
        "### Setting Up the data"
      ]
    },
    {
      "cell_type": "markdown",
      "metadata": {
        "id": "P_uBo3H6Q5yr"
      },
      "source": [
        "Downloading the global test set is simple,\n",
        "we need to set english and your target as source and target language, then we find the intersection of the english test set with the target corpus after that we get the corresponding target sentences from the target corpus."
      ]
    },
    {
      "cell_type": "code",
      "metadata": {
        "id": "4rdvcs5aRVbf"
      },
      "source": [
        "%%capture\n",
        "!pip install opustools-pkg"
      ],
      "execution_count": 2,
      "outputs": []
    },
    {
      "cell_type": "markdown",
      "metadata": {
        "id": "FG5qoTCkdyCy"
      },
      "source": [
        "# SET THE LANGUAGE CODE and other variables.\n",
        "\n",
        "You need to change the value below for your language!\n",
        "\n",
        "The language codes from the [JW300 corpus website](https://object.pouta.csc.fi/OPUS-JW300/v1/languages.json) are: \n",
        "```\n",
        "{\n",
        "    \"language\": \"French - Français\",\n",
        "    \"language_en\": \"French\",\n",
        "    \"language_native\": \"Français\",\n",
        "    \"language_short\": \"fr\",\n",
        "    \"url\": \"https://wol.jw.org/fr/wol/pref/r30/lp-f?newrsconf=r30&newlib=lp-f&url=\"\n",
        "}, \n",
        "\n",
        "{\n",
        "    \"language\": \"Lingala - Lingala\",\n",
        "    \"language_en\": \"Lingala\",\n",
        "    \"language_native\": \"Lingala\",\n",
        "    \"language_short\": \"ln\",\n",
        "    \"url\": \"https://wol.jw.org/ln/wol/pref/r126/lp-li?newrsconf=r126&newlib=lp-li&url=\"\n",
        "},\n",
        "\n",
        "{\n",
        "    \"language\": \"Tshiluba - Tshiluba\",\n",
        "    \"language_en\": \"Tshiluba\",\n",
        "    \"language_native\": \"Tshiluba\",\n",
        "    \"language_short\": \"lua\",\n",
        "    \"url\": \"https://wol.jw.org/lua/wol/pref/r477/lp-sh?newrsconf=r477&newlib=lp-sh&url=\"\n",
        "},\n",
        "\n",
        "{\n",
        "    \"language\": \"Kikongo - Kikongo\",\n",
        "    \"language_en\": \"Kikongo\",\n",
        "    \"language_native\": \"Kikongo\",\n",
        "    \"language_short\": \"kwy\",\n",
        "    \"url\": \"https://wol.jw.org/kwy/wol/pref/r128/lp-kg?newrsconf=r128&newlib=lp-kg&url=\"\n",
        "},\n",
        "\n",
        "{\n",
        "    \"language\": \"Swahili (Congo) - Kiswahili (Congo)\",\n",
        "    \"language_en\": \"Swahili (Congo)\",\n",
        "    \"language_native\": \"Kiswahili (Congo)\",\n",
        "    \"language_short\": \"swc\",\n",
        "    \"url\": \"https://wol.jw.org/swc/wol/pref/r143/lp-zs?newrsconf=r143&newlib=lp-zs&url=\"\n",
        "  },\n",
        "```\n",
        "Already-created test sets: https://raw.githubusercontent.com/ai-drc/RDC-Mobongoli/main/jw300_utils/test/"
      ]
    },
    {
      "cell_type": "code",
      "metadata": {
        "id": "EhNiQZplQ5yt"
      },
      "source": [
        "import os\n",
        "source_language = \"ln\"\n",
        "target_language = \"lua\" # TODO: CHANGE THIS TO YOUR LANGUAGE! \"ha\" is hausa. See the language codes at https://opus.nlpl.eu/JW300.php\n",
        "lc = False  # If True, lowercase the data.\n",
        "seed = 42  # Random seed for shuffling.|\n",
        "tag = \"baseline\" # Give a unique name to your folder - this is to ensure you don't rewrite any models you've already submitted\n",
        "\n",
        "os.environ[\"src\"] = source_language # Sets them in bash as well, since we often use bash scripts\n",
        "os.environ[\"tgt\"] = target_language\n",
        "os.environ[\"tag\"] = tag\n",
        "\n",
        "# No need to use gdrive since we are training on gcp\n",
        "!mkdir -p \"$src-$tgt-$tag\"\n",
        "os.environ[\"gdrive_path\"] = \"%s-%s-%s\" % (source_language, target_language, tag) # saving directly on the vm"
      ],
      "execution_count": 3,
      "outputs": []
    },
    {
      "cell_type": "code",
      "metadata": {
        "colab": {
          "base_uri": "https://localhost:8080/"
        },
        "id": "RExQ_q-vQ5yy",
        "outputId": "8e5b1bd3-572b-4eb2-afbd-f83ea2a52fdb"
      },
      "source": [
        "!echo $gdrive_path"
      ],
      "execution_count": 4,
      "outputs": [
        {
          "output_type": "stream",
          "text": [
            "ln-lua-baseline\n"
          ],
          "name": "stdout"
        }
      ]
    },
    {
      "cell_type": "markdown",
      "metadata": {
        "id": "6C760IqtQ5y0"
      },
      "source": [
        "#### Downloading the corpus data"
      ]
    },
    {
      "cell_type": "markdown",
      "metadata": {
        "id": "x1jEhHm8Q5y1"
      },
      "source": [
        "for precaution , am removing the old data"
      ]
    },
    {
      "cell_type": "code",
      "metadata": {
        "id": "XQBYlyBSQ5y3"
      },
      "source": [
        "!rm -f w300.$src jw300.$tgt JW300_latest_xml_$src-$tgt.xml.gz JW300_latest_xml_$src-$tgt.xml JW300_latest_xml_$src.zip  JW300_latest_xml_$tgt.zip test.fr-any.fr"
      ],
      "execution_count": 5,
      "outputs": []
    },
    {
      "cell_type": "code",
      "metadata": {
        "colab": {
          "base_uri": "https://localhost:8080/"
        },
        "id": "W2bhVsAEQ5y4",
        "scrolled": true,
        "outputId": "3ff2c457-c06e-4759-9dcf-77c9e997b1fc"
      },
      "source": [
        "# Downloading our corpus\n",
        "! opus_read -d JW300 -s $src -t $tgt -wm moses -w jw300.$src jw300.$tgt -q\n",
        "\n",
        "# extract the corpus file\n",
        "! gunzip JW300_latest_xml_$src-$tgt.xml.gz"
      ],
      "execution_count": 6,
      "outputs": [
        {
          "output_type": "stream",
          "text": [
            "\n",
            "Alignment file /proj/nlpl/data/OPUS/JW300/latest/xml/ln-lua.xml.gz not found. The following files are available for downloading:\n",
            "\n",
            "   3 MB https://object.pouta.csc.fi/OPUS-JW300/v1b/xml/ln-lua.xml.gz\n",
            "  60 MB https://object.pouta.csc.fi/OPUS-JW300/v1b/xml/ln.zip\n",
            "  32 MB https://object.pouta.csc.fi/OPUS-JW300/v1b/xml/lua.zip\n",
            "\n",
            "  95 MB Total size\n",
            "./JW300_latest_xml_ln-lua.xml.gz ... 100% of 3 MB\n",
            "./JW300_latest_xml_ln.zip ... 100% of 60 MB\n",
            "./JW300_latest_xml_lua.zip ... 100% of 32 MB\n"
          ],
          "name": "stdout"
        }
      ]
    },
    {
      "cell_type": "code",
      "metadata": {
        "colab": {
          "base_uri": "https://localhost:8080/"
        },
        "id": "AdJrG4SmQ5y7",
        "outputId": "522688f4-233f-44c3-efef-f01693a0a0d3"
      },
      "source": [
        "! wget https://raw.githubusercontent.com/ai-drc/RDC-Mobongoli/main/jw300_utils/test/test.$src-any.$src\n",
        "\n",
        "  \n",
        "# And the specific test set for this language pair.\n",
        "os.environ[\"trg\"] = target_language \n",
        "os.environ[\"src\"] = source_language "
      ],
      "execution_count": 7,
      "outputs": [
        {
          "output_type": "stream",
          "text": [
            "--2021-07-20 15:31:15--  https://raw.githubusercontent.com/ai-drc/RDC-Mobongoli/main/jw300_utils/test/test.ln-any.ln\n",
            "Resolving raw.githubusercontent.com (raw.githubusercontent.com)... 185.199.108.133, 185.199.109.133, 185.199.110.133, ...\n",
            "Connecting to raw.githubusercontent.com (raw.githubusercontent.com)|185.199.108.133|:443... connected.\n",
            "HTTP request sent, awaiting response... 200 OK\n",
            "Length: 259242 (253K) [text/plain]\n",
            "Saving to: ‘test.ln-any.ln’\n",
            "\n",
            "test.ln-any.ln      100%[===================>] 253.17K  --.-KB/s    in 0.05s   \n",
            "\n",
            "2021-07-20 15:31:15 (4.62 MB/s) - ‘test.ln-any.ln’ saved [259242/259242]\n",
            "\n"
          ],
          "name": "stdout"
        }
      ]
    },
    {
      "cell_type": "code",
      "metadata": {
        "colab": {
          "base_uri": "https://localhost:8080/"
        },
        "id": "-XLatU0iQ5y8",
        "outputId": "65527475-646d-4312-b0d3-06844e008afa"
      },
      "source": [
        "# Read the test data to filter from train and dev splits.\n",
        "# Store english portion in set for quick filtering checks.\n",
        "en_test_sents = set()\n",
        "filter_test_sents = f\"test.{source_language}-any.{source_language}\"\n",
        "j = 0\n",
        "with open(filter_test_sents) as f:\n",
        "  for line in f:\n",
        "    en_test_sents.add(line.strip())\n",
        "    j += 1\n",
        "print('Loaded {} global test sentences to filter from the training/dev data.'.format(j))"
      ],
      "execution_count": 8,
      "outputs": [
        {
          "output_type": "stream",
          "text": [
            "Loaded 2933 global test sentences to filter from the training/dev data.\n"
          ],
          "name": "stdout"
        }
      ]
    },
    {
      "cell_type": "code",
      "metadata": {
        "colab": {
          "base_uri": "https://localhost:8080/"
        },
        "id": "ydypbA7LQ5y-",
        "outputId": "92db6488-8a08-4136-9cdc-f435624d78fb"
      },
      "source": [
        "!ls"
      ],
      "execution_count": 9,
      "outputs": [
        {
          "output_type": "stream",
          "text": [
            "drive\t\t\t     JW300_latest_xml_lua.zip  ln-lua-baseline\n",
            "JW300_latest_xml_ln-lua.xml  jw300.ln\t\t       sample_data\n",
            "JW300_latest_xml_ln.zip      jw300.lua\t\t       test.ln-any.ln\n"
          ],
          "name": "stdout"
        }
      ]
    },
    {
      "cell_type": "markdown",
      "metadata": {
        "id": "mTsD-Ta1Q5zD"
      },
      "source": [
        "#### Building the corpus"
      ]
    },
    {
      "cell_type": "markdown",
      "metadata": {
        "id": "8I8fMRRrQ5zF"
      },
      "source": [
        "In the 2 cells below you can check if the 2 datasets are aligned. Even if you don't speak the language you can get a sense, especially with similar words, punctuation, and so forth."
      ]
    },
    {
      "cell_type": "code",
      "metadata": {
        "colab": {
          "base_uri": "https://localhost:8080/"
        },
        "id": "UHpOmS0xQ5zF",
        "scrolled": true,
        "outputId": "8d17d446-f0a2-4e4e-f30e-f1e4983bf343"
      },
      "source": [
        "! head -5 jw300.$src"
      ],
      "execution_count": 10,
      "outputs": [
        {
          "output_type": "stream",
          "text": [
            "Nsango malamu esengeli kosakolama\n",
            "LIBOSO bábimisa telegrame , bansango ya mosika ezalaki koumela mingi mpo ekóma , mpe ezalaki kokóma na mpasi , na kotalela ntaka mpe lolenge ya nzela .\n",
            "Tózwa ndakisa ya Ba - Incas , oyo bazalaki na Ampire moko monene na Amerika ya Sudi .\n",
            "Na nsuka ya bambula 1400 mpe na ebandeli ya bambula ya 1500 , ntango Ampire yango ekómaki na nguya mingi , mokili na yango esangisaki bisika oyo ezali lelo oyo Argentine , Bolivie , Chili , Colombie , Équateur mpe Pérou , epai Cuzco , mboka mokonzi ya Ampire yango ezalaki .\n",
            "Bangomba milaimilai , bazamba ya mineneminene mpe bantaka milaimilai ezalaki kokómisa mibembo mpasi .\n"
          ],
          "name": "stdout"
        }
      ]
    },
    {
      "cell_type": "code",
      "metadata": {
        "colab": {
          "base_uri": "https://localhost:8080/"
        },
        "id": "mgPwLbD8Q5zG",
        "outputId": "c472eccb-031a-4e44-b8c7-8ac28e8d0685"
      },
      "source": [
        "! head -5 jw300.$tgt"
      ],
      "execution_count": 11,
      "outputs": [
        {
          "output_type": "stream",
          "text": [
            "Mukenji udi anu ne bua kufika !\n",
            "KUMPALA kua kupatulabu biamu bia telefone ya kale , kuvua lutatu lukole bua kufikisha mukenji kampanda kudi bantu ba miaba ya kule pa lukasa bua mishindu ivua bantu benza ngendu ne bua njila .\n",
            "Tshilejilu , mona lutatu luvua nalu bena Inca mu buloba buabu bunene bua mu Amerike wa ku Sud .\n",
            "Ku ndekelu kua bidimu bia 1400 ne ku ntuadijilu kua bidimu bia 1500 , dîba divua bukalenge bua bena Inca butante bikole , buvua bukuate miaba idi lelu ditunga dia Argentine , dia Bolivie , dia Chili , dia Colombie , dia Équateur ne dia Pérou , muaba uvua tshimenga tshiabu tshikulu tshia Cuzco .\n",
            "Bantu bavua ne lutatu lua kuendakana , bualu njila ivua ne mikuna mipite bule milondangane , ne metu malabale ne ntanta ivua mipite bule .\n"
          ],
          "name": "stdout"
        }
      ]
    },
    {
      "cell_type": "code",
      "metadata": {
        "colab": {
          "base_uri": "https://localhost:8080/",
          "height": 376
        },
        "id": "IlJP5HzhQ5zJ",
        "outputId": "5228e43d-e2ee-49a2-dd64-28f52b9ee67e"
      },
      "source": [
        "import pandas as pd\n",
        "\n",
        "# TMX file to dataframe\n",
        "source_file = 'jw300.' + source_language  ## source language is english\n",
        "target_file = 'jw300.' + target_language ## Target is whatever you set. For our example it was ha, so jw300.ha\n",
        "target_test = {}\n",
        "source = []\n",
        "target = []\n",
        "english_sentences_in_global_test_set = {}  # Collect the line numbers of the source portion to skip the same lines for the target portion.\n",
        "with open(source_file) as src_f:\n",
        "    for i, line in enumerate(src_f):\n",
        "        # Skip sentences that are contained in the test set and add them into the new frencg test\n",
        "        if line.strip() not in en_test_sents:\n",
        "            source.append(line.strip())\n",
        "        else:\n",
        "            # Here is the intersection with the global test set\n",
        "            english_sentences_in_global_test_set[i] = line.strip()           \n",
        "with open(target_file) as f:\n",
        "    for j, line in enumerate(f):\n",
        "        # Only add to corpus if corresponding source was not skipped.\n",
        "        if j not in english_sentences_in_global_test_set.keys():\n",
        "            target.append(line.strip())\n",
        "        else:\n",
        "            #Collecting the aligned test sentences\n",
        "            target_test[j] = line.strip()\n",
        "    \n",
        "print('Loaded data and skipped {}/{} lines since contained in test set.'.format(len(english_sentences_in_global_test_set.keys()), i))\n",
        "    \n",
        "df = pd.DataFrame(zip(source, target), columns=['source_sentence', 'target_sentence'])\n",
        "# if you get TypeError: data argument can't be an iterator is because of your zip version run this below\n",
        "#df = pd.DataFrame(list(zip(source, target)), columns=['source_sentence', 'target_sentence'])\n",
        "df.head(10)"
      ],
      "execution_count": 12,
      "outputs": [
        {
          "output_type": "stream",
          "text": [
            "Loaded data and skipped 8170/318244 lines since contained in test set.\n"
          ],
          "name": "stdout"
        },
        {
          "output_type": "execute_result",
          "data": {
            "text/html": [
              "<div>\n",
              "<style scoped>\n",
              "    .dataframe tbody tr th:only-of-type {\n",
              "        vertical-align: middle;\n",
              "    }\n",
              "\n",
              "    .dataframe tbody tr th {\n",
              "        vertical-align: top;\n",
              "    }\n",
              "\n",
              "    .dataframe thead th {\n",
              "        text-align: right;\n",
              "    }\n",
              "</style>\n",
              "<table border=\"1\" class=\"dataframe\">\n",
              "  <thead>\n",
              "    <tr style=\"text-align: right;\">\n",
              "      <th></th>\n",
              "      <th>source_sentence</th>\n",
              "      <th>target_sentence</th>\n",
              "    </tr>\n",
              "  </thead>\n",
              "  <tbody>\n",
              "    <tr>\n",
              "      <th>0</th>\n",
              "      <td>Nsango malamu esengeli kosakolama</td>\n",
              "      <td>Mukenji udi anu ne bua kufika !</td>\n",
              "    </tr>\n",
              "    <tr>\n",
              "      <th>1</th>\n",
              "      <td>LIBOSO bábimisa telegrame , bansango ya mosika...</td>\n",
              "      <td>KUMPALA kua kupatulabu biamu bia telefone ya k...</td>\n",
              "    </tr>\n",
              "    <tr>\n",
              "      <th>2</th>\n",
              "      <td>Tózwa ndakisa ya Ba - Incas , oyo bazalaki na ...</td>\n",
              "      <td>Tshilejilu , mona lutatu luvua nalu bena Inca ...</td>\n",
              "    </tr>\n",
              "    <tr>\n",
              "      <th>3</th>\n",
              "      <td>Na nsuka ya bambula 1400 mpe na ebandeli ya ba...</td>\n",
              "      <td>Ku ndekelu kua bidimu bia 1400 ne ku ntuadijil...</td>\n",
              "    </tr>\n",
              "    <tr>\n",
              "      <th>4</th>\n",
              "      <td>Bangomba milaimilai , bazamba ya mineneminene ...</td>\n",
              "      <td>Bantu bavua ne lutatu lua kuendakana , bualu n...</td>\n",
              "    </tr>\n",
              "    <tr>\n",
              "      <th>5</th>\n",
              "      <td>Longola yango , Ba - Incas bazalaki na banyama...</td>\n",
              "      <td>Kabidi pa kumbusha nyama ya Iama ( mienze bu m...</td>\n",
              "    </tr>\n",
              "    <tr>\n",
              "      <th>6</th>\n",
              "      <td>Kasi ndenge nini bazalaki kotindelana bansango...</td>\n",
              "      <td>Kadi mmunyi muvuabu bafika ku dimanyishangana ...</td>\n",
              "    </tr>\n",
              "    <tr>\n",
              "      <th>7</th>\n",
              "      <td>Ba - Incas bakómisaki monɔkɔ na bango , Quechu...</td>\n",
              "      <td>Bena Inca bakavuija muakulu wa Quechua muakulu...</td>\n",
              "    </tr>\n",
              "    <tr>\n",
              "      <th>8</th>\n",
              "      <td>Basalaki mpe babalabala ebele .</td>\n",
              "      <td>Bakenza kabidi njila ya bungi .</td>\n",
              "    </tr>\n",
              "    <tr>\n",
              "      <th>9</th>\n",
              "      <td>Balabala na bango ya monene , oyo elekaki na m...</td>\n",
              "      <td>Njila wabu mutambe bunene uvua ne bule bua kil...</td>\n",
              "    </tr>\n",
              "  </tbody>\n",
              "</table>\n",
              "</div>"
            ],
            "text/plain": [
              "                                     source_sentence                                    target_sentence\n",
              "0                  Nsango malamu esengeli kosakolama                    Mukenji udi anu ne bua kufika !\n",
              "1  LIBOSO bábimisa telegrame , bansango ya mosika...  KUMPALA kua kupatulabu biamu bia telefone ya k...\n",
              "2  Tózwa ndakisa ya Ba - Incas , oyo bazalaki na ...  Tshilejilu , mona lutatu luvua nalu bena Inca ...\n",
              "3  Na nsuka ya bambula 1400 mpe na ebandeli ya ba...  Ku ndekelu kua bidimu bia 1400 ne ku ntuadijil...\n",
              "4  Bangomba milaimilai , bazamba ya mineneminene ...  Bantu bavua ne lutatu lua kuendakana , bualu n...\n",
              "5  Longola yango , Ba - Incas bazalaki na banyama...  Kabidi pa kumbusha nyama ya Iama ( mienze bu m...\n",
              "6  Kasi ndenge nini bazalaki kotindelana bansango...  Kadi mmunyi muvuabu bafika ku dimanyishangana ...\n",
              "7  Ba - Incas bakómisaki monɔkɔ na bango , Quechu...  Bena Inca bakavuija muakulu wa Quechua muakulu...\n",
              "8                    Basalaki mpe babalabala ebele .                    Bakenza kabidi njila ya bungi .\n",
              "9  Balabala na bango ya monene , oyo elekaki na m...  Njila wabu mutambe bunene uvua ne bule bua kil..."
            ]
          },
          "metadata": {
            "tags": []
          },
          "execution_count": 12
        }
      ]
    },
    {
      "cell_type": "markdown",
      "metadata": {
        "id": "krpoFeY_TtrG"
      },
      "source": [
        "## Check a random item!\n",
        "Let's pick one of the keys in the dictionary at random and check it. "
      ]
    },
    {
      "cell_type": "code",
      "metadata": {
        "colab": {
          "base_uri": "https://localhost:8080/"
        },
        "id": "aGBDbByaQ5zL",
        "scrolled": true,
        "outputId": "c389ec64-4a67-497f-a2ec-67c407df6ab6"
      },
      "source": [
        "import random\n",
        "keys_in_target_test = list(target_test.keys())\n",
        "print(type(keys_in_target_test))\n",
        "random_key = random.choice(keys_in_target_test)\n",
        "print(f\"The random key we picked was {random_key}\")"
      ],
      "execution_count": 13,
      "outputs": [
        {
          "output_type": "stream",
          "text": [
            "<class 'list'>\n",
            "The random key we picked was 313135\n"
          ],
          "name": "stdout"
        }
      ]
    },
    {
      "cell_type": "code",
      "metadata": {
        "colab": {
          "base_uri": "https://localhost:8080/",
          "height": 35
        },
        "id": "b0rjaSMyUzMt",
        "outputId": "faac0b36-ca53-417c-c4be-bbc20cbbec1e"
      },
      "source": [
        "target_test[random_key]"
      ],
      "execution_count": 14,
      "outputs": [
        {
          "output_type": "execute_result",
          "data": {
            "application/vnd.google.colaboratory.intrinsic+json": {
              "type": "string"
            },
            "text/plain": [
              "'Mmunyi mutudi mu buobumue patudi tuyisha lumu luimpe ?'"
            ]
          },
          "metadata": {
            "tags": []
          },
          "execution_count": 14
        }
      ]
    },
    {
      "cell_type": "code",
      "metadata": {
        "colab": {
          "base_uri": "https://localhost:8080/",
          "height": 35
        },
        "id": "_H63DagnQ5zM",
        "outputId": "2a25116f-43a3-442b-ed1b-171604829150"
      },
      "source": [
        "english_sentences_in_global_test_set[random_key]"
      ],
      "execution_count": 15,
      "outputs": [
        {
          "output_type": "execute_result",
          "data": {
            "application/vnd.google.colaboratory.intrinsic+json": {
              "type": "string"
            },
            "text/plain": [
              "'Ndenge nini kosakola nsango malamu esalaka ete tózala na bomoko ?'"
            ]
          },
          "metadata": {
            "tags": []
          },
          "execution_count": 15
        }
      ]
    },
    {
      "cell_type": "markdown",
      "metadata": {
        "id": "Pwuc4IlEe1TR"
      },
      "source": [
        "Do the two look like they line up? "
      ]
    },
    {
      "cell_type": "markdown",
      "metadata": {
        "id": "K5mtDXEoe9NC"
      },
      "source": [
        "## Check several rows at the tail end\n",
        "\n",
        "Let's get a sample from the end of the dataset"
      ]
    },
    {
      "cell_type": "code",
      "metadata": {
        "id": "uD7ht8dKQ5zN"
      },
      "source": [
        "target_test_set = pd.DataFrame(zip(target_test.values(), english_sentences_in_global_test_set.values()), columns=[f'{target_language}_equivalent', f'{source_language}_equivalent'])"
      ],
      "execution_count": 17,
      "outputs": []
    },
    {
      "cell_type": "code",
      "metadata": {
        "id": "QclpZObEQ5zN"
      },
      "source": [
        "target_test_set = target_test_set.reset_index()"
      ],
      "execution_count": 18,
      "outputs": []
    },
    {
      "cell_type": "code",
      "metadata": {
        "id": "TqPm3EDTQ5zN"
      },
      "source": [
        "target_test_set = target_test_set.set_index(\"index\")"
      ],
      "execution_count": 19,
      "outputs": []
    },
    {
      "cell_type": "code",
      "metadata": {
        "colab": {
          "base_uri": "https://localhost:8080/",
          "height": 235
        },
        "id": "LnXQ31qOQ5zO",
        "outputId": "76b30d0a-1009-4e96-a3f2-55ffde1c171d"
      },
      "source": [
        "target_test_set.tail()"
      ],
      "execution_count": 20,
      "outputs": [
        {
          "output_type": "execute_result",
          "data": {
            "text/html": [
              "<div>\n",
              "<style scoped>\n",
              "    .dataframe tbody tr th:only-of-type {\n",
              "        vertical-align: middle;\n",
              "    }\n",
              "\n",
              "    .dataframe tbody tr th {\n",
              "        vertical-align: top;\n",
              "    }\n",
              "\n",
              "    .dataframe thead th {\n",
              "        text-align: right;\n",
              "    }\n",
              "</style>\n",
              "<table border=\"1\" class=\"dataframe\">\n",
              "  <thead>\n",
              "    <tr style=\"text-align: right;\">\n",
              "      <th></th>\n",
              "      <th>lua_equivalent</th>\n",
              "      <th>ln_equivalent</th>\n",
              "    </tr>\n",
              "    <tr>\n",
              "      <th>index</th>\n",
              "      <th></th>\n",
              "      <th></th>\n",
              "    </tr>\n",
              "  </thead>\n",
              "  <tbody>\n",
              "    <tr>\n",
              "      <th>8165</th>\n",
              "      <td>13 , 14 .</td>\n",
              "      <td>13 , 14 .</td>\n",
              "    </tr>\n",
              "    <tr>\n",
              "      <th>8166</th>\n",
              "      <td>( Bala Musambu wa 1 : 1 - 3 . )</td>\n",
              "      <td>( Tángá Nzembo 1 : 1 - 3 . )</td>\n",
              "    </tr>\n",
              "    <tr>\n",
              "      <th>8167</th>\n",
              "      <td>Ke bualu kayi bidi ne mushinga bua baledi kutu...</td>\n",
              "      <td>Yango wana , ezali na ntina mingi ete baboti b...</td>\n",
              "    </tr>\n",
              "    <tr>\n",
              "      <th>8168</th>\n",
              "      <td>Enza bua bana bebe bamone muudi wangata Yehowa...</td>\n",
              "      <td>Tiká bana na yo bámona ete Yehova azali mpenza...</td>\n",
              "    </tr>\n",
              "    <tr>\n",
              "      <th>8169</th>\n",
              "      <td>Ebi mbikoleshe ditabuja diende kudi Nzambi ne ...</td>\n",
              "      <td>Yango ekómisaki makasi kondima na ye epai ya N...</td>\n",
              "    </tr>\n",
              "  </tbody>\n",
              "</table>\n",
              "</div>"
            ],
            "text/plain": [
              "                                          lua_equivalent                                      ln_equivalent\n",
              "index                                                                                                      \n",
              "8165                                           13 , 14 .                                          13 , 14 .\n",
              "8166                     ( Bala Musambu wa 1 : 1 - 3 . )                       ( Tángá Nzembo 1 : 1 - 3 . )\n",
              "8167   Ke bualu kayi bidi ne mushinga bua baledi kutu...  Yango wana , ezali na ntina mingi ete baboti b...\n",
              "8168   Enza bua bana bebe bamone muudi wangata Yehowa...  Tiká bana na yo bámona ete Yehova azali mpenza...\n",
              "8169   Ebi mbikoleshe ditabuja diende kudi Nzambi ne ...  Yango ekómisaki makasi kondima na ye epai ya N..."
            ]
          },
          "metadata": {
            "tags": []
          },
          "execution_count": 20
        }
      ]
    },
    {
      "cell_type": "markdown",
      "metadata": {
        "id": "r-7KKhEcQ5zO"
      },
      "source": [
        "Removing duplicates from english and target set"
      ]
    },
    {
      "cell_type": "code",
      "metadata": {
        "id": "Y0sCRCX2Q5zO"
      },
      "source": [
        "target_test_set = target_test_set.drop_duplicates(subset=f'{target_language}_equivalent')"
      ],
      "execution_count": 21,
      "outputs": []
    },
    {
      "cell_type": "code",
      "metadata": {
        "id": "6biqqTgUQ5zP"
      },
      "source": [
        "target_test_set = target_test_set.drop_duplicates(subset=f'{source_language}_equivalent')"
      ],
      "execution_count": 22,
      "outputs": []
    },
    {
      "cell_type": "code",
      "metadata": {
        "colab": {
          "base_uri": "https://localhost:8080/",
          "height": 235
        },
        "id": "IrqizJY3Q5zQ",
        "outputId": "24d73611-9d7e-4d65-c9c4-6c059f68b067"
      },
      "source": [
        "target_test_set.head()"
      ],
      "execution_count": 23,
      "outputs": [
        {
          "output_type": "execute_result",
          "data": {
            "text/html": [
              "<div>\n",
              "<style scoped>\n",
              "    .dataframe tbody tr th:only-of-type {\n",
              "        vertical-align: middle;\n",
              "    }\n",
              "\n",
              "    .dataframe tbody tr th {\n",
              "        vertical-align: top;\n",
              "    }\n",
              "\n",
              "    .dataframe thead th {\n",
              "        text-align: right;\n",
              "    }\n",
              "</style>\n",
              "<table border=\"1\" class=\"dataframe\">\n",
              "  <thead>\n",
              "    <tr style=\"text-align: right;\">\n",
              "      <th></th>\n",
              "      <th>lua_equivalent</th>\n",
              "      <th>ln_equivalent</th>\n",
              "    </tr>\n",
              "    <tr>\n",
              "      <th>index</th>\n",
              "      <th></th>\n",
              "      <th></th>\n",
              "    </tr>\n",
              "  </thead>\n",
              "  <tbody>\n",
              "    <tr>\n",
              "      <th>0</th>\n",
              "      <td>© 2017 Watch Tower Bible and Tract Society of ...</td>\n",
              "      <td>© 2017 Watch Tower Bible and Tract Society of ...</td>\n",
              "    </tr>\n",
              "    <tr>\n",
              "      <th>1</th>\n",
              "      <td>Dipatuka diende ngumue wa ku midimu idi yenzek...</td>\n",
              "      <td>Ebimisami mpo na koteya bato Biblia na mokili ...</td>\n",
              "    </tr>\n",
              "    <tr>\n",
              "      <th>2</th>\n",
              "      <td>Bua kufila makuta , buela mu adrese wa www.jw....</td>\n",
              "      <td>Soki olingi kopesa likabo , kɔtá na www.jw.org .</td>\n",
              "    </tr>\n",
              "    <tr>\n",
              "      <th>3</th>\n",
              "      <td>Padibu kabayi baleje Bible mukuabu , mvese yon...</td>\n",
              "      <td>Soki liyebisi ezali te , mikapo ya Makomami eu...</td>\n",
              "    </tr>\n",
              "    <tr>\n",
              "      <th>4</th>\n",
              "      <td>Tshikebelu</td>\n",
              "      <td>Etanda ya makambo ezali na kati</td>\n",
              "    </tr>\n",
              "  </tbody>\n",
              "</table>\n",
              "</div>"
            ],
            "text/plain": [
              "                                          lua_equivalent                                      ln_equivalent\n",
              "index                                                                                                      \n",
              "0      © 2017 Watch Tower Bible and Tract Society of ...  © 2017 Watch Tower Bible and Tract Society of ...\n",
              "1      Dipatuka diende ngumue wa ku midimu idi yenzek...  Ebimisami mpo na koteya bato Biblia na mokili ...\n",
              "2      Bua kufila makuta , buela mu adrese wa www.jw....   Soki olingi kopesa likabo , kɔtá na www.jw.org .\n",
              "3      Padibu kabayi baleje Bible mukuabu , mvese yon...  Soki liyebisi ezali te , mikapo ya Makomami eu...\n",
              "4                                             Tshikebelu                    Etanda ya makambo ezali na kati"
            ]
          },
          "metadata": {
            "tags": []
          },
          "execution_count": 23
        }
      ]
    },
    {
      "cell_type": "code",
      "metadata": {
        "colab": {
          "base_uri": "https://localhost:8080/"
        },
        "id": "TJDI9P-LQ5zS",
        "outputId": "418d2989-824f-48e0-e785-835f25f343f6"
      },
      "source": [
        "target_test_set.shape"
      ],
      "execution_count": 24,
      "outputs": [
        {
          "output_type": "execute_result",
          "data": {
            "text/plain": [
              "(2673, 2)"
            ]
          },
          "metadata": {
            "tags": []
          },
          "execution_count": 24
        }
      ]
    },
    {
      "cell_type": "code",
      "metadata": {
        "colab": {
          "base_uri": "https://localhost:8080/",
          "height": 80
        },
        "id": "jyWb1BPsQ5zT",
        "outputId": "a547f9cb-edde-48df-a645-583dfb73b9e9"
      },
      "source": [
        "target_test_set.loc[~target_test_set[f'{source_language}_equivalent'].isin(en_test_sents)]"
      ],
      "execution_count": 25,
      "outputs": [
        {
          "output_type": "execute_result",
          "data": {
            "text/html": [
              "<div>\n",
              "<style scoped>\n",
              "    .dataframe tbody tr th:only-of-type {\n",
              "        vertical-align: middle;\n",
              "    }\n",
              "\n",
              "    .dataframe tbody tr th {\n",
              "        vertical-align: top;\n",
              "    }\n",
              "\n",
              "    .dataframe thead th {\n",
              "        text-align: right;\n",
              "    }\n",
              "</style>\n",
              "<table border=\"1\" class=\"dataframe\">\n",
              "  <thead>\n",
              "    <tr style=\"text-align: right;\">\n",
              "      <th></th>\n",
              "      <th>lua_equivalent</th>\n",
              "      <th>ln_equivalent</th>\n",
              "    </tr>\n",
              "    <tr>\n",
              "      <th>index</th>\n",
              "      <th></th>\n",
              "      <th></th>\n",
              "    </tr>\n",
              "  </thead>\n",
              "  <tbody>\n",
              "  </tbody>\n",
              "</table>\n",
              "</div>"
            ],
            "text/plain": [
              "Empty DataFrame\n",
              "Columns: [lua_equivalent, ln_equivalent]\n",
              "Index: []"
            ]
          },
          "metadata": {
            "tags": []
          },
          "execution_count": 25
        }
      ]
    },
    {
      "cell_type": "markdown",
      "metadata": {
        "id": "iFBOZerTjxSI"
      },
      "source": [
        "## Write out target-language test set file\n",
        "In our example, we should have `test.ln-any.ln`, but it will be different for you if you picked a different code."
      ]
    },
    {
      "cell_type": "code",
      "metadata": {
        "colab": {
          "base_uri": "https://localhost:8080/"
        },
        "id": "C6zxiOfdVab2",
        "outputId": "a637a36f-fa61-48a9-e17d-159e8b76ae8f"
      },
      "source": [
        "target_test_filename = f\"test.{target_language}-any.{target_language}\"\n",
        "print(target_test_filename)"
      ],
      "execution_count": 26,
      "outputs": [
        {
          "output_type": "stream",
          "text": [
            "test.lua-any.lua\n"
          ],
          "name": "stdout"
        }
      ]
    },
    {
      "cell_type": "markdown",
      "metadata": {
        "id": "3LXXXfwjfZQq"
      },
      "source": [
        "## Write out English-language test set file\n",
        "In our example, we should have `test.fr-ln.fr`, but it will be different for you if you picked a different code.\n",
        "\n",
        "**Make sure the data lines up in the two files!**\n",
        "The first line of each file should be translations of each other.\n"
      ]
    },
    {
      "cell_type": "code",
      "metadata": {
        "id": "CpFWMOhdQ5zU"
      },
      "source": [
        "\n",
        "with open(target_test_filename, \"w\") as test_tgt_any_tgt:\n",
        "    test_tgt_any_tgt.write(\"\\n\".join(target_test_set[f'{target_language}_equivalent']))"
      ],
      "execution_count": 29,
      "outputs": []
    },
    {
      "cell_type": "code",
      "metadata": {
        "colab": {
          "base_uri": "https://localhost:8080/"
        },
        "id": "cnZUf97gQ5zV",
        "outputId": "096b5496-cb22-4590-e82e-ced361b01e3a"
      },
      "source": [
        "!head -5 test.$tgt-any.$tgt"
      ],
      "execution_count": 30,
      "outputs": [
        {
          "output_type": "stream",
          "text": [
            "© 2017 Watch Tower Bible and Tract Society of Pennsylvania\n",
            "Dipatuka diende ngumue wa ku midimu idi yenzeka pa buloba bujima ne makuta adi bantu bafila ku budisuile bua kulongeshangana Bible .\n",
            "Bua kufila makuta , buela mu adrese wa www.jw.org .\n",
            "Padibu kabayi baleje Bible mukuabu , mvese yonso mmiangatshila mu Bible — Nkudimuinu wa bulongolodi bupiabupia udi ne ngakuilu wa matuku aa .\n",
            "Tshikebelu\n"
          ],
          "name": "stdout"
        }
      ]
    },
    {
      "cell_type": "code",
      "metadata": {
        "colab": {
          "base_uri": "https://localhost:8080/"
        },
        "id": "HZ93jNULQ5zV",
        "outputId": "886e2cf0-eec7-4db3-8b4c-f73dff394fdd"
      },
      "source": [
        "source_test_filename = f\"test.{source_language}-{target_language}.{source_language}\"\n",
        "print(f\"saving english aligned sentences to {source_test_filename}\")\n",
        "with open(source_test_filename, \"w\") as test_en_tgt_en:\n",
        "    test_en_tgt_en.write(\"\\n\".join(target_test_set[f'{target_language}_equivalent']))\n",
        "!ls -al"
      ],
      "execution_count": 31,
      "outputs": [
        {
          "output_type": "stream",
          "text": [
            "saving english aligned sentences to test.ln-lua.ln\n",
            "total 172504\n",
            "drwxr-xr-x 1 root root     4096 Jul 20 15:39 .\n",
            "drwxr-xr-x 1 root root     4096 Jul 20 15:27 ..\n",
            "drwxr-xr-x 4 root root     4096 Jul 16 13:19 .config\n",
            "drwx------ 6 root root     4096 Jul 20 15:29 drive\n",
            "-rw-r--r-- 1 root root 18328475 Jul 20 15:29 JW300_latest_xml_ln-lua.xml\n",
            "-rw-r--r-- 1 root root 61546014 Jul 20 15:29 JW300_latest_xml_ln.zip\n",
            "-rw-r--r-- 1 root root 32608568 Jul 20 15:29 JW300_latest_xml_lua.zip\n",
            "-rw-r--r-- 1 root root 31573127 Jul 20 15:31 jw300.ln\n",
            "-rw-r--r-- 1 root root 31797537 Jul 20 15:31 jw300.lua\n",
            "drwxr-xr-x 2 root root     4096 Jul 20 15:29 ln-lua-baseline\n",
            "drwxr-xr-x 1 root root     4096 Jul 16 13:20 sample_data\n",
            "-rw-r--r-- 1 root root   259242 Jul 20 15:31 test.ln-any.ln\n",
            "-rw-r--r-- 1 root root   242017 Jul 20 15:39 test.ln-lua.ln\n",
            "-rw-r--r-- 1 root root   242017 Jul 20 15:37 test.lua-any.lua\n"
          ],
          "name": "stdout"
        }
      ]
    },
    {
      "cell_type": "code",
      "metadata": {
        "colab": {
          "base_uri": "https://localhost:8080/"
        },
        "id": "zKW2y01hbOyc",
        "outputId": "929dec94-3b71-4113-8c5f-c0bbc32f4c85"
      },
      "source": [
        "!head -5 test.$src-$tgt.$src"
      ],
      "execution_count": 33,
      "outputs": [
        {
          "output_type": "stream",
          "text": [
            "© 2017 Watch Tower Bible and Tract Society of Pennsylvania\n",
            "Dipatuka diende ngumue wa ku midimu idi yenzeka pa buloba bujima ne makuta adi bantu bafila ku budisuile bua kulongeshangana Bible .\n",
            "Bua kufila makuta , buela mu adrese wa www.jw.org .\n",
            "Padibu kabayi baleje Bible mukuabu , mvese yonso mmiangatshila mu Bible — Nkudimuinu wa bulongolodi bupiabupia udi ne ngakuilu wa matuku aa .\n",
            "Tshikebelu\n"
          ],
          "name": "stdout"
        }
      ]
    },
    {
      "cell_type": "markdown",
      "metadata": {
        "id": "kr79AnMtfxyQ"
      },
      "source": [
        "## One last check to see if the two files are aligned\n",
        "\n",
        "Let's just get one more sample! Let's take from the end this time"
      ]
    },
    {
      "cell_type": "code",
      "metadata": {
        "colab": {
          "base_uri": "https://localhost:8080/"
        },
        "id": "gvmVNumtf3sC",
        "outputId": "e08aebb0-7306-46f9-a91d-8f91e623293a"
      },
      "source": [
        "!echo \"test.$src-$tgt.$src\"\n",
        "!tail -5 test.$src-$tgt.$src\n",
        "!echo\n",
        "!echo \"**********************\"\n",
        "!echo \"test.$tgt-any.$tgt\"\n",
        "!echo \"**********************\"\n",
        "!tail -5 test.$tgt-any.$tgt"
      ],
      "execution_count": 34,
      "outputs": [
        {
          "output_type": "stream",
          "text": [
            "test.ln-lua.ln\n",
            "Mukungulu wa ndeke ne miadi ya nyunyi bidiku mushindu umue anyi ?\n",
            "Nunku nnganyi udi ne meji a bungi , mmuenji wa ndeke anyi ? Peshi mMufuki wa nyunyi ? ”\n",
            "Ke bualu kayi bidi ne mushinga bua baledi kutungunuka ne kulongesha bana babu . ”\n",
            "Enza bua bana bebe bamone muudi wangata Yehowa bu muntu mulelela .\n",
            "Ebi mbikoleshe ditabuja diende kudi Nzambi ne kudi Bible . ”\n",
            "**********************\n",
            "test.lua-any.lua\n",
            "**********************\n",
            "Mukungulu wa ndeke ne miadi ya nyunyi bidiku mushindu umue anyi ?\n",
            "Nunku nnganyi udi ne meji a bungi , mmuenji wa ndeke anyi ? Peshi mMufuki wa nyunyi ? ”\n",
            "Ke bualu kayi bidi ne mushinga bua baledi kutungunuka ne kulongesha bana babu . ”\n",
            "Enza bua bana bebe bamone muudi wangata Yehowa bu muntu mulelela .\n",
            "Ebi mbikoleshe ditabuja diende kudi Nzambi ne kudi Bible . ”"
          ],
          "name": "stdout"
        }
      ]
    },
    {
      "cell_type": "code",
      "metadata": {
        "id": "P2miJypOj0rg"
      },
      "source": [
        ""
      ],
      "execution_count": null,
      "outputs": []
    }
  ]
}