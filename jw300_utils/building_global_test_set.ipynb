{
  "nbformat": 4,
  "nbformat_minor": 0,
  "metadata": {
    "colab": {
      "name": "building_global_test_set.ipynb",
      "provenance": [],
      "collapsed_sections": [],
      "include_colab_link": true
    },
    "kernelspec": {
      "display_name": "Python 3 (ipykernel)",
      "language": "python",
      "name": "python3"
    },
    "language_info": {
      "codemirror_mode": {
        "name": "ipython",
        "version": 3
      },
      "file_extension": ".py",
      "mimetype": "text/x-python",
      "name": "python",
      "nbconvert_exporter": "python",
      "pygments_lexer": "ipython3",
      "version": "3.7.10"
    }
  },
  "cells": [
    {
      "cell_type": "markdown",
      "metadata": {
        "id": "view-in-github",
        "colab_type": "text"
      },
      "source": [
        "<a href=\"https://colab.research.google.com/github/Kabongosalomon/RDC-Mobongoli/blob/main/jw300_utils/building_global_test_set.ipynb\" target=\"_parent\"><img src=\"https://colab.research.google.com/assets/colab-badge.svg\" alt=\"Open In Colab\"/></a>"
      ]
    },
    {
      "cell_type": "code",
      "metadata": {
        "id": "2h9AFgux0QUy"
      },
      "source": [
        "import pandas as pd\n",
        "import os"
      ],
      "execution_count": 1,
      "outputs": []
    },
    {
      "cell_type": "code",
      "metadata": {
        "colab": {
          "base_uri": "https://localhost:8080/"
        },
        "id": "wH8AJ3OAVBpF",
        "outputId": "8de80ca8-47a3-4986-eed5-ea0413dd3885"
      },
      "source": [
        "from google.colab import drive\n",
        "drive.mount('/content/drive')"
      ],
      "execution_count": 1,
      "outputs": [
        {
          "output_type": "stream",
          "text": [
            "Mounted at /content/drive\n"
          ],
          "name": "stdout"
        }
      ]
    },
    {
      "cell_type": "markdown",
      "metadata": {
        "id": "yLIkGn6RQ5yg"
      },
      "source": [
        "### Setting Up the data"
      ]
    },
    {
      "cell_type": "markdown",
      "metadata": {
        "id": "P_uBo3H6Q5yr"
      },
      "source": [
        "Downloading the global test set is simple,\n",
        "we need to set english and your target as source and target language, then we find the intersection of the english test set with the target corpus after that we get the corresponding target sentences from the target corpus."
      ]
    },
    {
      "cell_type": "code",
      "metadata": {
        "id": "4rdvcs5aRVbf"
      },
      "source": [
        "%%capture\n",
        "!pip install opustools-pkg"
      ],
      "execution_count": 2,
      "outputs": []
    },
    {
      "cell_type": "markdown",
      "metadata": {
        "id": "FG5qoTCkdyCy"
      },
      "source": [
        "# SET THE LANGUAGE CODE and other variables.\n",
        "\n",
        "You need to change the value below for your language!\n",
        "\n",
        "The language codes from the [JW300 corpus website](https://object.pouta.csc.fi/OPUS-JW300/v1/languages.json) are: \n",
        "```\n",
        "{\n",
        "    \"language\": \"French - Français\",\n",
        "    \"language_en\": \"French\",\n",
        "    \"language_native\": \"Français\",\n",
        "    \"language_short\": \"fr\",\n",
        "    \"url\": \"https://wol.jw.org/fr/wol/pref/r30/lp-f?newrsconf=r30&newlib=lp-f&url=\"\n",
        "}, \n",
        "\n",
        "{\n",
        "    \"language\": \"Lingala - Lingala\",\n",
        "    \"language_en\": \"Lingala\",\n",
        "    \"language_native\": \"Lingala\",\n",
        "    \"language_short\": \"ln\",\n",
        "    \"url\": \"https://wol.jw.org/ln/wol/pref/r126/lp-li?newrsconf=r126&newlib=lp-li&url=\"\n",
        "},\n",
        "\n",
        "{\n",
        "    \"language\": \"Tshiluba - Tshiluba\",\n",
        "    \"language_en\": \"Tshiluba\",\n",
        "    \"language_native\": \"Tshiluba\",\n",
        "    \"language_short\": \"lua\",\n",
        "    \"url\": \"https://wol.jw.org/lua/wol/pref/r477/lp-sh?newrsconf=r477&newlib=lp-sh&url=\"\n",
        "},\n",
        "\n",
        "{\n",
        "    \"language\": \"Kikongo - Kikongo\",\n",
        "    \"language_en\": \"Kikongo\",\n",
        "    \"language_native\": \"Kikongo\",\n",
        "    \"language_short\": \"kwy\",\n",
        "    \"url\": \"https://wol.jw.org/kwy/wol/pref/r128/lp-kg?newrsconf=r128&newlib=lp-kg&url=\"\n",
        "},\n",
        "\n",
        "{\n",
        "    \"language\": \"Swahili (Congo) - Kiswahili (Congo)\",\n",
        "    \"language_en\": \"Swahili (Congo)\",\n",
        "    \"language_native\": \"Kiswahili (Congo)\",\n",
        "    \"language_short\": \"swc\",\n",
        "    \"url\": \"https://wol.jw.org/swc/wol/pref/r143/lp-zs?newrsconf=r143&newlib=lp-zs&url=\"\n",
        "  },\n",
        "```\n",
        "Already-created test sets: https://raw.githubusercontent.com/ai-drc/RDC-Mobongoli/main/jw300_utils/test/"
      ]
    },
    {
      "cell_type": "code",
      "metadata": {
        "id": "EhNiQZplQ5yt"
      },
      "source": [
        "source_language = \"fr\"\n",
        "target_language = \"swc\" # TODO: CHANGE THIS TO YOUR LANGUAGE! \"ha\" is hausa. See the language codes at https://opus.nlpl.eu/JW300.php\n",
        "lc = False  # If True, lowercase the data.\n",
        "seed = 42  # Random seed for shuffling.|\n",
        "tag = \"baseline\" # Give a unique name to your folder - this is to ensure you don't rewrite any models you've already submitted\n",
        "\n",
        "os.environ[\"src\"] = source_language # Sets them in bash as well, since we often use bash scripts\n",
        "os.environ[\"tgt\"] = target_language\n",
        "os.environ[\"tag\"] = tag\n",
        "\n",
        "# No need to use gdrive since we are training on gcp\n",
        "!mkdir -p \"$src-$tgt-$tag\"\n",
        "os.environ[\"gdrive_path\"] = \"%s-%s-%s\" % (source_language, target_language, tag) # saving directly on the vm"
      ],
      "execution_count": 3,
      "outputs": []
    },
    {
      "cell_type": "code",
      "metadata": {
        "colab": {
          "base_uri": "https://localhost:8080/"
        },
        "id": "RExQ_q-vQ5yy",
        "outputId": "0a02a6b0-e004-4f94-a49b-61530178dd72"
      },
      "source": [
        "!echo $gdrive_path"
      ],
      "execution_count": 4,
      "outputs": [
        {
          "output_type": "stream",
          "text": [
            "fr-swc-baseline\n"
          ],
          "name": "stdout"
        }
      ]
    },
    {
      "cell_type": "markdown",
      "metadata": {
        "id": "6C760IqtQ5y0"
      },
      "source": [
        "#### Downloading the corpus data"
      ]
    },
    {
      "cell_type": "markdown",
      "metadata": {
        "id": "x1jEhHm8Q5y1"
      },
      "source": [
        "for precaution , am removing the old data"
      ]
    },
    {
      "cell_type": "code",
      "metadata": {
        "id": "XQBYlyBSQ5y3"
      },
      "source": [
        "!rm -f jw300.$src jw300.$tgt JW300_latest_xml_$src-$tgt.xml.gz JW300_latest_xml_$src-$tgt.xml JW300_latest_xml_$src.zip  JW300_latest_xml_$tgt.zip test.fr-any.fr"
      ],
      "execution_count": 5,
      "outputs": []
    },
    {
      "cell_type": "code",
      "metadata": {
        "id": "PuRydviw4ffS",
        "outputId": "0cf34d94-c9ab-45e5-dc7f-05b1cc8a8269",
        "colab": {
          "base_uri": "https://localhost:8080/"
        }
      },
      "source": [
        "! ls"
      ],
      "execution_count": 6,
      "outputs": [
        {
          "output_type": "stream",
          "text": [
            "fr-swc-baseline  sample_data\n"
          ],
          "name": "stdout"
        }
      ]
    },
    {
      "cell_type": "code",
      "metadata": {
        "colab": {
          "base_uri": "https://localhost:8080/"
        },
        "id": "W2bhVsAEQ5y4",
        "scrolled": true,
        "outputId": "939e02eb-2e80-452e-9e5f-490a59c0ec3c"
      },
      "source": [
        "# Downloading our corpus\n",
        "! opus_read -d JW300 -s $src -t $tgt -wm moses -w jw300.$src jw300.$tgt -q -ln -S 1 -T 1\n",
        "# ! opus_read -d JW300 -s $src -t $tgt -wm moses -w jw300.$src jw300.$tgt -q -ln -S 2-4 -T 2-4\n",
        "\n",
        "\n",
        "# extract the corpus file\n",
        "! gunzip JW300_latest_xml_$src-$tgt.xml.gz"
      ],
      "execution_count": 7,
      "outputs": [
        {
          "output_type": "stream",
          "text": [
            "\n",
            "Alignment file /proj/nlpl/data/OPUS/JW300/latest/xml/fr-swc.xml.gz not found. The following files are available for downloading:\n",
            "\n",
            "   6 MB https://object.pouta.csc.fi/OPUS-JW300/v1b/xml/fr-swc.xml.gz\n",
            " 278 MB https://object.pouta.csc.fi/OPUS-JW300/v1b/xml/fr.zip\n",
            "  54 MB https://object.pouta.csc.fi/OPUS-JW300/v1b/xml/swc.zip\n",
            "\n",
            " 339 MB Total size\n",
            "./JW300_latest_xml_fr-swc.xml.gz ... 100% of 6 MB\n",
            "./JW300_latest_xml_fr.zip ... 100% of 278 MB\n",
            "./JW300_latest_xml_swc.zip ... 100% of 54 MB\n"
          ],
          "name": "stdout"
        }
      ]
    },
    {
      "cell_type": "code",
      "metadata": {
        "id": "2pqVQyik0n21",
        "colab": {
          "base_uri": "https://localhost:8080/",
          "height": 389
        },
        "outputId": "54a66760-3c94-40dd-fca1-15c467444268"
      },
      "source": [
        "df_src = pd.read_csv(f\"jw300.{source_language}\", sep='\\t', names=['source_sentence'])\n",
        "df_tgt = pd.read_csv(f\"jw300.{target_language}\", sep='\\t', names=['target_sentence'])\n",
        "\n",
        "display(df_src.tail())\n",
        "display(df_tgt.tail())"
      ],
      "execution_count": 8,
      "outputs": [
        {
          "output_type": "display_data",
          "data": {
            "text/html": [
              "<div>\n",
              "<style scoped>\n",
              "    .dataframe tbody tr th:only-of-type {\n",
              "        vertical-align: middle;\n",
              "    }\n",
              "\n",
              "    .dataframe tbody tr th {\n",
              "        vertical-align: top;\n",
              "    }\n",
              "\n",
              "    .dataframe thead th {\n",
              "        text-align: right;\n",
              "    }\n",
              "</style>\n",
              "<table border=\"1\" class=\"dataframe\">\n",
              "  <thead>\n",
              "    <tr style=\"text-align: right;\">\n",
              "      <th></th>\n",
              "      <th>source_sentence</th>\n",
              "    </tr>\n",
              "  </thead>\n",
              "  <tbody>\n",
              "    <tr>\n",
              "      <th>497617</th>\n",
              "      <td>Mais c’est plutôt en travaillant avec foi et d...</td>\n",
              "    </tr>\n",
              "    <tr>\n",
              "      <th>497618</th>\n",
              "      <td>De plus , des milliers de personnes dans le mo...</td>\n",
              "    </tr>\n",
              "    <tr>\n",
              "      <th>497619</th>\n",
              "      <td>Cette étude a motivé beaucoup d’entre elles à ...</td>\n",
              "    </tr>\n",
              "    <tr>\n",
              "      <th>497620</th>\n",
              "      <td>L’effet que « la parole de Dieu » a sur ces pe...</td>\n",
              "    </tr>\n",
              "    <tr>\n",
              "      <th>497621</th>\n",
              "      <td>Les déclarations de Jéhovah sur son projet qui...</td>\n",
              "    </tr>\n",
              "  </tbody>\n",
              "</table>\n",
              "</div>"
            ],
            "text/plain": [
              "                                          source_sentence\n",
              "497617  Mais c’est plutôt en travaillant avec foi et d...\n",
              "497618  De plus , des milliers de personnes dans le mo...\n",
              "497619  Cette étude a motivé beaucoup d’entre elles à ...\n",
              "497620  L’effet que « la parole de Dieu » a sur ces pe...\n",
              "497621  Les déclarations de Jéhovah sur son projet qui..."
            ]
          },
          "metadata": {
            "tags": []
          }
        },
        {
          "output_type": "display_data",
          "data": {
            "text/html": [
              "<div>\n",
              "<style scoped>\n",
              "    .dataframe tbody tr th:only-of-type {\n",
              "        vertical-align: middle;\n",
              "    }\n",
              "\n",
              "    .dataframe tbody tr th {\n",
              "        vertical-align: top;\n",
              "    }\n",
              "\n",
              "    .dataframe thead th {\n",
              "        text-align: right;\n",
              "    }\n",
              "</style>\n",
              "<table border=\"1\" class=\"dataframe\">\n",
              "  <thead>\n",
              "    <tr style=\"text-align: right;\">\n",
              "      <th></th>\n",
              "      <th>target_sentence</th>\n",
              "    </tr>\n",
              "  </thead>\n",
              "  <tbody>\n",
              "    <tr>\n",
              "      <th>497617</th>\n",
              "      <td>Lakini , kwa sababu ya imani yetu kwa Mungu , ...</td>\n",
              "    </tr>\n",
              "    <tr>\n",
              "      <th>497618</th>\n",
              "      <td>Mamilioni ya watu katika dunia yote wameanza p...</td>\n",
              "    </tr>\n",
              "    <tr>\n",
              "      <th>497619</th>\n",
              "      <td>Hilo limechochea wengi kati yao wafanye mabadi...</td>\n",
              "    </tr>\n",
              "    <tr>\n",
              "      <th>497620</th>\n",
              "      <td>Namna wanaendelea kufanya mabadiliko inaonyesh...</td>\n",
              "    </tr>\n",
              "    <tr>\n",
              "      <th>497621</th>\n",
              "      <td>Mambo yenye Mungu amefunua katika Biblia juu y...</td>\n",
              "    </tr>\n",
              "  </tbody>\n",
              "</table>\n",
              "</div>"
            ],
            "text/plain": [
              "                                          target_sentence\n",
              "497617  Lakini , kwa sababu ya imani yetu kwa Mungu , ...\n",
              "497618  Mamilioni ya watu katika dunia yote wameanza p...\n",
              "497619  Hilo limechochea wengi kati yao wafanye mabadi...\n",
              "497620  Namna wanaendelea kufanya mabadiliko inaonyesh...\n",
              "497621  Mambo yenye Mungu amefunua katika Biblia juu y..."
            ]
          },
          "metadata": {
            "tags": []
          }
        }
      ]
    },
    {
      "cell_type": "code",
      "metadata": {
        "colab": {
          "base_uri": "https://localhost:8080/"
        },
        "id": "AdJrG4SmQ5y7",
        "outputId": "3b8bae68-44a7-4d3a-9830-4c5d5819f404"
      },
      "source": [
        "# ! wget https://raw.githubusercontent.com/ai-drc/RDC-Mobongoli/main/jw300_utils/test/test.$src-any.$src\n",
        "! wget https://raw.githubusercontent.com/masakhane-io/masakhane-mt/master/jw300_utils/test/test.$src-any.$src\n",
        "\n",
        "# And the specific test set for this language pair.\n",
        "os.environ[\"trg\"] = target_language \n",
        "os.environ[\"src\"] = source_language "
      ],
      "execution_count": 9,
      "outputs": [
        {
          "output_type": "stream",
          "text": [
            "--2021-07-23 16:32:12--  https://raw.githubusercontent.com/masakhane-io/masakhane-mt/master/jw300_utils/test/test.fr-any.fr\n",
            "Resolving raw.githubusercontent.com (raw.githubusercontent.com)... 185.199.108.133, 185.199.109.133, 185.199.110.133, ...\n",
            "Connecting to raw.githubusercontent.com (raw.githubusercontent.com)|185.199.108.133|:443... connected.\n",
            "HTTP request sent, awaiting response... 200 OK\n",
            "Length: 377235 (368K) [text/plain]\n",
            "Saving to: ‘test.fr-any.fr’\n",
            "\n",
            "\rtest.fr-any.fr        0%[                    ]       0  --.-KB/s               \rtest.fr-any.fr      100%[===================>] 368.39K  --.-KB/s    in 0.01s   \n",
            "\n",
            "2021-07-23 16:32:12 (25.6 MB/s) - ‘test.fr-any.fr’ saved [377235/377235]\n",
            "\n"
          ],
          "name": "stdout"
        }
      ]
    },
    {
      "cell_type": "code",
      "metadata": {
        "colab": {
          "base_uri": "https://localhost:8080/"
        },
        "id": "-XLatU0iQ5y8",
        "outputId": "eb221e67-fd24-452b-f7f2-d5f0e8eedae0"
      },
      "source": [
        "# Read the test data to filter from train and dev splits.\n",
        "# Store english portion in set for quick filtering checks.\n",
        "src_test_sents = set()\n",
        "filter_test_sents = f\"test.{source_language}-any.{source_language}\"\n",
        "j = 0\n",
        "with open(filter_test_sents) as f:\n",
        "  for line in f:\n",
        "    src_test_sents.add(line.strip())\n",
        "    j += 1\n",
        "print('Loaded {} global test sentences to filter from the training/dev data.'.format(j))"
      ],
      "execution_count": 10,
      "outputs": [
        {
          "output_type": "stream",
          "text": [
            "Loaded 3974 global test sentences to filter from the training/dev data.\n"
          ],
          "name": "stdout"
        }
      ]
    },
    {
      "cell_type": "code",
      "metadata": {
        "colab": {
          "base_uri": "https://localhost:8080/"
        },
        "id": "ydypbA7LQ5y-",
        "outputId": "0bbe3f2d-a7c8-4751-adb0-0292381aa7e3"
      },
      "source": [
        "!ls"
      ],
      "execution_count": 11,
      "outputs": [
        {
          "output_type": "stream",
          "text": [
            "fr-swc-baseline\t\t     JW300_latest_xml_fr.zip   sample_data\n",
            "jw300.fr\t\t     JW300_latest_xml_swc.zip  test.fr-any.fr\n",
            "JW300_latest_xml_fr-swc.xml  jw300.swc\n"
          ],
          "name": "stdout"
        }
      ]
    },
    {
      "cell_type": "markdown",
      "metadata": {
        "id": "mTsD-Ta1Q5zD"
      },
      "source": [
        "#### Building the corpus"
      ]
    },
    {
      "cell_type": "markdown",
      "metadata": {
        "id": "8I8fMRRrQ5zF"
      },
      "source": [
        "In the 2 cells below you can check if the 2 datasets are aligned. Even if you don't speak the language you can get a sense, especially with similar words, punctuation, and so forth."
      ]
    },
    {
      "cell_type": "code",
      "metadata": {
        "colab": {
          "base_uri": "https://localhost:8080/"
        },
        "id": "UHpOmS0xQ5zF",
        "scrolled": true,
        "outputId": "a76cafbc-87b4-4f0d-bdb7-96e70dd6bf76"
      },
      "source": [
        "! head -5 jw300.$src"
      ],
      "execution_count": 12,
      "outputs": [
        {
          "output_type": "stream",
          "text": [
            "Sommaire\n",
            "8 janvier 2000\n",
            "Médecine et chirurgie sans transfusion : une discipline en plein essor\n",
            "De plus en plus de patients optent pour la chirurgie sans transfusion .\n",
            "Pourquoi , et quels sont les résultats ?\n"
          ],
          "name": "stdout"
        }
      ]
    },
    {
      "cell_type": "code",
      "metadata": {
        "colab": {
          "base_uri": "https://localhost:8080/"
        },
        "id": "mgPwLbD8Q5zG",
        "outputId": "ba1330b8-4459-4eb0-f0d6-86e8a86233a4"
      },
      "source": [
        "! head -5 jw300.$tgt"
      ],
      "execution_count": 13,
      "outputs": [
        {
          "output_type": "stream",
          "text": [
            "Ukurasa wa pili\n",
            "Mwezi wa 8 , 2000\n",
            "Tiba na Upasuaji Bila Damu Uhitaji Unaoongezeka 3 - 11\n",
            "Sasa tiba na upasuaji bila damu ni wa kawaida zaidi kuliko wakati mwingine wowote .\n",
            "Kwa nini unahitajiwa sana namna hiyo ?\n"
          ],
          "name": "stdout"
        }
      ]
    },
    {
      "cell_type": "code",
      "metadata": {
        "colab": {
          "base_uri": "https://localhost:8080/",
          "height": 474
        },
        "id": "IlJP5HzhQ5zJ",
        "outputId": "50a996b0-6906-45c2-b988-e21d6ff9e206"
      },
      "source": [
        "# TMX file to dataframe\n",
        "source_file = 'jw300.' + source_language  ## source language is english\n",
        "target_file = 'jw300.' + target_language ## Target is whatever you set. For our example it was ha, so jw300.ha\n",
        "target_test = {}\n",
        "source = []\n",
        "target = []\n",
        "english_sentences_in_global_test_set = {}  # Collect the line numbers of the source portion to skip the same lines for the target portion.\n",
        "with open(source_file) as src_f:\n",
        "    for i, line in enumerate(src_f):\n",
        "        # Skip sentences that are contained in the test set and add them into the new frencg test\n",
        "        if line.strip() not in src_test_sents:\n",
        "            source.append(line.strip())\n",
        "        else:\n",
        "            # Here is the intersection with the global test set\n",
        "            english_sentences_in_global_test_set[i] = line.strip()           \n",
        "with open(target_file) as f:\n",
        "    for j, line in enumerate(f):\n",
        "        # Only add to corpus if corresponding source was not skipped.\n",
        "        if j not in english_sentences_in_global_test_set.keys():\n",
        "            target.append(line.strip())\n",
        "        else:\n",
        "            #Collecting the aligned test sentences\n",
        "            target_test[j] = line.strip()\n",
        "    \n",
        "print('Loaded data and skipped {}/{} lines since contained in test set.'.format(len(english_sentences_in_global_test_set.keys()), i))\n",
        "    \n",
        "df = pd.DataFrame(zip(source, target), columns=['source_sentence', 'target_sentence'])\n",
        "# if you get TypeError: data argument can't be an iterator is because of your zip version run this below\n",
        "#df = pd.DataFrame(list(zip(source, target)), columns=['source_sentence', 'target_sentence'])\n",
        "df.head(10)"
      ],
      "execution_count": 14,
      "outputs": [
        {
          "output_type": "stream",
          "text": [
            "Loaded data and skipped 6292/497621 lines since contained in test set.\n"
          ],
          "name": "stdout"
        },
        {
          "output_type": "execute_result",
          "data": {
            "text/html": [
              "<div>\n",
              "<style scoped>\n",
              "    .dataframe tbody tr th:only-of-type {\n",
              "        vertical-align: middle;\n",
              "    }\n",
              "\n",
              "    .dataframe tbody tr th {\n",
              "        vertical-align: top;\n",
              "    }\n",
              "\n",
              "    .dataframe thead th {\n",
              "        text-align: right;\n",
              "    }\n",
              "</style>\n",
              "<table border=\"1\" class=\"dataframe\">\n",
              "  <thead>\n",
              "    <tr style=\"text-align: right;\">\n",
              "      <th></th>\n",
              "      <th>source_sentence</th>\n",
              "      <th>target_sentence</th>\n",
              "    </tr>\n",
              "  </thead>\n",
              "  <tbody>\n",
              "    <tr>\n",
              "      <th>0</th>\n",
              "      <td>8 janvier 2000</td>\n",
              "      <td>Mwezi wa 8 , 2000</td>\n",
              "    </tr>\n",
              "    <tr>\n",
              "      <th>1</th>\n",
              "      <td>Médecine et chirurgie sans transfusion : une d...</td>\n",
              "      <td>Tiba na Upasuaji Bila Damu Uhitaji Unaoongezek...</td>\n",
              "    </tr>\n",
              "    <tr>\n",
              "      <th>2</th>\n",
              "      <td>De plus en plus de patients optent pour la chi...</td>\n",
              "      <td>Sasa tiba na upasuaji bila damu ni wa kawaida ...</td>\n",
              "    </tr>\n",
              "    <tr>\n",
              "      <th>3</th>\n",
              "      <td>Pourquoi , et quels sont les résultats ?</td>\n",
              "      <td>Kwa nini unahitajiwa sana namna hiyo ?</td>\n",
              "    </tr>\n",
              "    <tr>\n",
              "      <th>4</th>\n",
              "      <td>12 Voulez - ​ vous apprendre une langue étrang...</td>\n",
              "      <td>Je , ni njia badala iliyo salama ya utiaji - d...</td>\n",
              "    </tr>\n",
              "    <tr>\n",
              "      <th>5</th>\n",
              "      <td>Le monde étonnant des insectes 15</td>\n",
              "      <td>Wadudu Wenye Kustaajabisha 15</td>\n",
              "    </tr>\n",
              "    <tr>\n",
              "      <th>6</th>\n",
              "      <td>Plutôt que d’écraser tous ceux qui croisent vo...</td>\n",
              "      <td>Badala ya kupondaponda kila mdudu unayekutana ...</td>\n",
              "    </tr>\n",
              "    <tr>\n",
              "      <th>7</th>\n",
              "      <td>Un point de vue équilibré sur les coutumes 26</td>\n",
              "      <td>Maoni Yaliyosawazika juu ya Desturi Zinazopend...</td>\n",
              "    </tr>\n",
              "    <tr>\n",
              "      <th>8</th>\n",
              "      <td>De nombreuses coutumes reposent sur des supers...</td>\n",
              "      <td>Desturi nyingi zinategemea mawazo ya kishiriki...</td>\n",
              "    </tr>\n",
              "    <tr>\n",
              "      <th>9</th>\n",
              "      <td>Comment un chrétien devrait - ​ il considérer ...</td>\n",
              "      <td>Mkristo apaswa kuonaje mazoea hayo ?</td>\n",
              "    </tr>\n",
              "  </tbody>\n",
              "</table>\n",
              "</div>"
            ],
            "text/plain": [
              "                                     source_sentence                                    target_sentence\n",
              "0                                     8 janvier 2000                                  Mwezi wa 8 , 2000\n",
              "1  Médecine et chirurgie sans transfusion : une d...  Tiba na Upasuaji Bila Damu Uhitaji Unaoongezek...\n",
              "2  De plus en plus de patients optent pour la chi...  Sasa tiba na upasuaji bila damu ni wa kawaida ...\n",
              "3           Pourquoi , et quels sont les résultats ?             Kwa nini unahitajiwa sana namna hiyo ?\n",
              "4  12 Voulez - ​ vous apprendre une langue étrang...  Je , ni njia badala iliyo salama ya utiaji - d...\n",
              "5                  Le monde étonnant des insectes 15                      Wadudu Wenye Kustaajabisha 15\n",
              "6  Plutôt que d’écraser tous ceux qui croisent vo...  Badala ya kupondaponda kila mdudu unayekutana ...\n",
              "7      Un point de vue équilibré sur les coutumes 26  Maoni Yaliyosawazika juu ya Desturi Zinazopend...\n",
              "8  De nombreuses coutumes reposent sur des supers...  Desturi nyingi zinategemea mawazo ya kishiriki...\n",
              "9  Comment un chrétien devrait - ​ il considérer ...               Mkristo apaswa kuonaje mazoea hayo ?"
            ]
          },
          "metadata": {
            "tags": []
          },
          "execution_count": 14
        }
      ]
    },
    {
      "cell_type": "markdown",
      "metadata": {
        "id": "krpoFeY_TtrG"
      },
      "source": [
        "## Check a random item!\n",
        "Let's pick one of the keys in the dictionary at random and check it. "
      ]
    },
    {
      "cell_type": "code",
      "metadata": {
        "colab": {
          "base_uri": "https://localhost:8080/"
        },
        "id": "aGBDbByaQ5zL",
        "scrolled": true,
        "outputId": "844e3f08-3ed9-4a22-e555-104e2ecd4c0b"
      },
      "source": [
        "import random\n",
        "keys_in_target_test = list(target_test.keys())\n",
        "print(type(keys_in_target_test))\n",
        "random_key = random.choice(keys_in_target_test)\n",
        "print(f\"The random key we picked was {random_key}\")"
      ],
      "execution_count": 15,
      "outputs": [
        {
          "output_type": "stream",
          "text": [
            "<class 'list'>\n",
            "The random key we picked was 491250\n"
          ],
          "name": "stdout"
        }
      ]
    },
    {
      "cell_type": "code",
      "metadata": {
        "colab": {
          "base_uri": "https://localhost:8080/",
          "height": 35
        },
        "id": "b0rjaSMyUzMt",
        "outputId": "584ba71d-e42c-448b-b247-011966223d0d"
      },
      "source": [
        "target_test[random_key]"
      ],
      "execution_count": 16,
      "outputs": [
        {
          "output_type": "execute_result",
          "data": {
            "application/vnd.google.colaboratory.intrinsic+json": {
              "type": "string"
            },
            "text/plain": [
              "'Kumutegemea Yehova kunatupatia uhodari ao nguvu ya kuvumilia majaribu .'"
            ]
          },
          "metadata": {
            "tags": []
          },
          "execution_count": 16
        }
      ]
    },
    {
      "cell_type": "code",
      "metadata": {
        "colab": {
          "base_uri": "https://localhost:8080/",
          "height": 52
        },
        "id": "_H63DagnQ5zM",
        "outputId": "7d85bc16-40fb-4c35-fb93-5a943b945675"
      },
      "source": [
        "english_sentences_in_global_test_set[random_key]"
      ],
      "execution_count": 17,
      "outputs": [
        {
          "output_type": "execute_result",
          "data": {
            "application/vnd.google.colaboratory.intrinsic+json": {
              "type": "string"
            },
            "text/plain": [
              "'La confiance en Jéhovah nous donne le courage de supporter toutes sortes d’épreuves .'"
            ]
          },
          "metadata": {
            "tags": []
          },
          "execution_count": 17
        }
      ]
    },
    {
      "cell_type": "markdown",
      "metadata": {
        "id": "Pwuc4IlEe1TR"
      },
      "source": [
        "Do the two look like they line up? "
      ]
    },
    {
      "cell_type": "markdown",
      "metadata": {
        "id": "K5mtDXEoe9NC"
      },
      "source": [
        "## Check several rows at the tail end\n",
        "\n",
        "Let's get a sample from the end of the dataset"
      ]
    },
    {
      "cell_type": "code",
      "metadata": {
        "id": "uD7ht8dKQ5zN"
      },
      "source": [
        "target_test_set = pd.DataFrame(zip(target_test.values(), english_sentences_in_global_test_set.values()), columns=[f'{target_language}_equivalent', f'{source_language}_equivalent'])"
      ],
      "execution_count": 18,
      "outputs": []
    },
    {
      "cell_type": "code",
      "metadata": {
        "id": "QclpZObEQ5zN"
      },
      "source": [
        "target_test_set = target_test_set.reset_index()"
      ],
      "execution_count": 19,
      "outputs": []
    },
    {
      "cell_type": "code",
      "metadata": {
        "id": "TqPm3EDTQ5zN"
      },
      "source": [
        "target_test_set = target_test_set.set_index(\"index\")"
      ],
      "execution_count": 20,
      "outputs": []
    },
    {
      "cell_type": "code",
      "metadata": {
        "colab": {
          "base_uri": "https://localhost:8080/",
          "height": 301
        },
        "id": "LnXQ31qOQ5zO",
        "outputId": "05b3ba6d-bb50-4820-911c-ca4229487923"
      },
      "source": [
        "target_test_set.tail()"
      ],
      "execution_count": 21,
      "outputs": [
        {
          "output_type": "execute_result",
          "data": {
            "text/html": [
              "<div>\n",
              "<style scoped>\n",
              "    .dataframe tbody tr th:only-of-type {\n",
              "        vertical-align: middle;\n",
              "    }\n",
              "\n",
              "    .dataframe tbody tr th {\n",
              "        vertical-align: top;\n",
              "    }\n",
              "\n",
              "    .dataframe thead th {\n",
              "        text-align: right;\n",
              "    }\n",
              "</style>\n",
              "<table border=\"1\" class=\"dataframe\">\n",
              "  <thead>\n",
              "    <tr style=\"text-align: right;\">\n",
              "      <th></th>\n",
              "      <th>swc_equivalent</th>\n",
              "      <th>fr_equivalent</th>\n",
              "    </tr>\n",
              "    <tr>\n",
              "      <th>index</th>\n",
              "      <th></th>\n",
              "      <th></th>\n",
              "    </tr>\n",
              "  </thead>\n",
              "  <tbody>\n",
              "    <tr>\n",
              "      <th>6287</th>\n",
              "      <td>Ni nani mwenye kuwa na akili sana ; mutu mweny...</td>\n",
              "      <td>Alors , qui est le plus intelligent : le créat...</td>\n",
              "    </tr>\n",
              "    <tr>\n",
              "      <th>6288</th>\n",
              "      <td>13 , 14 .</td>\n",
              "      <td>13 , 14 .</td>\n",
              "    </tr>\n",
              "    <tr>\n",
              "      <th>6289</th>\n",
              "      <td>Baba mumoja alisema hivi : “ Usichoke hata kid...</td>\n",
              "      <td>Un père conseille : « Ne vous fatiguez jamais ...</td>\n",
              "    </tr>\n",
              "    <tr>\n",
              "      <th>6290</th>\n",
              "      <td>Ndiyo sababu ni jambo la maana wazazi wasiache...</td>\n",
              "      <td>C’est pour cela que c’est important que les pa...</td>\n",
              "    </tr>\n",
              "    <tr>\n",
              "      <th>6291</th>\n",
              "      <td>Acha watoto wako watambue kama unaona Yehova k...</td>\n",
              "      <td>Montre - ​ leur que Jéhovah est vraiment réel ...</td>\n",
              "    </tr>\n",
              "  </tbody>\n",
              "</table>\n",
              "</div>"
            ],
            "text/plain": [
              "                                          swc_equivalent                                      fr_equivalent\n",
              "index                                                                                                      \n",
              "6287   Ni nani mwenye kuwa na akili sana ; mutu mweny...  Alors , qui est le plus intelligent : le créat...\n",
              "6288                                           13 , 14 .                                          13 , 14 .\n",
              "6289   Baba mumoja alisema hivi : “ Usichoke hata kid...  Un père conseille : « Ne vous fatiguez jamais ...\n",
              "6290   Ndiyo sababu ni jambo la maana wazazi wasiache...  C’est pour cela que c’est important que les pa...\n",
              "6291   Acha watoto wako watambue kama unaona Yehova k...  Montre - ​ leur que Jéhovah est vraiment réel ..."
            ]
          },
          "metadata": {
            "tags": []
          },
          "execution_count": 21
        }
      ]
    },
    {
      "cell_type": "markdown",
      "metadata": {
        "id": "r-7KKhEcQ5zO"
      },
      "source": [
        "Removing duplicates from english and target set"
      ]
    },
    {
      "cell_type": "code",
      "metadata": {
        "id": "Y0sCRCX2Q5zO"
      },
      "source": [
        "target_test_set = target_test_set.drop_duplicates(subset=f'{target_language}_equivalent')\n",
        "target_test_set = target_test_set.drop_duplicates(subset=f'{source_language}_equivalent')"
      ],
      "execution_count": 22,
      "outputs": []
    },
    {
      "cell_type": "code",
      "metadata": {
        "id": "6biqqTgUQ5zP"
      },
      "source": [
        "# target_test_set = target_test_set.drop_duplicates()"
      ],
      "execution_count": 23,
      "outputs": []
    },
    {
      "cell_type": "code",
      "metadata": {
        "colab": {
          "base_uri": "https://localhost:8080/",
          "height": 318
        },
        "id": "IrqizJY3Q5zQ",
        "outputId": "48749e8a-d98f-4826-9d54-9a89a48a6ecf"
      },
      "source": [
        "target_test_set.tail()"
      ],
      "execution_count": 24,
      "outputs": [
        {
          "output_type": "execute_result",
          "data": {
            "text/html": [
              "<div>\n",
              "<style scoped>\n",
              "    .dataframe tbody tr th:only-of-type {\n",
              "        vertical-align: middle;\n",
              "    }\n",
              "\n",
              "    .dataframe tbody tr th {\n",
              "        vertical-align: top;\n",
              "    }\n",
              "\n",
              "    .dataframe thead th {\n",
              "        text-align: right;\n",
              "    }\n",
              "</style>\n",
              "<table border=\"1\" class=\"dataframe\">\n",
              "  <thead>\n",
              "    <tr style=\"text-align: right;\">\n",
              "      <th></th>\n",
              "      <th>swc_equivalent</th>\n",
              "      <th>fr_equivalent</th>\n",
              "    </tr>\n",
              "    <tr>\n",
              "      <th>index</th>\n",
              "      <th></th>\n",
              "      <th></th>\n",
              "    </tr>\n",
              "  </thead>\n",
              "  <tbody>\n",
              "    <tr>\n",
              "      <th>6286</th>\n",
              "      <td>Na namna gani unaweza kulinganisha mulio wa av...</td>\n",
              "      <td>Et qu’est - ​ ce qui est plus joli : le bruit ...</td>\n",
              "    </tr>\n",
              "    <tr>\n",
              "      <th>6287</th>\n",
              "      <td>Ni nani mwenye kuwa na akili sana ; mutu mweny...</td>\n",
              "      <td>Alors , qui est le plus intelligent : le créat...</td>\n",
              "    </tr>\n",
              "    <tr>\n",
              "      <th>6289</th>\n",
              "      <td>Baba mumoja alisema hivi : “ Usichoke hata kid...</td>\n",
              "      <td>Un père conseille : « Ne vous fatiguez jamais ...</td>\n",
              "    </tr>\n",
              "    <tr>\n",
              "      <th>6290</th>\n",
              "      <td>Ndiyo sababu ni jambo la maana wazazi wasiache...</td>\n",
              "      <td>C’est pour cela que c’est important que les pa...</td>\n",
              "    </tr>\n",
              "    <tr>\n",
              "      <th>6291</th>\n",
              "      <td>Acha watoto wako watambue kama unaona Yehova k...</td>\n",
              "      <td>Montre - ​ leur que Jéhovah est vraiment réel ...</td>\n",
              "    </tr>\n",
              "  </tbody>\n",
              "</table>\n",
              "</div>"
            ],
            "text/plain": [
              "                                          swc_equivalent                                      fr_equivalent\n",
              "index                                                                                                      \n",
              "6286   Na namna gani unaweza kulinganisha mulio wa av...  Et qu’est - ​ ce qui est plus joli : le bruit ...\n",
              "6287   Ni nani mwenye kuwa na akili sana ; mutu mweny...  Alors , qui est le plus intelligent : le créat...\n",
              "6289   Baba mumoja alisema hivi : “ Usichoke hata kid...  Un père conseille : « Ne vous fatiguez jamais ...\n",
              "6290   Ndiyo sababu ni jambo la maana wazazi wasiache...  C’est pour cela que c’est important que les pa...\n",
              "6291   Acha watoto wako watambue kama unaona Yehova k...  Montre - ​ leur que Jéhovah est vraiment réel ..."
            ]
          },
          "metadata": {
            "tags": []
          },
          "execution_count": 24
        }
      ]
    },
    {
      "cell_type": "code",
      "metadata": {
        "colab": {
          "base_uri": "https://localhost:8080/"
        },
        "id": "TJDI9P-LQ5zS",
        "outputId": "78ab05f0-af2a-4662-c1d4-a1ebfe208b8e"
      },
      "source": [
        "target_test_set.shape"
      ],
      "execution_count": 25,
      "outputs": [
        {
          "output_type": "execute_result",
          "data": {
            "text/plain": [
              "(2792, 2)"
            ]
          },
          "metadata": {
            "tags": []
          },
          "execution_count": 25
        }
      ]
    },
    {
      "cell_type": "code",
      "metadata": {
        "colab": {
          "base_uri": "https://localhost:8080/",
          "height": 80
        },
        "id": "jyWb1BPsQ5zT",
        "outputId": "a891dbb7-f826-422f-ebca-374beb2ab943"
      },
      "source": [
        "target_test_set.loc[~target_test_set[f'{source_language}_equivalent'].isin(src_test_sents)]"
      ],
      "execution_count": 26,
      "outputs": [
        {
          "output_type": "execute_result",
          "data": {
            "text/html": [
              "<div>\n",
              "<style scoped>\n",
              "    .dataframe tbody tr th:only-of-type {\n",
              "        vertical-align: middle;\n",
              "    }\n",
              "\n",
              "    .dataframe tbody tr th {\n",
              "        vertical-align: top;\n",
              "    }\n",
              "\n",
              "    .dataframe thead th {\n",
              "        text-align: right;\n",
              "    }\n",
              "</style>\n",
              "<table border=\"1\" class=\"dataframe\">\n",
              "  <thead>\n",
              "    <tr style=\"text-align: right;\">\n",
              "      <th></th>\n",
              "      <th>swc_equivalent</th>\n",
              "      <th>fr_equivalent</th>\n",
              "    </tr>\n",
              "    <tr>\n",
              "      <th>index</th>\n",
              "      <th></th>\n",
              "      <th></th>\n",
              "    </tr>\n",
              "  </thead>\n",
              "  <tbody>\n",
              "  </tbody>\n",
              "</table>\n",
              "</div>"
            ],
            "text/plain": [
              "Empty DataFrame\n",
              "Columns: [swc_equivalent, fr_equivalent]\n",
              "Index: []"
            ]
          },
          "metadata": {
            "tags": []
          },
          "execution_count": 26
        }
      ]
    },
    {
      "cell_type": "markdown",
      "metadata": {
        "id": "iFBOZerTjxSI"
      },
      "source": [
        "## Write out target-language test set file\n",
        "In our example, we should have `test.ln-any.ln`, but it will be different for you if you picked a different code."
      ]
    },
    {
      "cell_type": "code",
      "metadata": {
        "colab": {
          "base_uri": "https://localhost:8080/"
        },
        "id": "C6zxiOfdVab2",
        "outputId": "9e7cde73-4ad8-42fb-fa64-544e592fd05e"
      },
      "source": [
        "target_test_filename = f\"test.{target_language}-any.{target_language}\"\n",
        "print(target_test_filename)"
      ],
      "execution_count": 27,
      "outputs": [
        {
          "output_type": "stream",
          "text": [
            "test.swc-any.swc\n"
          ],
          "name": "stdout"
        }
      ]
    },
    {
      "cell_type": "markdown",
      "metadata": {
        "id": "3LXXXfwjfZQq"
      },
      "source": [
        "## Write out English-language test set file\n",
        "In our example, we should have `test.fr-ln.fr`, but it will be different for you if you picked a different code.\n",
        "\n",
        "**Make sure the data lines up in the two files!**\n",
        "The first line of each file should be translations of each other.\n"
      ]
    },
    {
      "cell_type": "code",
      "metadata": {
        "id": "CpFWMOhdQ5zU"
      },
      "source": [
        "with open(target_test_filename, \"w\") as test_tgt_any_tgt:\n",
        "    test_tgt_any_tgt.write(\"\\n\".join(target_test_set[f'{target_language}_equivalent']))"
      ],
      "execution_count": 28,
      "outputs": []
    },
    {
      "cell_type": "code",
      "metadata": {
        "colab": {
          "base_uri": "https://localhost:8080/"
        },
        "id": "cnZUf97gQ5zV",
        "outputId": "3f04383c-9b1a-4237-ef5e-5752c65868fb"
      },
      "source": [
        "!head -5 test.$tgt-any.$tgt"
      ],
      "execution_count": 29,
      "outputs": [
        {
          "output_type": "stream",
          "text": [
            "Ukurasa wa pili\n",
            "Kwa nini ?\n",
            "Sasa gazeti Amkeni !\n",
            "La .\n",
            "Baadhi ya majina yamebadilishwa .\n"
          ],
          "name": "stdout"
        }
      ]
    },
    {
      "cell_type": "code",
      "metadata": {
        "colab": {
          "base_uri": "https://localhost:8080/"
        },
        "id": "HZ93jNULQ5zV",
        "outputId": "49de24b7-278a-4b90-a25c-09fc3157dc9d"
      },
      "source": [
        "source_test_filename = f\"test.{source_language}-{target_language}.{source_language}\"\n",
        "print(f\"saving english aligned sentences to {source_test_filename}\")\n",
        "with open(source_test_filename, \"w\") as test_src_tgt_src:\n",
        "    test_src_tgt_src.write(\"\\n\".join(target_test_set[f'{source_language}_equivalent']))\n",
        "!ls -al"
      ],
      "execution_count": 30,
      "outputs": [
        {
          "output_type": "stream",
          "text": [
            "saving english aligned sentences to test.fr-swc.fr\n",
            "total 456264\n",
            "drwxr-xr-x 1 root root      4096 Jul 23 16:32 .\n",
            "drwxr-xr-x 1 root root      4096 Jul 23 16:27 ..\n",
            "drwxr-xr-x 4 root root      4096 Jul 16 13:19 .config\n",
            "drwxr-xr-x 2 root root      4096 Jul 23 16:29 fr-swc-baseline\n",
            "-rw-r--r-- 1 root root  48329463 Jul 23 16:32 jw300.fr\n",
            "-rw-r--r-- 1 root root  33329795 Jul 23 16:29 JW300_latest_xml_fr-swc.xml\n",
            "-rw-r--r-- 1 root root 285126296 Jul 23 16:29 JW300_latest_xml_fr.zip\n",
            "-rw-r--r-- 1 root root  55358133 Jul 23 16:29 JW300_latest_xml_swc.zip\n",
            "-rw-r--r-- 1 root root  44154279 Jul 23 16:32 jw300.swc\n",
            "drwxr-xr-x 1 root root      4096 Jul 16 13:20 sample_data\n",
            "-rw-r--r-- 1 root root    377235 Jul 23 16:32 test.fr-any.fr\n",
            "-rw-r--r-- 1 root root    251866 Jul 23 16:32 test.fr-swc.fr\n",
            "-rw-r--r-- 1 root root    241462 Jul 23 16:32 test.swc-any.swc\n"
          ],
          "name": "stdout"
        }
      ]
    },
    {
      "cell_type": "code",
      "metadata": {
        "colab": {
          "base_uri": "https://localhost:8080/"
        },
        "id": "zKW2y01hbOyc",
        "outputId": "0407c526-9dde-4120-b6cc-6b9d4d7d9e64"
      },
      "source": [
        "!head -5 test.$src-$tgt.$src"
      ],
      "execution_count": 31,
      "outputs": [
        {
          "output_type": "stream",
          "text": [
            "Sommaire\n",
            "Pourquoi ?\n",
            "Réveillez - vous !\n",
            "Non .\n",
            "Par souci d’anonymat , certains noms ont été changés .\n"
          ],
          "name": "stdout"
        }
      ]
    },
    {
      "cell_type": "code",
      "metadata": {
        "colab": {
          "base_uri": "https://localhost:8080/"
        },
        "id": "tsGlxBIxekZ8",
        "outputId": "7142f7c2-3f93-4f25-c9fd-77e844630503"
      },
      "source": [
        "source_test_filename = f\"test.{source_language}-{target_language}.{target_language}\"\n",
        "print(f\"saving english aligned sentences to {source_test_filename}\")\n",
        "with open(source_test_filename, \"w\") as test_en_tgt_tgt:\n",
        "    test_en_tgt_tgt.write(\"\\n\".join(target_test_set[f'{target_language}_equivalent']))\n",
        "!ls -al"
      ],
      "execution_count": 32,
      "outputs": [
        {
          "output_type": "stream",
          "text": [
            "saving english aligned sentences to test.fr-swc.swc\n",
            "total 456500\n",
            "drwxr-xr-x 1 root root      4096 Jul 23 16:32 .\n",
            "drwxr-xr-x 1 root root      4096 Jul 23 16:27 ..\n",
            "drwxr-xr-x 4 root root      4096 Jul 16 13:19 .config\n",
            "drwxr-xr-x 2 root root      4096 Jul 23 16:29 fr-swc-baseline\n",
            "-rw-r--r-- 1 root root  48329463 Jul 23 16:32 jw300.fr\n",
            "-rw-r--r-- 1 root root  33329795 Jul 23 16:29 JW300_latest_xml_fr-swc.xml\n",
            "-rw-r--r-- 1 root root 285126296 Jul 23 16:29 JW300_latest_xml_fr.zip\n",
            "-rw-r--r-- 1 root root  55358133 Jul 23 16:29 JW300_latest_xml_swc.zip\n",
            "-rw-r--r-- 1 root root  44154279 Jul 23 16:32 jw300.swc\n",
            "drwxr-xr-x 1 root root      4096 Jul 16 13:20 sample_data\n",
            "-rw-r--r-- 1 root root    377235 Jul 23 16:32 test.fr-any.fr\n",
            "-rw-r--r-- 1 root root    251866 Jul 23 16:32 test.fr-swc.fr\n",
            "-rw-r--r-- 1 root root    241462 Jul 23 16:32 test.fr-swc.swc\n",
            "-rw-r--r-- 1 root root    241462 Jul 23 16:32 test.swc-any.swc\n"
          ],
          "name": "stdout"
        }
      ]
    },
    {
      "cell_type": "code",
      "metadata": {
        "colab": {
          "base_uri": "https://localhost:8080/"
        },
        "id": "RzNlzeszd5ha",
        "outputId": "a00b8b49-48ed-4e17-cdc8-05d4c6636616"
      },
      "source": [
        "!head -5 test.$src-$tgt.$tgt"
      ],
      "execution_count": 33,
      "outputs": [
        {
          "output_type": "stream",
          "text": [
            "Ukurasa wa pili\n",
            "Kwa nini ?\n",
            "Sasa gazeti Amkeni !\n",
            "La .\n",
            "Baadhi ya majina yamebadilishwa .\n"
          ],
          "name": "stdout"
        }
      ]
    },
    {
      "cell_type": "markdown",
      "metadata": {
        "id": "kr79AnMtfxyQ"
      },
      "source": [
        "## One last check to see if the two files are aligned\n",
        "\n",
        "Let's just get one more sample! Let's take from the end this time"
      ]
    },
    {
      "cell_type": "code",
      "metadata": {
        "colab": {
          "base_uri": "https://localhost:8080/"
        },
        "id": "gvmVNumtf3sC",
        "outputId": "2f4834e6-bfaf-477d-aa5e-5998f84b6313"
      },
      "source": [
        "!echo \"test.$src-$tgt.$src\"\n",
        "!tail -5 test.$src-$tgt.$src\n",
        "!echo\n",
        "!echo \"**********************\"\n",
        "!echo \"test.$src-$tgt.$tgt\"\n",
        "!tail -5 test.$src-$tgt.$tgt\n",
        "!echo\n",
        "!echo \"**********************\"\n",
        "!echo \"test.$tgt-any.$tgt\"\n",
        "!echo \"**********************\"\n",
        "!tail -5 test.$tgt-any.$tgt"
      ],
      "execution_count": 34,
      "outputs": [
        {
          "output_type": "stream",
          "text": [
            "test.fr-swc.fr\n",
            "Et qu’est - ​ ce qui est plus joli : le bruit d’un avion ou le chant d’un oiseau ?\n",
            "Alors , qui est le plus intelligent : le créateur des avions ou le Créateur des oiseaux ?\n",
            "Un père conseille : « Ne vous fatiguez jamais d’essayer de nouvelles méthodes pour reparler de vieux sujets .\n",
            "C’est pour cela que c’est important que les parents n’arrêtent jamais d’enseigner .\n",
            "Montre - ​ leur que Jéhovah est vraiment réel pour toi .\n",
            "**********************\n",
            "test.fr-swc.swc\n",
            "Na namna gani unaweza kulinganisha mulio wa avion na wimbo wa ndege ?\n",
            "Ni nani mwenye kuwa na akili sana ; mutu mwenye alitengeneza avion ao Muumbaji wa ndege ? ”\n",
            "Baba mumoja alisema hivi : “ Usichoke hata kidogo kutumia njia za mupya ili kufasiria habari za zamani . ”\n",
            "Ndiyo sababu ni jambo la maana wazazi wasiache kufundisha watoto wao . ”\n",
            "Acha watoto wako watambue kama unaona Yehova kuwa mutu wa kweli kabisa .\n",
            "**********************\n",
            "test.swc-any.swc\n",
            "**********************\n",
            "Na namna gani unaweza kulinganisha mulio wa avion na wimbo wa ndege ?\n",
            "Ni nani mwenye kuwa na akili sana ; mutu mwenye alitengeneza avion ao Muumbaji wa ndege ? ”\n",
            "Baba mumoja alisema hivi : “ Usichoke hata kidogo kutumia njia za mupya ili kufasiria habari za zamani . ”\n",
            "Ndiyo sababu ni jambo la maana wazazi wasiache kufundisha watoto wao . ”\n",
            "Acha watoto wako watambue kama unaona Yehova kuwa mutu wa kweli kabisa ."
          ],
          "name": "stdout"
        }
      ]
    },
    {
      "cell_type": "code",
      "metadata": {
        "id": "P2miJypOj0rg"
      },
      "source": [
        ""
      ],
      "execution_count": 34,
      "outputs": []
    }
  ]
}