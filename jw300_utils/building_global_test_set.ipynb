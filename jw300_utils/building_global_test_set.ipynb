{
  "nbformat": 4,
  "nbformat_minor": 0,
  "metadata": {
    "colab": {
      "name": "building_global_test_set.ipynb",
      "provenance": [],
      "collapsed_sections": [],
      "include_colab_link": true
    },
    "kernelspec": {
      "display_name": "Python 3 (ipykernel)",
      "language": "python",
      "name": "python3"
    },
    "language_info": {
      "codemirror_mode": {
        "name": "ipython",
        "version": 3
      },
      "file_extension": ".py",
      "mimetype": "text/x-python",
      "name": "python",
      "nbconvert_exporter": "python",
      "pygments_lexer": "ipython3",
      "version": "3.7.10"
    }
  },
  "cells": [
    {
      "cell_type": "markdown",
      "metadata": {
        "id": "view-in-github",
        "colab_type": "text"
      },
      "source": [
        "<a href=\"https://colab.research.google.com/github/Kabongosalomon/RDC-Mobongoli/blob/main/jw300_utils/building_global_test_set.ipynb\" target=\"_parent\"><img src=\"https://colab.research.google.com/assets/colab-badge.svg\" alt=\"Open In Colab\"/></a>"
      ]
    },
    {
      "cell_type": "code",
      "metadata": {
        "id": "wH8AJ3OAVBpF",
        "outputId": "cc6d5617-71d8-4239-dcbb-68cd47a3bcfd",
        "colab": {
          "base_uri": "https://localhost:8080/"
        }
      },
      "source": [
        "from google.colab import drive\n",
        "drive.mount('/content/drive')"
      ],
      "execution_count": 1,
      "outputs": [
        {
          "output_type": "stream",
          "text": [
            "Mounted at /content/drive\n"
          ],
          "name": "stdout"
        }
      ]
    },
    {
      "cell_type": "markdown",
      "metadata": {
        "id": "yLIkGn6RQ5yg"
      },
      "source": [
        "### Setting Up the data"
      ]
    },
    {
      "cell_type": "markdown",
      "metadata": {
        "id": "P_uBo3H6Q5yr"
      },
      "source": [
        "Downloading the global test set is simple,\n",
        "we need to set english and your target as source and target language, then we find the intersection of the english test set with the target corpus after that we get the corresponding target sentences from the target corpus."
      ]
    },
    {
      "cell_type": "code",
      "metadata": {
        "id": "4rdvcs5aRVbf"
      },
      "source": [
        "%%capture\n",
        "!pip install opustools-pkg"
      ],
      "execution_count": 2,
      "outputs": []
    },
    {
      "cell_type": "markdown",
      "metadata": {
        "id": "FG5qoTCkdyCy"
      },
      "source": [
        "# SET THE LANGUAGE CODE and other variables.\n",
        "\n",
        "You need to change the value below for your language!\n",
        "\n",
        "The language codes from the [JW300 corpus website](https://opus.nlpl.eu/JW300.php) are: \n",
        "```\n",
        "[\"ab\", \"ach\", \"ada\", \"ady\", \"aed\", \"af\", \"aha\", \"ajg\", \"alt\", \"alz\", \"am\", \"ami\", \"amu\", \"aoc\", \"ar\", \"arh\", \"arn\", \"as\", \"ase\", \"asf\", \"ati\", \"ay\", \"az\", \"az_Cyrl\", \"ba\", \"bas\", \"bbc\", \"bbj\", \"bci\", \"bcl\", \"bem\", \"bfi\", \"bg\", \"bhw\", \"bi\", \"bin\", \"bn\", \"btg\", \"bts\", \"btx\", \"bum\", \"bvl\", \"byv\", \"bzj\", \"bzs\", \"cab\", \"cac\", \"cak\", \"cat\", \"cce\", \"ceb\", \"chf\", \"chj\", \"chk\", \"chw\", \"cjk\", \"cmn_Hans\", \"cmn_Hant\", \"cnh\", \"crs\", \"cs\", \"cse\", \"csf\", \"csg\", \"csl\", \"csn\", \"csr\", \"cto\", \"ctu\", \"cuk\", \"cv\", \"cy\", \"da\", \"daf\", \"de\", \"dga\", \"dhv\", \"djk\", \"dtp\", \"dua\", \"dyu\", \"ecs\", \"ee\", \"efi\", \"el\", \"en\", \"es\", \"esn\", \"et\", \"eu\", \"ewo\", \"fa\", \"fan\", \"fat\", \"fcs\", \"fi\", \"fj\", \"fo\", \"fon\", \"fr\", \"fse\", \"fsl\", \"ga\", \"gaa\", \"gcf\", \"gcr\", \"gil\", \"gl\", \"gom\", \"gsg\", \"gsm\", \"gss\", \"gu\", \"guc\", \"gug\", \"gum\", \"gur\", \"guw\", \"gxx\", \"gym\", \"ha\", \"hch\", \"hds\", \"he\", \"hi\", \"hil\", \"hmn\", \"ho\", \"hr\", \"hrx\", \"hsh\", \"ht\", \"hu\", \"hus\", \"hy\", \"hy_arevmda\", \"hye_x_hma\", \"hye_x_hms\", \"hz\", \"iba\", \"ibg\", \"id\", \"ig\", \"ilo\", \"inl\", \"ins\", \"is\", \"ise\", \"ish\", \"iso\", \"it\", \"ja\", \"jiv\", \"jmx\", \"jsl\", \"jv\", \"jw_dgr\", \"jw_dmr\", \"jw_ibi\", \"jw_paa\", \"jw_qcs\", \"jw_rmg\", \"jw_rmv\", \"jw_spl\", \"jw_ssa\", \"jw_tpo\", \"jw_vlc\", \"jw_vz\", \"ka\", \"kab\", \"kac\", \"kam\", \"kbp\", \"kea\", \"kek\", \"kg\", \"ki\", \"kj\", \"kjh\", \"kk_Arab\", \"kk_Cyrl\", \"kl\", \"km\", \"kmb\", \"kmr\", \"kmr_Cyrl\", \"kmr_latn\", \"kn\", \"ko\", \"koo\", \"kqn\", \"krc\", \"kri\", \"kss\", \"ksw\", \"kvk\", \"kwn\", \"kwy\", \"ky\", \"lam\", \"lg\", \"ln\", \"lo\", \"loz\", \"lsp\", \"lt\", \"lu\", \"lua\", \"lue\", \"lun\", \"luo\", \"lus\", \"lv\", \"mam\", \"mau\", \"maz\", \"mco\", \"mcp\", \"men\", \"mfe\", \"mfs\", \"mg\", \"mgr\", \"mh\", \"mhr\", \"miq\", \"mk\", \"ml\", \"mn\", \"mos\", \"mr\", \"mrq\", \"mt\", \"mxv\", \"my\", \"mzy\", \"nba\", \"nch\", \"ncj\", \"ncs\", \"ncx\", \"nd\", \"ndc\", \"ne\", \"ng\", \"ngl\", \"ngu\", \"nhk\", \"nia\", \"nij\", \"niu\", \"nl\", \"nnh\", \"no\", \"nr\", \"nso\", \"nv\", \"ny\", \"nya\", \"nyk\", \"nyn\", \"nyu\", \"nzi\", \"oke\", \"om\", \"or\", \"os\", \"ote\", \"pa\", \"pag\", \"pap\", \"pbb\", \"pcm\", \"pdc\", \"pdt\", \"pid\", \"pis\", \"pl\", \"pnb\", \"pon\", \"prl\", \"pso\", \"psp\", \"psr\", \"pt\", \"pys\", \"qu\", \"quc\", \"que\", \"qug\", \"qus\", \"quw\", \"quy\", \"quz\", \"qvi\", \"qvz\", \"rar\", \"rcf\", \"rmc_sk\", \"rmn\", \"rmn_Cyrl\", \"rms\", \"rmy\", \"rmy_AR\", \"rnd\", \"ro\", \"rsl\", \"ru\", \"run\", \"rw\", \"sah\", \"sbs\", \"seh\", \"sfs\", \"sfw\", \"sg\", \"sgn_AO\", \"si\", \"sid\", \"sk\", \"sl\", \"sm\", \"sn\", \"sop\", \"sq\", \"sqk\", \"sr_Cyrl\", \"sr_Latn\", \"srm\", \"srn\", \"ss\", \"ssp\", \"st\", \"su\", \"sv\", \"svk\", \"sw\", \"swc\", \"sxn\", \"ta\", \"tcf\", \"tdt\", \"tdx\", \"te\", \"tg\", \"th\", \"ti\", \"tiv\", \"tk\", \"tk_Cyrl\", \"tl\", \"tll\", \"tn\", \"to\", \"tob\", \"tog\", \"toh\", \"toi\", \"toi_zw\", \"toj\", \"top\", \"tpi\", \"tr\", \"ts\", \"tsc\", \"tso_MZ\", \"tss\", \"tsz\", \"tt\", \"ttj\", \"tum\", \"tvl\", \"tw\", \"ty\", \"tyv\", \"tzh\", \"tzo\", \"udm\", \"ug_Cyrl\", \"uk\", \"umb\", \"ur\", \"urh\", \"uz_Cyrl\", \"uz_Latn\", \"ve\", \"vec\", \"vi\", \"vmw\", \"vsl\", \"wal\", \"war\", \"wba\", \"wes\", \"wes_ng\", \"wls\", \"wlv\", \"xh\", \"xmf\", \"xpe\", \"yao\", \"yap\", \"ybb\", \"yo\", \"yua\", \"yue_Hans\", \"yue_Hant\", \"zab\", \"zai\", \"zdj\", \"zib\", \"zlm\", \"zne\", \"zpa\", \"zpg\", \"zsl\", \"zu\",\"]\n",
        "```\n",
        "Already-created test sets: https://github.com/juliakreutzer/masakhane/tree/master/jw300_utils/test\n",
        "\n",
        "For this example, we pick `ha`, which is Hausa."
      ]
    },
    {
      "cell_type": "code",
      "metadata": {
        "id": "EhNiQZplQ5yt"
      },
      "source": [
        "import os\n",
        "source_language = \"fr\"\n",
        "target_language = \"lua\" # TODO: CHANGE THIS TO YOUR LANGUAGE! \"ha\" is hausa. See the language codes at https://opus.nlpl.eu/JW300.php\n",
        "lc = False  # If True, lowercase the data.\n",
        "seed = 42  # Random seed for shuffling.\n",
        "tag = \"baseline\" # Give a unique name to your folder - this is to ensure you don't rewrite any models you've already submitted\n",
        "\n",
        "os.environ[\"src\"] = source_language # Sets them in bash as well, since we often use bash scripts\n",
        "os.environ[\"tgt\"] = target_language\n",
        "os.environ[\"tag\"] = tag\n",
        "\n",
        "# No need to use gdrive since we are training on gcp\n",
        "!mkdir -p \"$src-$tgt-$tag\"\n",
        "os.environ[\"gdrive_path\"] = \"%s-%s-%s\" % (source_language, target_language, tag) # saving directly on the vm"
      ],
      "execution_count": 3,
      "outputs": []
    },
    {
      "cell_type": "code",
      "metadata": {
        "colab": {
          "base_uri": "https://localhost:8080/"
        },
        "id": "RExQ_q-vQ5yy",
        "outputId": "faf99f8d-c5a4-4e4b-f155-7e9f9b65c400"
      },
      "source": [
        "!echo $gdrive_path"
      ],
      "execution_count": 4,
      "outputs": [
        {
          "output_type": "stream",
          "text": [
            "fr-lua-baseline\n"
          ],
          "name": "stdout"
        }
      ]
    },
    {
      "cell_type": "markdown",
      "metadata": {
        "id": "6C760IqtQ5y0"
      },
      "source": [
        "#### Downloading the corpus data"
      ]
    },
    {
      "cell_type": "markdown",
      "metadata": {
        "id": "x1jEhHm8Q5y1"
      },
      "source": [
        "for precaution , am removing the old data"
      ]
    },
    {
      "cell_type": "code",
      "metadata": {
        "id": "XQBYlyBSQ5y3"
      },
      "source": [
        "!rm -f w300.$src jw300.$tgt JW300_latest_xml_$src-$tgt.xml.gz JW300_latest_xml_$src-$tgt.xml JW300_latest_xml_$src.zip  JW300_latest_xml_$tgt.zip test.fr-any.fr"
      ],
      "execution_count": 5,
      "outputs": []
    },
    {
      "cell_type": "code",
      "metadata": {
        "colab": {
          "base_uri": "https://localhost:8080/"
        },
        "id": "W2bhVsAEQ5y4",
        "scrolled": true,
        "outputId": "f5398c8a-0681-4094-eeb8-f21792f42c5f"
      },
      "source": [
        "# Downloading our corpus\n",
        "! opus_read -d JW300 -s $src -t $tgt -wm moses -w jw300.$src jw300.$tgt -q\n",
        "\n",
        "# extract the corpus file\n",
        "! gunzip JW300_latest_xml_$src-$tgt.xml.gz"
      ],
      "execution_count": 6,
      "outputs": [
        {
          "output_type": "stream",
          "text": [
            "\n",
            "Alignment file /proj/nlpl/data/OPUS/JW300/latest/xml/fr-lua.xml.gz not found. The following files are available for downloading:\n",
            "\n",
            "   3 MB https://object.pouta.csc.fi/OPUS-JW300/v1b/xml/fr-lua.xml.gz\n",
            " 278 MB https://object.pouta.csc.fi/OPUS-JW300/v1b/xml/fr.zip\n",
            "  32 MB https://object.pouta.csc.fi/OPUS-JW300/v1b/xml/lua.zip\n",
            "\n",
            " 314 MB Total size\n",
            "./JW300_latest_xml_fr-lua.xml.gz ... 100% of 3 MB\n",
            "./JW300_latest_xml_fr.zip ... 100% of 278 MB\n",
            "./JW300_latest_xml_lua.zip ... 100% of 32 MB\n"
          ],
          "name": "stdout"
        }
      ]
    },
    {
      "cell_type": "code",
      "metadata": {
        "colab": {
          "base_uri": "https://localhost:8080/"
        },
        "id": "AdJrG4SmQ5y7",
        "outputId": "7ad14a9d-106c-4cfc-d96f-5d05025fe97a"
      },
      "source": [
        "# ! wget https://raw.githubusercontent.com/juliakreutzer/masakhane/master/jw300_utils/test/test.en-any.en\n",
        "! wget https://raw.githubusercontent.com/ai-drc/RDC-Mobongoli/main/jw300_utils/test/test.fr-any.fr\n",
        "\n",
        "  \n",
        "# And the specific test set for this language pair.\n",
        "os.environ[\"trg\"] = target_language \n",
        "os.environ[\"src\"] = source_language "
      ],
      "execution_count": 7,
      "outputs": [
        {
          "output_type": "stream",
          "text": [
            "--2021-07-20 14:36:02--  https://raw.githubusercontent.com/ai-drc/RDC-Mobongoli/main/jw300_utils/test/test.fr-any.fr\n",
            "Resolving raw.githubusercontent.com (raw.githubusercontent.com)... 185.199.111.133, 185.199.109.133, 185.199.110.133, ...\n",
            "Connecting to raw.githubusercontent.com (raw.githubusercontent.com)|185.199.111.133|:443... connected.\n",
            "HTTP request sent, awaiting response... 200 OK\n",
            "Length: 377235 (368K) [text/plain]\n",
            "Saving to: ‘test.fr-any.fr’\n",
            "\n",
            "test.fr-any.fr      100%[===================>] 368.39K  --.-KB/s    in 0.06s   \n",
            "\n",
            "2021-07-20 14:36:02 (5.96 MB/s) - ‘test.fr-any.fr’ saved [377235/377235]\n",
            "\n"
          ],
          "name": "stdout"
        }
      ]
    },
    {
      "cell_type": "code",
      "metadata": {
        "colab": {
          "base_uri": "https://localhost:8080/"
        },
        "id": "-XLatU0iQ5y8",
        "outputId": "ef538dfe-6f56-44f3-e682-99166633d0f8"
      },
      "source": [
        "# Read the test data to filter from train and dev splits.\n",
        "# Store english portion in set for quick filtering checks.\n",
        "en_test_sents = set()\n",
        "filter_test_sents = \"test.fr-any.fr\"\n",
        "j = 0\n",
        "with open(filter_test_sents) as f:\n",
        "  for line in f:\n",
        "    en_test_sents.add(line.strip())\n",
        "    j += 1\n",
        "print('Loaded {} global test sentences to filter from the training/dev data.'.format(j))"
      ],
      "execution_count": 8,
      "outputs": [
        {
          "output_type": "stream",
          "text": [
            "Loaded 3974 global test sentences to filter from the training/dev data.\n"
          ],
          "name": "stdout"
        }
      ]
    },
    {
      "cell_type": "code",
      "metadata": {
        "colab": {
          "base_uri": "https://localhost:8080/"
        },
        "id": "ydypbA7LQ5y-",
        "outputId": "3d180a84-4b7d-4ade-c07e-66ed8d884312"
      },
      "source": [
        "!ls"
      ],
      "execution_count": 9,
      "outputs": [
        {
          "output_type": "stream",
          "text": [
            "drive\t\t JW300_latest_xml_fr-lua.xml  jw300.lua\n",
            "fr-lua-baseline  JW300_latest_xml_fr.zip      sample_data\n",
            "jw300.fr\t JW300_latest_xml_lua.zip     test.fr-any.fr\n"
          ],
          "name": "stdout"
        }
      ]
    },
    {
      "cell_type": "markdown",
      "metadata": {
        "id": "mTsD-Ta1Q5zD"
      },
      "source": [
        "#### Building the corpus"
      ]
    },
    {
      "cell_type": "markdown",
      "metadata": {
        "id": "8I8fMRRrQ5zF"
      },
      "source": [
        "In the 2 cells below you can check if the 2 datasets are aligned. Even if you don't speak the language you can get a sense, especially with similar words, punctuation, and so forth."
      ]
    },
    {
      "cell_type": "code",
      "metadata": {
        "colab": {
          "base_uri": "https://localhost:8080/"
        },
        "id": "UHpOmS0xQ5zF",
        "scrolled": true,
        "outputId": "2de2ad76-05e4-4569-f37c-de88d7ee147f"
      },
      "source": [
        "! head -5 jw300.fr"
      ],
      "execution_count": 10,
      "outputs": [
        {
          "output_type": "stream",
          "text": [
            "Quel avenir pour notre planète ?\n",
            "D’après le journal canadien Globe and Mail , “ alors que , pendant des millénaires , les humains se sont épouvantés des cataclysmes tels que les inondations et les sécheresses , qu’ils prenaient pour des ‘ actes de Dieu ’ , aujourd’hui bien pire les guette : les ‘ actes des hommes ’ se retournent contre eux par l’intermédiaire de la nature ” .\n",
            "Le Programme des Nations unies pour l’environnement ( PNUE ) a publié un rapport complet invitant les pays à agir rapidement pour remédier aux maux écologiques avant qu’il ne soit trop tard .\n",
            "Klaus Toepfer , directeur exécutif du PNUE , déclare : “ Nous en savons suffisamment aujourd’hui pour entrevoir dans quelle mesure nos actions ou inactions auront une incidence sur l’environnement et les habitants de notre extraordinaire planète bleue d’ici à 2032 . ”\n",
            "Depuis la fondation du PNUE en 1972 , des progrès ont été constatés dans le domaine de l’environnement .\n"
          ],
          "name": "stdout"
        }
      ]
    },
    {
      "cell_type": "code",
      "metadata": {
        "colab": {
          "base_uri": "https://localhost:8080/"
        },
        "id": "mgPwLbD8Q5zG",
        "outputId": "305d26ea-4eca-4bb8-f12c-442233eac219"
      },
      "source": [
        "! head -5 jw300.$tgt"
      ],
      "execution_count": 11,
      "outputs": [
        {
          "output_type": "stream",
          "text": [
            "Nditekemena kayi didiku bua buloba buetu ebu ?\n",
            "Bilondeshile tshikandakanda kampanda tshia mu ditunga dia Canada , “ nansha mudi bantu bikale ne buôwa munkatshi mua bidimu binunu bivule bua bipupu bu mudi bia disapalala dia mâyi ne minanga bivuabu bangata bu ‘ malu adi Nzambi wenza , ’ lelu badi mu njiwu mikole ya kupetabu bipupu bikebesha kudi bantu bua tshinyangu tshiabu tshia ku bintu bifuka . ”\n",
            "( Globe and Mail ) Tshibambalu tshia Ndongamu wa Matunga Masanga bua Bukua - bintu bidi bitunyunguluke ntshipatule luapolo lujima ludi lulomba bantu bua balekele dienza malu adi anyanga bukua - bintu bidi bitunyunguluke pa buloba patshidiku mushindu .\n",
            "Klaus Toepfer , mulombodi wa ndongamu eu udi wamba ne : “ Mpindieu tudi bamanye malu a bungi adi atuambuluisha bua kumona mushindu udi bitudi tuenza ne katuyi tuenza mua kunyanga anyi kulengeja bukua - bintu bidi bitunyunguluke ne bantu badi basombele pa dibulunge edi dia dikema difikuluke patuamba kufika mu tshidimu tshia 2 032 . ”\n",
            "Katshia benza Tshibambalu etshi mu 1972 bua kukuba bukua - bintu bidi bitunyunguluke , amue malu mmalongoloke .\n"
          ],
          "name": "stdout"
        }
      ]
    },
    {
      "cell_type": "code",
      "metadata": {
        "colab": {
          "base_uri": "https://localhost:8080/",
          "height": 376
        },
        "id": "IlJP5HzhQ5zJ",
        "outputId": "7890f7d3-55aa-41b3-a757-a0eacde28740"
      },
      "source": [
        "import pandas as pd\n",
        "\n",
        "# TMX file to dataframe\n",
        "source_file = 'jw300.' + source_language  ## source language is english\n",
        "target_file = 'jw300.' + target_language ## Target is whatever you set. For our example it was ha, so jw300.ha\n",
        "target_test = {}\n",
        "source = []\n",
        "target = []\n",
        "english_sentences_in_global_test_set = {}  # Collect the line numbers of the source portion to skip the same lines for the target portion.\n",
        "with open(source_file) as src_f:\n",
        "    for i, line in enumerate(src_f):\n",
        "        # Skip sentences that are contained in the test set and add them into the new frencg test\n",
        "        if line.strip() not in en_test_sents:\n",
        "            source.append(line.strip())\n",
        "        else:\n",
        "            # Here is the intersection with the global test set\n",
        "            english_sentences_in_global_test_set[i] = line.strip()           \n",
        "with open(target_file) as f:\n",
        "    for j, line in enumerate(f):\n",
        "        # Only add to corpus if corresponding source was not skipped.\n",
        "        if j not in english_sentences_in_global_test_set.keys():\n",
        "            target.append(line.strip())\n",
        "        else:\n",
        "            #Collecting the aligned test sentences\n",
        "            target_test[j] = line.strip()\n",
        "    \n",
        "print('Loaded data and skipped {}/{} lines since contained in test set.'.format(len(english_sentences_in_global_test_set.keys()), i))\n",
        "    \n",
        "df = pd.DataFrame(zip(source, target), columns=['source_sentence', 'target_sentence'])\n",
        "# if you get TypeError: data argument can't be an iterator is because of your zip version run this below\n",
        "#df = pd.DataFrame(list(zip(source, target)), columns=['source_sentence', 'target_sentence'])\n",
        "df.head(10)"
      ],
      "execution_count": 12,
      "outputs": [
        {
          "output_type": "stream",
          "text": [
            "Loaded data and skipped 5397/323691 lines since contained in test set.\n"
          ],
          "name": "stdout"
        },
        {
          "output_type": "execute_result",
          "data": {
            "text/html": [
              "<div>\n",
              "<style scoped>\n",
              "    .dataframe tbody tr th:only-of-type {\n",
              "        vertical-align: middle;\n",
              "    }\n",
              "\n",
              "    .dataframe tbody tr th {\n",
              "        vertical-align: top;\n",
              "    }\n",
              "\n",
              "    .dataframe thead th {\n",
              "        text-align: right;\n",
              "    }\n",
              "</style>\n",
              "<table border=\"1\" class=\"dataframe\">\n",
              "  <thead>\n",
              "    <tr style=\"text-align: right;\">\n",
              "      <th></th>\n",
              "      <th>source_sentence</th>\n",
              "      <th>target_sentence</th>\n",
              "    </tr>\n",
              "  </thead>\n",
              "  <tbody>\n",
              "    <tr>\n",
              "      <th>0</th>\n",
              "      <td>Quel avenir pour notre planète ?</td>\n",
              "      <td>Nditekemena kayi didiku bua buloba buetu ebu ?</td>\n",
              "    </tr>\n",
              "    <tr>\n",
              "      <th>1</th>\n",
              "      <td>D’après le journal canadien Globe and Mail , “...</td>\n",
              "      <td>Bilondeshile tshikandakanda kampanda tshia mu ...</td>\n",
              "    </tr>\n",
              "    <tr>\n",
              "      <th>2</th>\n",
              "      <td>Le Programme des Nations unies pour l’environn...</td>\n",
              "      <td>( Globe and Mail ) Tshibambalu tshia Ndongamu ...</td>\n",
              "    </tr>\n",
              "    <tr>\n",
              "      <th>3</th>\n",
              "      <td>Klaus Toepfer , directeur exécutif du PNUE , d...</td>\n",
              "      <td>Klaus Toepfer , mulombodi wa ndongamu eu udi w...</td>\n",
              "    </tr>\n",
              "    <tr>\n",
              "      <th>4</th>\n",
              "      <td>Depuis la fondation du PNUE en 1972 , des prog...</td>\n",
              "      <td>Katshia benza Tshibambalu etshi mu 1972 bua ku...</td>\n",
              "    </tr>\n",
              "    <tr>\n",
              "      <th>5</th>\n",
              "      <td>Ainsi , comme le fait remarquer le Toronto Sta...</td>\n",
              "      <td>Nunku , anu mudi tshinga tshikandakanda tshile...</td>\n",
              "    </tr>\n",
              "    <tr>\n",
              "      <th>6</th>\n",
              "      <td>Qui plus est , des programmes de gestion des f...</td>\n",
              "      <td>Kabidi , ndongamu ya malu a mêtu bu mudi ya mu...</td>\n",
              "    </tr>\n",
              "    <tr>\n",
              "      <th>7</th>\n",
              "      <td>Le rapport du PNUE précise néanmoins que si la...</td>\n",
              "      <td>Nansha nanku , luapolo lua Tshibambalu etshi l...</td>\n",
              "    </tr>\n",
              "    <tr>\n",
              "      <th>8</th>\n",
              "      <td>“ Près de la moitié des rivières dans le monde...</td>\n",
              "      <td>( Toronto Star ) Tshinga tshikandakanda tshiak...</td>\n",
              "    </tr>\n",
              "    <tr>\n",
              "      <th>9</th>\n",
              "      <td>Toepfer , “ des mesures énergiques peuvent avo...</td>\n",
              "      <td>Bilondeshile Toepfer , “ mapangadika makole ad...</td>\n",
              "    </tr>\n",
              "  </tbody>\n",
              "</table>\n",
              "</div>"
            ],
            "text/plain": [
              "                                     source_sentence                                    target_sentence\n",
              "0                   Quel avenir pour notre planète ?     Nditekemena kayi didiku bua buloba buetu ebu ?\n",
              "1  D’après le journal canadien Globe and Mail , “...  Bilondeshile tshikandakanda kampanda tshia mu ...\n",
              "2  Le Programme des Nations unies pour l’environn...  ( Globe and Mail ) Tshibambalu tshia Ndongamu ...\n",
              "3  Klaus Toepfer , directeur exécutif du PNUE , d...  Klaus Toepfer , mulombodi wa ndongamu eu udi w...\n",
              "4  Depuis la fondation du PNUE en 1972 , des prog...  Katshia benza Tshibambalu etshi mu 1972 bua ku...\n",
              "5  Ainsi , comme le fait remarquer le Toronto Sta...  Nunku , anu mudi tshinga tshikandakanda tshile...\n",
              "6  Qui plus est , des programmes de gestion des f...  Kabidi , ndongamu ya malu a mêtu bu mudi ya mu...\n",
              "7  Le rapport du PNUE précise néanmoins que si la...  Nansha nanku , luapolo lua Tshibambalu etshi l...\n",
              "8  “ Près de la moitié des rivières dans le monde...  ( Toronto Star ) Tshinga tshikandakanda tshiak...\n",
              "9  Toepfer , “ des mesures énergiques peuvent avo...  Bilondeshile Toepfer , “ mapangadika makole ad..."
            ]
          },
          "metadata": {
            "tags": []
          },
          "execution_count": 12
        }
      ]
    },
    {
      "cell_type": "markdown",
      "metadata": {
        "id": "krpoFeY_TtrG"
      },
      "source": [
        "## Check a random item!\n",
        "Let's pick one of the keys in the dictionary at random and check it. "
      ]
    },
    {
      "cell_type": "code",
      "metadata": {
        "colab": {
          "base_uri": "https://localhost:8080/"
        },
        "id": "aGBDbByaQ5zL",
        "scrolled": true,
        "outputId": "40207daf-c865-46db-efed-4734a1fc899f"
      },
      "source": [
        "import random\n",
        "keys_in_target_test = list(target_test.keys())\n",
        "print(type(keys_in_target_test))\n",
        "random_key = random.choice(keys_in_target_test)\n",
        "print(f\"The random key we picked was {random_key}\")"
      ],
      "execution_count": 13,
      "outputs": [
        {
          "output_type": "stream",
          "text": [
            "<class 'list'>\n",
            "The random key we picked was 304415\n"
          ],
          "name": "stdout"
        }
      ]
    },
    {
      "cell_type": "code",
      "metadata": {
        "colab": {
          "base_uri": "https://localhost:8080/",
          "height": 35
        },
        "id": "b0rjaSMyUzMt",
        "outputId": "15c94fa0-7461-4839-8cc8-53241e46e08e"
      },
      "source": [
        "target_test[random_key]"
      ],
      "execution_count": 14,
      "outputs": [
        {
          "output_type": "execute_result",
          "data": {
            "application/vnd.google.colaboratory.intrinsic+json": {
              "type": "string"
            },
            "text/plain": [
              "'Bualu ndi mulue bua kutapulula muntu ne tatuende , muana wa bakaji ne mamuende , mukaji wa muana ne mamuende muenu .'"
            ]
          },
          "metadata": {
            "tags": []
          },
          "execution_count": 14
        }
      ]
    },
    {
      "cell_type": "code",
      "metadata": {
        "colab": {
          "base_uri": "https://localhost:8080/",
          "height": 35
        },
        "id": "_H63DagnQ5zM",
        "outputId": "0aba9607-e34c-4c19-ee7a-2abf265a4b5a"
      },
      "source": [
        "english_sentences_in_global_test_set[random_key]"
      ],
      "execution_count": 15,
      "outputs": [
        {
          "output_type": "execute_result",
          "data": {
            "application/vnd.google.colaboratory.intrinsic+json": {
              "type": "string"
            },
            "text/plain": [
              "'Car je suis venu mettre la division : l’homme contre son père , et la fille contre sa mère , et la jeune femme contre sa belle - mère .'"
            ]
          },
          "metadata": {
            "tags": []
          },
          "execution_count": 15
        }
      ]
    },
    {
      "cell_type": "markdown",
      "metadata": {
        "id": "Pwuc4IlEe1TR"
      },
      "source": [
        "Do the two look like they line up? "
      ]
    },
    {
      "cell_type": "markdown",
      "metadata": {
        "id": "K5mtDXEoe9NC"
      },
      "source": [
        "## Check several rows at the tail end\n",
        "\n",
        "Let's get a sample from the end of the dataset"
      ]
    },
    {
      "cell_type": "code",
      "metadata": {
        "id": "uD7ht8dKQ5zN"
      },
      "source": [
        "target_test_set = pd.DataFrame(zip(target_test.values(), english_sentences_in_global_test_set.values()), columns=['target_equivalent', 'english_equivalent'])"
      ],
      "execution_count": 16,
      "outputs": []
    },
    {
      "cell_type": "code",
      "metadata": {
        "id": "QclpZObEQ5zN"
      },
      "source": [
        "target_test_set = target_test_set.reset_index()"
      ],
      "execution_count": 17,
      "outputs": []
    },
    {
      "cell_type": "code",
      "metadata": {
        "id": "TqPm3EDTQ5zN"
      },
      "source": [
        "target_test_set = target_test_set.set_index(\"index\")"
      ],
      "execution_count": 18,
      "outputs": []
    },
    {
      "cell_type": "code",
      "metadata": {
        "colab": {
          "base_uri": "https://localhost:8080/",
          "height": 235
        },
        "id": "LnXQ31qOQ5zO",
        "outputId": "8f1227d6-f63d-4cd8-98d8-dd544cbc37c9"
      },
      "source": [
        "target_test_set.tail()"
      ],
      "execution_count": 19,
      "outputs": [
        {
          "output_type": "execute_result",
          "data": {
            "text/html": [
              "<div>\n",
              "<style scoped>\n",
              "    .dataframe tbody tr th:only-of-type {\n",
              "        vertical-align: middle;\n",
              "    }\n",
              "\n",
              "    .dataframe tbody tr th {\n",
              "        vertical-align: top;\n",
              "    }\n",
              "\n",
              "    .dataframe thead th {\n",
              "        text-align: right;\n",
              "    }\n",
              "</style>\n",
              "<table border=\"1\" class=\"dataframe\">\n",
              "  <thead>\n",
              "    <tr style=\"text-align: right;\">\n",
              "      <th></th>\n",
              "      <th>target_equivalent</th>\n",
              "      <th>english_equivalent</th>\n",
              "    </tr>\n",
              "    <tr>\n",
              "      <th>index</th>\n",
              "      <th></th>\n",
              "      <th></th>\n",
              "    </tr>\n",
              "  </thead>\n",
              "  <tbody>\n",
              "    <tr>\n",
              "      <th>5392</th>\n",
              "      <td>Ndisungula kayi didi yonso wa kutudi ne bua ku...</td>\n",
              "      <td>Quel choix chacun de nous doit - ​ il faire ?</td>\n",
              "    </tr>\n",
              "    <tr>\n",
              "      <th>5393</th>\n",
              "      <td>1 , 2 .</td>\n",
              "      <td>1 , 2 .</td>\n",
              "    </tr>\n",
              "    <tr>\n",
              "      <th>5394</th>\n",
              "      <td>Netuambe tshinyi buetu tuetu ?</td>\n",
              "      <td>Et nous ?</td>\n",
              "    </tr>\n",
              "    <tr>\n",
              "      <th>5395</th>\n",
              "      <td>12 , 13 .</td>\n",
              "      <td>12 , 13 .</td>\n",
              "    </tr>\n",
              "    <tr>\n",
              "      <th>5396</th>\n",
              "      <td>Ntshinyi tshivuaye musue kuamba ?</td>\n",
              "      <td>Que voulait - ​ il dire ?</td>\n",
              "    </tr>\n",
              "  </tbody>\n",
              "</table>\n",
              "</div>"
            ],
            "text/plain": [
              "                                       target_equivalent                             english_equivalent\n",
              "index                                                                                                  \n",
              "5392   Ndisungula kayi didi yonso wa kutudi ne bua ku...  Quel choix chacun de nous doit - ​ il faire ?\n",
              "5393                                             1 , 2 .                                        1 , 2 .\n",
              "5394                      Netuambe tshinyi buetu tuetu ?                                      Et nous ?\n",
              "5395                                           12 , 13 .                                      12 , 13 .\n",
              "5396                   Ntshinyi tshivuaye musue kuamba ?                      Que voulait - ​ il dire ?"
            ]
          },
          "metadata": {
            "tags": []
          },
          "execution_count": 19
        }
      ]
    },
    {
      "cell_type": "markdown",
      "metadata": {
        "id": "r-7KKhEcQ5zO"
      },
      "source": [
        "Removing duplicates from english and target set"
      ]
    },
    {
      "cell_type": "code",
      "metadata": {
        "id": "Y0sCRCX2Q5zO"
      },
      "source": [
        "target_test_set = target_test_set.drop_duplicates(subset='target_equivalent')"
      ],
      "execution_count": 20,
      "outputs": []
    },
    {
      "cell_type": "code",
      "metadata": {
        "id": "6biqqTgUQ5zP"
      },
      "source": [
        "target_test_set = target_test_set.drop_duplicates(subset='english_equivalent')"
      ],
      "execution_count": 21,
      "outputs": []
    },
    {
      "cell_type": "code",
      "metadata": {
        "colab": {
          "base_uri": "https://localhost:8080/",
          "height": 235
        },
        "id": "IrqizJY3Q5zQ",
        "outputId": "770fa7ad-59d4-48ea-b5ed-cdff71782695"
      },
      "source": [
        "target_test_set.head()"
      ],
      "execution_count": 22,
      "outputs": [
        {
          "output_type": "execute_result",
          "data": {
            "text/html": [
              "<div>\n",
              "<style scoped>\n",
              "    .dataframe tbody tr th:only-of-type {\n",
              "        vertical-align: middle;\n",
              "    }\n",
              "\n",
              "    .dataframe tbody tr th {\n",
              "        vertical-align: top;\n",
              "    }\n",
              "\n",
              "    .dataframe thead th {\n",
              "        text-align: right;\n",
              "    }\n",
              "</style>\n",
              "<table border=\"1\" class=\"dataframe\">\n",
              "  <thead>\n",
              "    <tr style=\"text-align: right;\">\n",
              "      <th></th>\n",
              "      <th>target_equivalent</th>\n",
              "      <th>english_equivalent</th>\n",
              "    </tr>\n",
              "    <tr>\n",
              "      <th>index</th>\n",
              "      <th></th>\n",
              "      <th></th>\n",
              "    </tr>\n",
              "  </thead>\n",
              "  <tbody>\n",
              "    <tr>\n",
              "      <th>0</th>\n",
              "      <td>© 2017 Watch Tower Bible and Tract Society of ...</td>\n",
              "      <td>© 2017 Watch Tower Bible and Tract Society of ...</td>\n",
              "    </tr>\n",
              "    <tr>\n",
              "      <th>1</th>\n",
              "      <td>Dipatuka diende ngumue wa ku midimu idi yenzek...</td>\n",
              "      <td>Sa diffusion s’inscrit dans le cadre d’une œuv...</td>\n",
              "    </tr>\n",
              "    <tr>\n",
              "      <th>2</th>\n",
              "      <td>Tòo .</td>\n",
              "      <td>Non .</td>\n",
              "    </tr>\n",
              "    <tr>\n",
              "      <th>5</th>\n",
              "      <td>Bua tshinyi ?</td>\n",
              "      <td>Pourquoi ?</td>\n",
              "    </tr>\n",
              "    <tr>\n",
              "      <th>6</th>\n",
              "      <td>( b ) Mmalu kayi atuakonkonona mu tshiena - bu...</td>\n",
              "      <td>b ) À quelles questions cet article va - ​ t -...</td>\n",
              "    </tr>\n",
              "  </tbody>\n",
              "</table>\n",
              "</div>"
            ],
            "text/plain": [
              "                                       target_equivalent                                 english_equivalent\n",
              "index                                                                                                      \n",
              "0      © 2017 Watch Tower Bible and Tract Society of ...  © 2017 Watch Tower Bible and Tract Society of ...\n",
              "1      Dipatuka diende ngumue wa ku midimu idi yenzek...  Sa diffusion s’inscrit dans le cadre d’une œuv...\n",
              "2                                                  Tòo .                                              Non .\n",
              "5                                          Bua tshinyi ?                                         Pourquoi ?\n",
              "6      ( b ) Mmalu kayi atuakonkonona mu tshiena - bu...  b ) À quelles questions cet article va - ​ t -..."
            ]
          },
          "metadata": {
            "tags": []
          },
          "execution_count": 22
        }
      ]
    },
    {
      "cell_type": "code",
      "metadata": {
        "colab": {
          "base_uri": "https://localhost:8080/"
        },
        "id": "TJDI9P-LQ5zS",
        "outputId": "7858d719-f02e-4db3-cf71-f1268e1e6896"
      },
      "source": [
        "target_test_set.shape"
      ],
      "execution_count": 23,
      "outputs": [
        {
          "output_type": "execute_result",
          "data": {
            "text/plain": [
              "(2836, 2)"
            ]
          },
          "metadata": {
            "tags": []
          },
          "execution_count": 23
        }
      ]
    },
    {
      "cell_type": "code",
      "metadata": {
        "colab": {
          "base_uri": "https://localhost:8080/",
          "height": 80
        },
        "id": "jyWb1BPsQ5zT",
        "outputId": "186445a1-4eec-49ff-83df-3e0821d84199"
      },
      "source": [
        "target_test_set.loc[~target_test_set.english_equivalent.isin(en_test_sents)]"
      ],
      "execution_count": 24,
      "outputs": [
        {
          "output_type": "execute_result",
          "data": {
            "text/html": [
              "<div>\n",
              "<style scoped>\n",
              "    .dataframe tbody tr th:only-of-type {\n",
              "        vertical-align: middle;\n",
              "    }\n",
              "\n",
              "    .dataframe tbody tr th {\n",
              "        vertical-align: top;\n",
              "    }\n",
              "\n",
              "    .dataframe thead th {\n",
              "        text-align: right;\n",
              "    }\n",
              "</style>\n",
              "<table border=\"1\" class=\"dataframe\">\n",
              "  <thead>\n",
              "    <tr style=\"text-align: right;\">\n",
              "      <th></th>\n",
              "      <th>target_equivalent</th>\n",
              "      <th>english_equivalent</th>\n",
              "    </tr>\n",
              "    <tr>\n",
              "      <th>index</th>\n",
              "      <th></th>\n",
              "      <th></th>\n",
              "    </tr>\n",
              "  </thead>\n",
              "  <tbody>\n",
              "  </tbody>\n",
              "</table>\n",
              "</div>"
            ],
            "text/plain": [
              "Empty DataFrame\n",
              "Columns: [target_equivalent, english_equivalent]\n",
              "Index: []"
            ]
          },
          "metadata": {
            "tags": []
          },
          "execution_count": 24
        }
      ]
    },
    {
      "cell_type": "markdown",
      "metadata": {
        "id": "iFBOZerTjxSI"
      },
      "source": [
        "## Write out target-language test set file\n",
        "In our example, we should have `test.ha-any.ha`, but it will be different for you if you picked a different code."
      ]
    },
    {
      "cell_type": "code",
      "metadata": {
        "colab": {
          "base_uri": "https://localhost:8080/"
        },
        "id": "C6zxiOfdVab2",
        "outputId": "f8f9e5da-2f24-4331-d763-883bb8434a97"
      },
      "source": [
        "target_test_filename = f\"test.{target_language}-any.{target_language}\"\n",
        "print(target_test_filename)"
      ],
      "execution_count": 25,
      "outputs": [
        {
          "output_type": "stream",
          "text": [
            "test.lua-any.lua\n"
          ],
          "name": "stdout"
        }
      ]
    },
    {
      "cell_type": "markdown",
      "metadata": {
        "id": "3LXXXfwjfZQq"
      },
      "source": [
        "## Write out English-language test set file\n",
        "In our example, we should have `test.en-ha.en`, but it will be different for you if you picked a different code.\n",
        "\n",
        "**Make sure the data lines up in the two files!**\n",
        "The first line of each file should be translations of each other.\n"
      ]
    },
    {
      "cell_type": "code",
      "metadata": {
        "id": "CpFWMOhdQ5zU"
      },
      "source": [
        "\n",
        "with open(target_test_filename, \"w\") as test_tgt_any_tgt:\n",
        "    test_tgt_any_tgt.write(\"\\n\".join(target_test_set.target_equivalent))"
      ],
      "execution_count": 26,
      "outputs": []
    },
    {
      "cell_type": "code",
      "metadata": {
        "colab": {
          "base_uri": "https://localhost:8080/"
        },
        "id": "cnZUf97gQ5zV",
        "outputId": "30262935-9371-43df-c804-3b00565fe635"
      },
      "source": [
        "!head -5 test.$tgt-any.$tgt"
      ],
      "execution_count": 27,
      "outputs": [
        {
          "output_type": "stream",
          "text": [
            "© 2017 Watch Tower Bible and Tract Society of Pennsylvania\n",
            "Dipatuka diende ngumue wa ku midimu idi yenzeka pa buloba bujima ne makuta adi bantu bafila ku budisuile bua kulongeshangana Bible .\n",
            "Tòo .\n",
            "Bua tshinyi ?\n",
            "( b ) Mmalu kayi atuakonkonona mu tshiena - bualu etshi ?\n"
          ],
          "name": "stdout"
        }
      ]
    },
    {
      "cell_type": "code",
      "metadata": {
        "colab": {
          "base_uri": "https://localhost:8080/"
        },
        "id": "HZ93jNULQ5zV",
        "outputId": "fe08d7c0-60c8-49b9-b58c-5507602be33f"
      },
      "source": [
        "source_test_filename = f\"test.fr-{target_language}.fr\"\n",
        "print(f\"saving english aligned sentences to {source_test_filename}\")\n",
        "with open(source_test_filename, \"w\") as test_en_tgt_en:\n",
        "    test_en_tgt_en.write(\"\\n\".join(target_test_set.english_equivalent))\n",
        "!ls -al"
      ],
      "execution_count": 28,
      "outputs": [
        {
          "output_type": "stream",
          "text": [
            "saving english aligned sentences to test.fr-lua.fr\n",
            "total 394420\n",
            "drwxr-xr-x 1 root root      4096 Jul 20 14:37 .\n",
            "drwxr-xr-x 1 root root      4096 Jul 20 14:30 ..\n",
            "drwxr-xr-x 4 root root      4096 Jul 16 13:19 .config\n",
            "drwx------ 6 root root      4096 Jul 20 14:31 drive\n",
            "drwxr-xr-x 2 root root      4096 Jul 20 14:33 fr-lua-baseline\n",
            "-rw-r--r-- 1 root root  33701079 Jul 20 14:36 jw300.fr\n",
            "-rw-r--r-- 1 root root  18757876 Jul 20 14:34 JW300_latest_xml_fr-lua.xml\n",
            "-rw-r--r-- 1 root root 285126296 Jul 20 14:34 JW300_latest_xml_fr.zip\n",
            "-rw-r--r-- 1 root root  32608568 Jul 20 14:34 JW300_latest_xml_lua.zip\n",
            "-rw-r--r-- 1 root root  32756386 Jul 20 14:36 jw300.lua\n",
            "drwxr-xr-x 1 root root      4096 Jul 16 13:20 sample_data\n",
            "-rw-r--r-- 1 root root    377235 Jul 20 14:36 test.fr-any.fr\n",
            "-rw-r--r-- 1 root root    259585 Jul 20 14:37 test.fr-lua.fr\n",
            "-rw-r--r-- 1 root root    256860 Jul 20 14:37 test.lua-any.lua\n"
          ],
          "name": "stdout"
        }
      ]
    },
    {
      "cell_type": "code",
      "metadata": {
        "colab": {
          "base_uri": "https://localhost:8080/"
        },
        "id": "zKW2y01hbOyc",
        "outputId": "6f875a72-dabe-45c2-82ae-2ea205c8c169"
      },
      "source": [
        "!head -5 test.fr-$tgt.fr"
      ],
      "execution_count": 29,
      "outputs": [
        {
          "output_type": "stream",
          "text": [
            "© 2017 Watch Tower Bible and Tract Society of Pennsylvania\n",
            "Sa diffusion s’inscrit dans le cadre d’une œuvre mondiale d’enseignement biblique rendue possible par des offrandes volontaires .\n",
            "Non .\n",
            "Pourquoi ?\n",
            "b ) À quelles questions cet article va - ​ t - ​ il répondre ?\n"
          ],
          "name": "stdout"
        }
      ]
    },
    {
      "cell_type": "markdown",
      "metadata": {
        "id": "kr79AnMtfxyQ"
      },
      "source": [
        "## One last check to see if the two files are aligned\n",
        "\n",
        "Let's just get one more sample! Let's take from the end this time"
      ]
    },
    {
      "cell_type": "code",
      "metadata": {
        "colab": {
          "base_uri": "https://localhost:8080/"
        },
        "id": "gvmVNumtf3sC",
        "outputId": "552db8a4-dc73-4de3-bb9e-76f224fac798"
      },
      "source": [
        "!echo \"test.fr-$tgt.fr\"\n",
        "!tail -5 test.fr-$tgt.fr\n",
        "!echo\n",
        "!echo \"**********************\"\n",
        "!echo \"test.$tgt-any.$tgt\"\n",
        "!echo \"**********************\"\n",
        "!tail -5 test.$tgt-any.$tgt"
      ],
      "execution_count": 30,
      "outputs": [
        {
          "output_type": "stream",
          "text": [
            "test.fr-lua.fr\n",
            "Mais en travaillant étroitement avec Jéhovah , je me sens en sécurité dans ses bras .\n",
            "À chaque fois que je fais des sacrifices pour lui , il me bénit cent fois plus . »\n",
            "Je l’appelle “ Mon carnet de survie ” .\n",
            "Quand on se concentre sur les promesses de Jéhovah , le découragement ne dure pas .\n",
            "Quel choix chacun de nous doit - ​ il faire ?\n",
            "**********************\n",
            "test.lua-any.lua\n",
            "**********************\n",
            "Kadi pandi ngenza mudimu wa Yehowa , ntu ndiumvua mu bukubi mu maboko ende .\n",
            "Misangu yonso indi ndipangisha bualu kampanda bua bualu buende , udi umpingajila masanka misangu lukama . ”\n",
            "Ntu nkabikila ne : ‘ Karné kanyi kadi kangambuluisha . ’\n",
            "Tuetu batuishile mêsu pa milayi ya Yehowa , ditekeshibua mu mikolo ndia tshitupa tshîpi .\n",
            "Ndisungula kayi didi yonso wa kutudi ne bua kuenza ?"
          ],
          "name": "stdout"
        }
      ]
    },
    {
      "cell_type": "code",
      "metadata": {
        "id": "P2miJypOj0rg"
      },
      "source": [
        ""
      ],
      "execution_count": null,
      "outputs": []
    }
  ]
}