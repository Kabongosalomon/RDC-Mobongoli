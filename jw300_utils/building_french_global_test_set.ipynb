{
  "nbformat": 4,
  "nbformat_minor": 0,
  "metadata": {
    "kernelspec": {
      "display_name": "Python 3 (ipykernel)",
      "language": "python",
      "name": "python3"
    },
    "language_info": {
      "codemirror_mode": {
        "name": "ipython",
        "version": 3
      },
      "file_extension": ".py",
      "mimetype": "text/x-python",
      "name": "python",
      "nbconvert_exporter": "python",
      "pygments_lexer": "ipython3",
      "version": "3.7.10"
    },
    "colab": {
      "name": "building_french_global_test_set.ipynb",
      "provenance": [],
      "include_colab_link": true
    },
    "accelerator": "GPU"
  },
  "cells": [
    {
      "cell_type": "markdown",
      "metadata": {
        "id": "view-in-github",
        "colab_type": "text"
      },
      "source": [
        "<a href=\"https://colab.research.google.com/github/Kabongosalomon/RDC-Mobongoli/blob/main/jw300_utils/building_french_global_test_set.ipynb\" target=\"_parent\"><img src=\"https://colab.research.google.com/assets/colab-badge.svg\" alt=\"Open In Colab\"/></a>"
      ]
    },
    {
      "cell_type": "code",
      "metadata": {
        "id": "a01b-H31PxPx",
        "outputId": "64fc17db-d0a6-479f-f596-9d2b5f2216fe",
        "colab": {
          "base_uri": "https://localhost:8080/"
        }
      },
      "source": [
        "# Install opus-tools\n",
        "! pip install opustools-pkg"
      ],
      "execution_count": 6,
      "outputs": [
        {
          "output_type": "stream",
          "text": [
            "Collecting opustools-pkg\n",
            "  Downloading opustools_pkg-0.0.52-py3-none-any.whl (80 kB)\n",
            "\u001b[?25l\r\u001b[K     |████                            | 10 kB 34.4 MB/s eta 0:00:01\r\u001b[K     |████████                        | 20 kB 23.9 MB/s eta 0:00:01\r\u001b[K     |████████████▏                   | 30 kB 12.2 MB/s eta 0:00:01\r\u001b[K     |████████████████▏               | 40 kB 9.7 MB/s eta 0:00:01\r\u001b[K     |████████████████████▎           | 51 kB 7.0 MB/s eta 0:00:01\r\u001b[K     |████████████████████████▎       | 61 kB 7.2 MB/s eta 0:00:01\r\u001b[K     |████████████████████████████▎   | 71 kB 7.8 MB/s eta 0:00:01\r\u001b[K     |████████████████████████████████| 80 kB 5.1 MB/s \n",
            "\u001b[?25hInstalling collected packages: opustools-pkg\n",
            "Successfully installed opustools-pkg-0.0.52\n"
          ],
          "name": "stdout"
        }
      ]
    },
    {
      "cell_type": "code",
      "metadata": {
        "id": "lUFSdr-NP4Hn",
        "outputId": "eb520eb6-beea-4d31-cb59-d3a693a83e58",
        "colab": {
          "base_uri": "https://localhost:8080/"
        }
      },
      "source": [
        "from google.colab import drive\n",
        "drive.mount('/content/drive')"
      ],
      "execution_count": 7,
      "outputs": [
        {
          "output_type": "stream",
          "text": [
            "Mounted at /content/drive\n"
          ],
          "name": "stdout"
        }
      ]
    },
    {
      "cell_type": "markdown",
      "metadata": {
        "id": "fggwPTDDPe2Z"
      },
      "source": [
        "### Setting Up the data"
      ]
    },
    {
      "cell_type": "markdown",
      "metadata": {
        "id": "rWUTZAWrPe2b"
      },
      "source": [
        "Downloading the french global test set is simple,\n",
        "we need to set english  and french as source and target language, then we find the intersection of the english test set with the english corpus after that we get the corresponding french sentencs from the french corpus"
      ]
    },
    {
      "cell_type": "code",
      "metadata": {
        "id": "YHsatlxMPe2c"
      },
      "source": [
        "import os\n",
        "source_language = \"en\"\n",
        "target_language = \"fr\" # ln is the language code of lingala \n",
        "lc = False  # If True, lowercase the data.\n",
        "seed = 42  # Random seed for shuffling.\n",
        "tag = \"baseline\" # Give a unique name to your folder - this is to ensure you don't rewrite any models you've already submitted\n",
        "\n",
        "os.environ[\"src\"] = source_language # Sets them in bash as well, since we often use bash scripts\n",
        "os.environ[\"tgt\"] = target_language\n",
        "os.environ[\"tag\"] = tag\n",
        "\n",
        "# No need to use gdrive since we are training on gcp\n",
        "!mkdir -p \"$src-$tgt-$tag\"\n",
        "os.environ[\"gdrive_path\"] = \"%s-%s-%s\" % (source_language, target_language, tag) # saving directly on the vm"
      ],
      "execution_count": 8,
      "outputs": []
    },
    {
      "cell_type": "code",
      "metadata": {
        "id": "ZfboOthMPe2d",
        "outputId": "e19962bc-43bc-4498-cd70-ff51372c8f92",
        "colab": {
          "base_uri": "https://localhost:8080/"
        }
      },
      "source": [
        "!echo $gdrive_path"
      ],
      "execution_count": 9,
      "outputs": [
        {
          "output_type": "stream",
          "text": [
            "en-fr-baseline\n"
          ],
          "name": "stdout"
        }
      ]
    },
    {
      "cell_type": "markdown",
      "metadata": {
        "id": "WQqKiD6gPe2e"
      },
      "source": [
        "#### Downloading the corpus data"
      ]
    },
    {
      "cell_type": "markdown",
      "metadata": {
        "id": "lJArVs15Pe2e"
      },
      "source": [
        "for precaution , am removing the old data"
      ]
    },
    {
      "cell_type": "code",
      "metadata": {
        "id": "A_Z7CHDcPe2e"
      },
      "source": [
        "!rm -f w300.$src jw300.$tgt JW300_latest_xml_$src-$tgt.xml.gz JW300_latest_xml_$src-$tgt.xml JW300_latest_xml_$src.zip  JW300_latest_xml_$tgt.zip"
      ],
      "execution_count": 10,
      "outputs": []
    },
    {
      "cell_type": "code",
      "metadata": {
        "scrolled": true,
        "id": "Ae6Lfpt9Pe2f",
        "outputId": "f52ca238-bf99-4522-9a73-f73b01319243",
        "colab": {
          "base_uri": "https://localhost:8080/"
        }
      },
      "source": [
        "# Downloading our corpus\n",
        "! opus_read -d JW300 -s $src -t $tgt -wm moses -w jw300.$src jw300.$tgt -q\n",
        "\n",
        "# extract the corpus file\n",
        "! gunzip JW300_latest_xml_$src-$tgt.xml.gz"
      ],
      "execution_count": 11,
      "outputs": [
        {
          "output_type": "stream",
          "text": [
            "\n",
            "Alignment file /proj/nlpl/data/OPUS/JW300/latest/xml/en-fr.xml.gz not found. The following files are available for downloading:\n",
            "\n",
            "  24 MB https://object.pouta.csc.fi/OPUS-JW300/v1b/xml/en-fr.xml.gz\n",
            " 263 MB https://object.pouta.csc.fi/OPUS-JW300/v1b/xml/en.zip\n",
            " 278 MB https://object.pouta.csc.fi/OPUS-JW300/v1b/xml/fr.zip\n",
            "\n",
            " 566 MB Total size\n",
            "./JW300_latest_xml_en-fr.xml.gz ... 100% of 24 MB\n",
            "./JW300_latest_xml_en.zip ... 100% of 263 MB\n",
            "./JW300_latest_xml_fr.zip ... 100% of 278 MB\n"
          ],
          "name": "stdout"
        }
      ]
    },
    {
      "cell_type": "code",
      "metadata": {
        "id": "5CJ1rL7LPe2g",
        "outputId": "7c8ee3dc-e2b3-4201-cc9c-575164351338",
        "colab": {
          "base_uri": "https://localhost:8080/"
        }
      },
      "source": [
        "! wget https://raw.githubusercontent.com/ai-drc/RDC-Mobongoli/main/jw300_utils/test/test.en-any.en\n",
        "  \n",
        "# And the specific test set for this language pair.\n",
        "os.environ[\"trg\"] = target_language \n",
        "os.environ[\"src\"] = source_language "
      ],
      "execution_count": 12,
      "outputs": [
        {
          "output_type": "stream",
          "text": [
            "--2021-07-20 14:19:51--  https://raw.githubusercontent.com/ai-drc/RDC-Mobongoli/main/jw300_utils/test/test.en-any.en\n",
            "Resolving raw.githubusercontent.com (raw.githubusercontent.com)... 185.199.108.133, 185.199.109.133, 185.199.110.133, ...\n",
            "Connecting to raw.githubusercontent.com (raw.githubusercontent.com)|185.199.108.133|:443... connected.\n",
            "HTTP request sent, awaiting response... 200 OK\n",
            "Length: 277791 (271K) [text/plain]\n",
            "Saving to: ‘test.en-any.en’\n",
            "\n",
            "test.en-any.en      100%[===================>] 271.28K  --.-KB/s    in 0.02s   \n",
            "\n",
            "2021-07-20 14:19:52 (16.1 MB/s) - ‘test.en-any.en’ saved [277791/277791]\n",
            "\n"
          ],
          "name": "stdout"
        }
      ]
    },
    {
      "cell_type": "code",
      "metadata": {
        "id": "WILjSl2FPe2h",
        "outputId": "88d09890-cec0-40db-e83d-9014711b6612",
        "colab": {
          "base_uri": "https://localhost:8080/"
        }
      },
      "source": [
        "# Read the test data to filter from train and dev splits.\n",
        "# Store english portion in set for quick filtering checks.\n",
        "en_test_sents = set()\n",
        "filter_test_sents = \"test.en-any.en\"\n",
        "j = 0\n",
        "with open(filter_test_sents) as f:\n",
        "  for line in f:\n",
        "    en_test_sents.add(line.strip())\n",
        "    j += 1\n",
        "print('Loaded {} global test sentences to filter from the training/dev data.'.format(j))"
      ],
      "execution_count": 13,
      "outputs": [
        {
          "output_type": "stream",
          "text": [
            "Loaded 3571 global test sentences to filter from the training/dev data.\n"
          ],
          "name": "stdout"
        }
      ]
    },
    {
      "cell_type": "code",
      "metadata": {
        "id": "0juxqZMRPe2h",
        "outputId": "e882944e-5459-4533-aabd-9d55ce06d7f7",
        "colab": {
          "base_uri": "https://localhost:8080/"
        }
      },
      "source": [
        "!ls"
      ],
      "execution_count": 14,
      "outputs": [
        {
          "output_type": "stream",
          "text": [
            "drive\t\tjw300.fr\t\t    JW300_latest_xml_fr.zip\n",
            "en-fr-baseline\tJW300_latest_xml_en-fr.xml  sample_data\n",
            "jw300.en\tJW300_latest_xml_en.zip     test.en-any.en\n"
          ],
          "name": "stdout"
        }
      ]
    },
    {
      "cell_type": "markdown",
      "metadata": {
        "id": "400YHwcVPe2i"
      },
      "source": [
        "#### Building the corpus"
      ]
    },
    {
      "cell_type": "markdown",
      "metadata": {
        "id": "_J_R2uQhPe2i"
      },
      "source": [
        "For those who knows french , in the 2 cells bellows am checking if the 2 dataset are aligned"
      ]
    },
    {
      "cell_type": "code",
      "metadata": {
        "scrolled": true,
        "id": "zL3Q2E-1Pe2i",
        "outputId": "3aca1073-cc94-4ec2-9386-7773c5931d64",
        "colab": {
          "base_uri": "https://localhost:8080/"
        }
      },
      "source": [
        "! head -5 jw300.en"
      ],
      "execution_count": 15,
      "outputs": [
        {
          "output_type": "stream",
          "text": [
            "“ A Good Word for the Witnesses ”\n",
            "THE preaching activity of Jehovah’s witnesses is growing very rapidly .\n",
            "This has required a large expansion of facilities at their international headquarters in Brooklyn , New York .\n",
            "The expansion is arousing much comment in the community , even prompting a sermon at the Plymouth Church ( Congregational ) , located just two blocks away .\n",
            "More than a century ago , the church’s first minister , Henry Ward Beecher , lived on property that is now part of the Watchtower Society’s headquarters complex .\n"
          ],
          "name": "stdout"
        }
      ]
    },
    {
      "cell_type": "code",
      "metadata": {
        "id": "pzZ3rV0uPe2j",
        "outputId": "119ce2cc-3676-4b2e-e010-29676bc4ec16",
        "colab": {
          "base_uri": "https://localhost:8080/"
        }
      },
      "source": [
        "! head -5 jw300.fr"
      ],
      "execution_count": 16,
      "outputs": [
        {
          "output_type": "stream",
          "text": [
            "“ Éloge des Témoins ”\n",
            "L’ŒUVRE de prédication des témoins de Jéhovah s’étend rapidement .\n",
            "Cette extension a exigé l’agrandissement de leur siège principal situé à Brooklyn , New York .\n",
            "Pareille expansion suscite de nombreux commentaires dans la localité et a même été l’objet d’un prêche prononcé dans le temple Plymouth ( de l’Église congrégationaliste ) , situé à deux pâtés de maisons du siège des témoins de Jéhovah .\n",
            "Il y a plus d’un siècle , le premier pasteur de ce temple , Henry Ward Beecher , habitait une maison qui fait partie aujourd’hui de l’ensemble des bâtiments appartenant à la Société Watchtower .\n"
          ],
          "name": "stdout"
        }
      ]
    },
    {
      "cell_type": "code",
      "metadata": {
        "id": "G0KcEXSrPe2j",
        "outputId": "148a26af-5a28-4e55-d6d3-9c7dc02f94f7",
        "colab": {
          "base_uri": "https://localhost:8080/",
          "height": 376
        }
      },
      "source": [
        "import pandas as pd\n",
        "\n",
        "# TMX file to dataframe\n",
        "source_file = 'jw300.' + source_language  ## source language is english\n",
        "target_file = 'jw300.' + target_language ## Target is french\n",
        "french_test = {}\n",
        "source = []\n",
        "target = []\n",
        "english_sentences_in_global_test_set = {}  # Collect the line numbers of the source portion to skip the same lines for the target portion.\n",
        "with open(source_file) as src_f:\n",
        "    for i, line in enumerate(src_f):\n",
        "        # Skip sentences that are contained in the test set and add them into the new frencg test\n",
        "        if line.strip() not in en_test_sents:\n",
        "            source.append(line.strip())\n",
        "        else:\n",
        "            # TODOS : Here is the intersection with the global test set\n",
        "            english_sentences_in_global_test_set[i] = line.strip()           \n",
        "with open(target_file) as f:\n",
        "    for j, line in enumerate(f):\n",
        "        # Only add to corpus if corresponding source was not skipped.\n",
        "        if j not in english_sentences_in_global_test_set.keys():\n",
        "            target.append(line.strip())\n",
        "        else:\n",
        "            #TODOS : Collecting the aligned test sentences\n",
        "            french_test[j] = line.strip()\n",
        "    \n",
        "print('Loaded data and skipped {}/{} lines since contained in test set.'.format(len(english_sentences_in_global_test_set.keys()), i))\n",
        "    \n",
        "df = pd.DataFrame(zip(source, target), columns=['source_sentence', 'target_sentence'])\n",
        "# if you get TypeError: data argument can't be an iterator is because of your zip version run this below\n",
        "#df = pd.DataFrame(list(zip(source, target)), columns=['source_sentence', 'target_sentence'])\n",
        "df.head(10)"
      ],
      "execution_count": 17,
      "outputs": [
        {
          "output_type": "stream",
          "text": [
            "Loaded data and skipped 10612/2304406 lines since contained in test set.\n"
          ],
          "name": "stdout"
        },
        {
          "output_type": "execute_result",
          "data": {
            "text/html": [
              "<div>\n",
              "<style scoped>\n",
              "    .dataframe tbody tr th:only-of-type {\n",
              "        vertical-align: middle;\n",
              "    }\n",
              "\n",
              "    .dataframe tbody tr th {\n",
              "        vertical-align: top;\n",
              "    }\n",
              "\n",
              "    .dataframe thead th {\n",
              "        text-align: right;\n",
              "    }\n",
              "</style>\n",
              "<table border=\"1\" class=\"dataframe\">\n",
              "  <thead>\n",
              "    <tr style=\"text-align: right;\">\n",
              "      <th></th>\n",
              "      <th>source_sentence</th>\n",
              "      <th>target_sentence</th>\n",
              "    </tr>\n",
              "  </thead>\n",
              "  <tbody>\n",
              "    <tr>\n",
              "      <th>0</th>\n",
              "      <td>“ A Good Word for the Witnesses ”</td>\n",
              "      <td>“ Éloge des Témoins ”</td>\n",
              "    </tr>\n",
              "    <tr>\n",
              "      <th>1</th>\n",
              "      <td>THE preaching activity of Jehovah’s witnesses ...</td>\n",
              "      <td>L’ŒUVRE de prédication des témoins de Jéhovah ...</td>\n",
              "    </tr>\n",
              "    <tr>\n",
              "      <th>2</th>\n",
              "      <td>This has required a large expansion of facilit...</td>\n",
              "      <td>Cette extension a exigé l’agrandissement de le...</td>\n",
              "    </tr>\n",
              "    <tr>\n",
              "      <th>3</th>\n",
              "      <td>The expansion is arousing much comment in the ...</td>\n",
              "      <td>Pareille expansion suscite de nombreux comment...</td>\n",
              "    </tr>\n",
              "    <tr>\n",
              "      <th>4</th>\n",
              "      <td>More than a century ago , the church’s first m...</td>\n",
              "      <td>Il y a plus d’un siècle , le premier pasteur d...</td>\n",
              "    </tr>\n",
              "    <tr>\n",
              "      <th>5</th>\n",
              "      <td>The sermon was delivered by Dr . Harry H . Kru...</td>\n",
              "      <td>Le prêche en question , prononcé par le pasteu...</td>\n",
              "    </tr>\n",
              "    <tr>\n",
              "      <th>6</th>\n",
              "      <td>At the outset he declared : “ I have to say th...</td>\n",
              "      <td>L’orateur commença par déclarer : “ Je dois di...</td>\n",
              "    </tr>\n",
              "    <tr>\n",
              "      <th>7</th>\n",
              "      <td>However , he then commented : “ But I can stil...</td>\n",
              "      <td>Il poursuivit toutefois en disant : “ Mais je ...</td>\n",
              "    </tr>\n",
              "    <tr>\n",
              "      <th>8</th>\n",
              "      <td>He said :</td>\n",
              "      <td>Il déclara alors :</td>\n",
              "    </tr>\n",
              "    <tr>\n",
              "      <th>9</th>\n",
              "      <td>I admire the Witnesses for talking about their...</td>\n",
              "      <td>“ J’admire les témoins parce qu’ils parlent de...</td>\n",
              "    </tr>\n",
              "  </tbody>\n",
              "</table>\n",
              "</div>"
            ],
            "text/plain": [
              "                                     source_sentence                                    target_sentence\n",
              "0                  “ A Good Word for the Witnesses ”                              “ Éloge des Témoins ”\n",
              "1  THE preaching activity of Jehovah’s witnesses ...  L’ŒUVRE de prédication des témoins de Jéhovah ...\n",
              "2  This has required a large expansion of facilit...  Cette extension a exigé l’agrandissement de le...\n",
              "3  The expansion is arousing much comment in the ...  Pareille expansion suscite de nombreux comment...\n",
              "4  More than a century ago , the church’s first m...  Il y a plus d’un siècle , le premier pasteur d...\n",
              "5  The sermon was delivered by Dr . Harry H . Kru...  Le prêche en question , prononcé par le pasteu...\n",
              "6  At the outset he declared : “ I have to say th...  L’orateur commença par déclarer : “ Je dois di...\n",
              "7  However , he then commented : “ But I can stil...  Il poursuivit toutefois en disant : “ Mais je ...\n",
              "8                                          He said :                                 Il déclara alors :\n",
              "9  I admire the Witnesses for talking about their...  “ J’admire les témoins parce qu’ils parlent de..."
            ]
          },
          "metadata": {
            "tags": []
          },
          "execution_count": 17
        }
      ]
    },
    {
      "cell_type": "code",
      "metadata": {
        "scrolled": true,
        "id": "hFNEa0ApPe2k",
        "outputId": "3d792359-45d0-475c-abff-144eb1f17853",
        "colab": {
          "base_uri": "https://localhost:8080/",
          "height": 35
        }
      },
      "source": [
        "french_test[6794]"
      ],
      "execution_count": 18,
      "outputs": [
        {
          "output_type": "execute_result",
          "data": {
            "application/vnd.google.colaboratory.intrinsic+json": {
              "type": "string"
            },
            "text/plain": [
              "'Et pourquoi pas ?'"
            ]
          },
          "metadata": {
            "tags": []
          },
          "execution_count": 18
        }
      ]
    },
    {
      "cell_type": "code",
      "metadata": {
        "id": "4JjXKwDHPe2k",
        "outputId": "f6ee3cc4-e0db-4702-c787-800e40c84643",
        "colab": {
          "base_uri": "https://localhost:8080/",
          "height": 35
        }
      },
      "source": [
        "english_sentences_in_global_test_set[6794]"
      ],
      "execution_count": 19,
      "outputs": [
        {
          "output_type": "execute_result",
          "data": {
            "application/vnd.google.colaboratory.intrinsic+json": {
              "type": "string"
            },
            "text/plain": [
              "'Why not ?'"
            ]
          },
          "metadata": {
            "tags": []
          },
          "execution_count": 19
        }
      ]
    },
    {
      "cell_type": "code",
      "metadata": {
        "id": "9By8U_KlPe2k"
      },
      "source": [
        "french_test_set = pd.DataFrame(zip(french_test.values(), english_sentences_in_global_test_set.values()), columns=['french_equivalent', 'english_equivalent'])"
      ],
      "execution_count": 20,
      "outputs": []
    },
    {
      "cell_type": "code",
      "metadata": {
        "id": "2n96K0KkPe2k"
      },
      "source": [
        "french_test_set = french_test_set.reset_index()"
      ],
      "execution_count": 21,
      "outputs": []
    },
    {
      "cell_type": "code",
      "metadata": {
        "id": "sViuL7PbPe2l"
      },
      "source": [
        "french_test_set = french_test_set.set_index(\"index\")"
      ],
      "execution_count": 22,
      "outputs": []
    },
    {
      "cell_type": "code",
      "metadata": {
        "id": "jKcQLjElPe2l",
        "outputId": "f8a44649-00df-4388-8f9f-6d6b45443724",
        "colab": {
          "base_uri": "https://localhost:8080/",
          "height": 235
        }
      },
      "source": [
        "french_test_set.tail()"
      ],
      "execution_count": 23,
      "outputs": [
        {
          "output_type": "execute_result",
          "data": {
            "text/html": [
              "<div>\n",
              "<style scoped>\n",
              "    .dataframe tbody tr th:only-of-type {\n",
              "        vertical-align: middle;\n",
              "    }\n",
              "\n",
              "    .dataframe tbody tr th {\n",
              "        vertical-align: top;\n",
              "    }\n",
              "\n",
              "    .dataframe thead th {\n",
              "        text-align: right;\n",
              "    }\n",
              "</style>\n",
              "<table border=\"1\" class=\"dataframe\">\n",
              "  <thead>\n",
              "    <tr style=\"text-align: right;\">\n",
              "      <th></th>\n",
              "      <th>french_equivalent</th>\n",
              "      <th>english_equivalent</th>\n",
              "    </tr>\n",
              "    <tr>\n",
              "      <th>index</th>\n",
              "      <th></th>\n",
              "      <th></th>\n",
              "    </tr>\n",
              "  </thead>\n",
              "  <tbody>\n",
              "    <tr>\n",
              "      <th>10607</th>\n",
              "      <td>» Mais un mois plus tard , ils ont reçu une no...</td>\n",
              "      <td>But then , a month later , they received thril...</td>\n",
              "    </tr>\n",
              "    <tr>\n",
              "      <th>10608</th>\n",
              "      <td>Míriam explique : « On nous a proposé d’être p...</td>\n",
              "      <td>Miriam says : “ We were invited to serve as sp...</td>\n",
              "    </tr>\n",
              "    <tr>\n",
              "      <th>10609</th>\n",
              "      <td>Quelle joie de pouvoir rester dans notre terri...</td>\n",
              "      <td>What a joy to be able to stay in our assignmen...</td>\n",
              "    </tr>\n",
              "    <tr>\n",
              "      <th>10610</th>\n",
              "      <td>Ils ont fait confiance à la promesse de Psaume...</td>\n",
              "      <td>They trusted in the promise found at Psalm 37 ...</td>\n",
              "    </tr>\n",
              "    <tr>\n",
              "      <th>10611</th>\n",
              "      <td>Aujourd’hui , on voit bien que oui , et on ne ...</td>\n",
              "      <td>Today we do , and we lack nothing of real impo...</td>\n",
              "    </tr>\n",
              "  </tbody>\n",
              "</table>\n",
              "</div>"
            ],
            "text/plain": [
              "                                       french_equivalent                                 english_equivalent\n",
              "index                                                                                                      \n",
              "10607  » Mais un mois plus tard , ils ont reçu une no...  But then , a month later , they received thril...\n",
              "10608  Míriam explique : « On nous a proposé d’être p...  Miriam says : “ We were invited to serve as sp...\n",
              "10609  Quelle joie de pouvoir rester dans notre terri...  What a joy to be able to stay in our assignmen...\n",
              "10610  Ils ont fait confiance à la promesse de Psaume...  They trusted in the promise found at Psalm 37 ...\n",
              "10611  Aujourd’hui , on voit bien que oui , et on ne ...  Today we do , and we lack nothing of real impo..."
            ]
          },
          "metadata": {
            "tags": []
          },
          "execution_count": 23
        }
      ]
    },
    {
      "cell_type": "markdown",
      "metadata": {
        "id": "AuJFYrq6Pe2l"
      },
      "source": [
        "Removing duplicates from english and french set"
      ]
    },
    {
      "cell_type": "code",
      "metadata": {
        "id": "lUeemf_fPe2l"
      },
      "source": [
        "french_test_set = french_test_set.drop_duplicates(subset='french_equivalent')"
      ],
      "execution_count": 24,
      "outputs": []
    },
    {
      "cell_type": "code",
      "metadata": {
        "id": "hUWrhaibPe2m"
      },
      "source": [
        "french_test_set = french_test_set.drop_duplicates(subset='english_equivalent')"
      ],
      "execution_count": 25,
      "outputs": []
    },
    {
      "cell_type": "code",
      "metadata": {
        "id": "yFksOUDrPe2m",
        "outputId": "63f4bb35-02ef-4ecc-9c93-a26376325097",
        "colab": {
          "base_uri": "https://localhost:8080/",
          "height": 235
        }
      },
      "source": [
        "french_test_set.head()"
      ],
      "execution_count": 26,
      "outputs": [
        {
          "output_type": "execute_result",
          "data": {
            "text/html": [
              "<div>\n",
              "<style scoped>\n",
              "    .dataframe tbody tr th:only-of-type {\n",
              "        vertical-align: middle;\n",
              "    }\n",
              "\n",
              "    .dataframe tbody tr th {\n",
              "        vertical-align: top;\n",
              "    }\n",
              "\n",
              "    .dataframe thead th {\n",
              "        text-align: right;\n",
              "    }\n",
              "</style>\n",
              "<table border=\"1\" class=\"dataframe\">\n",
              "  <thead>\n",
              "    <tr style=\"text-align: right;\">\n",
              "      <th></th>\n",
              "      <th>french_equivalent</th>\n",
              "      <th>english_equivalent</th>\n",
              "    </tr>\n",
              "    <tr>\n",
              "      <th>index</th>\n",
              "      <th></th>\n",
              "      <th></th>\n",
              "    </tr>\n",
              "  </thead>\n",
              "  <tbody>\n",
              "    <tr>\n",
              "      <th>0</th>\n",
              "      <td>Et pourquoi pas ?</td>\n",
              "      <td>Why not ?</td>\n",
              "    </tr>\n",
              "    <tr>\n",
              "      <th>2</th>\n",
              "      <td>Non .</td>\n",
              "      <td>No .</td>\n",
              "    </tr>\n",
              "    <tr>\n",
              "      <th>5</th>\n",
              "      <td>Je vais lui faire une aide qui soit son complé...</td>\n",
              "      <td>I am going to make a helper for him , as a com...</td>\n",
              "    </tr>\n",
              "    <tr>\n",
              "      <th>6</th>\n",
              "      <td>Mais un autre rouleau fut ouvert ; c’est le ro...</td>\n",
              "      <td>But another scroll was opened ; it is the scro...</td>\n",
              "    </tr>\n",
              "    <tr>\n",
              "      <th>20</th>\n",
              "      <td>Comment le savons - ​ nous ?</td>\n",
              "      <td>How do we know ?</td>\n",
              "    </tr>\n",
              "  </tbody>\n",
              "</table>\n",
              "</div>"
            ],
            "text/plain": [
              "                                       french_equivalent                                 english_equivalent\n",
              "index                                                                                                      \n",
              "0                                      Et pourquoi pas ?                                          Why not ?\n",
              "2                                                  Non .                                               No .\n",
              "5      Je vais lui faire une aide qui soit son complé...  I am going to make a helper for him , as a com...\n",
              "6      Mais un autre rouleau fut ouvert ; c’est le ro...  But another scroll was opened ; it is the scro...\n",
              "20                          Comment le savons - ​ nous ?                                   How do we know ?"
            ]
          },
          "metadata": {
            "tags": []
          },
          "execution_count": 26
        }
      ]
    },
    {
      "cell_type": "code",
      "metadata": {
        "id": "UuN0V1NWPe2m",
        "outputId": "8de26763-39af-49f1-ed6a-ac158359b2c8",
        "colab": {
          "base_uri": "https://localhost:8080/"
        }
      },
      "source": [
        "french_test_set.shape"
      ],
      "execution_count": 27,
      "outputs": [
        {
          "output_type": "execute_result",
          "data": {
            "text/plain": [
              "(3332, 2)"
            ]
          },
          "metadata": {
            "tags": []
          },
          "execution_count": 27
        }
      ]
    },
    {
      "cell_type": "code",
      "metadata": {
        "id": "p3nNXTnvPe2m",
        "outputId": "4e1425d1-fd3a-468f-c91c-887b1debc793",
        "colab": {
          "base_uri": "https://localhost:8080/",
          "height": 80
        }
      },
      "source": [
        "french_test_set.loc[~french_test_set.english_equivalent.isin(en_test_sents)]"
      ],
      "execution_count": 28,
      "outputs": [
        {
          "output_type": "execute_result",
          "data": {
            "text/html": [
              "<div>\n",
              "<style scoped>\n",
              "    .dataframe tbody tr th:only-of-type {\n",
              "        vertical-align: middle;\n",
              "    }\n",
              "\n",
              "    .dataframe tbody tr th {\n",
              "        vertical-align: top;\n",
              "    }\n",
              "\n",
              "    .dataframe thead th {\n",
              "        text-align: right;\n",
              "    }\n",
              "</style>\n",
              "<table border=\"1\" class=\"dataframe\">\n",
              "  <thead>\n",
              "    <tr style=\"text-align: right;\">\n",
              "      <th></th>\n",
              "      <th>french_equivalent</th>\n",
              "      <th>english_equivalent</th>\n",
              "    </tr>\n",
              "    <tr>\n",
              "      <th>index</th>\n",
              "      <th></th>\n",
              "      <th></th>\n",
              "    </tr>\n",
              "  </thead>\n",
              "  <tbody>\n",
              "  </tbody>\n",
              "</table>\n",
              "</div>"
            ],
            "text/plain": [
              "Empty DataFrame\n",
              "Columns: [french_equivalent, english_equivalent]\n",
              "Index: []"
            ]
          },
          "metadata": {
            "tags": []
          },
          "execution_count": 28
        }
      ]
    },
    {
      "cell_type": "code",
      "metadata": {
        "id": "oLhUlcGePe2m"
      },
      "source": [
        "with open(\"test.fr-any.fr\", \"w\") as test_fr_any_fr:\n",
        "    test_fr_any_fr.write(\"\\n\".join(french_test_set.french_equivalent))"
      ],
      "execution_count": 29,
      "outputs": []
    },
    {
      "cell_type": "code",
      "metadata": {
        "id": "GPXIdWbwPe2s",
        "outputId": "4aa8af76-af97-4466-9989-6d61a114d11e",
        "colab": {
          "base_uri": "https://localhost:8080/"
        }
      },
      "source": [
        "!head -5 test.fr-any.fr"
      ],
      "execution_count": 30,
      "outputs": [
        {
          "output_type": "stream",
          "text": [
            "Et pourquoi pas ?\n",
            "Non .\n",
            "Je vais lui faire une aide qui soit son complément . ”\n",
            "Mais un autre rouleau fut ouvert ; c’est le rouleau de vie .\n",
            "Comment le savons - ​ nous ?\n"
          ],
          "name": "stdout"
        }
      ]
    },
    {
      "cell_type": "code",
      "metadata": {
        "id": "y7o_jFm9Pe2s"
      },
      "source": [
        ""
      ],
      "execution_count": null,
      "outputs": []
    }
  ]
}