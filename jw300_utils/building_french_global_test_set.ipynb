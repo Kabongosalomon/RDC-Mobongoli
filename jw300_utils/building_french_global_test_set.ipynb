{
  "nbformat": 4,
  "nbformat_minor": 0,
  "metadata": {
    "kernelspec": {
      "display_name": "Python 3 (ipykernel)",
      "language": "python",
      "name": "python3"
    },
    "language_info": {
      "codemirror_mode": {
        "name": "ipython",
        "version": 3
      },
      "file_extension": ".py",
      "mimetype": "text/x-python",
      "name": "python",
      "nbconvert_exporter": "python",
      "pygments_lexer": "ipython3",
      "version": "3.7.10"
    },
    "colab": {
      "name": "building_french_global_test_set.ipynb",
      "provenance": [],
      "include_colab_link": true
    },
    "accelerator": "GPU"
  },
  "cells": [
    {
      "cell_type": "markdown",
      "metadata": {
        "id": "view-in-github",
        "colab_type": "text"
      },
      "source": [
        "<a href=\"https://colab.research.google.com/github/Kabongosalomon/RDC-Mobongoli/blob/main/jw300_utils/building_french_global_test_set.ipynb\" target=\"_parent\"><img src=\"https://colab.research.google.com/assets/colab-badge.svg\" alt=\"Open In Colab\"/></a>"
      ]
    },
    {
      "cell_type": "code",
      "metadata": {
        "id": "a01b-H31PxPx",
        "colab": {
          "base_uri": "https://localhost:8080/"
        },
        "outputId": "b4dbaace-9bb9-444d-8343-f9d05f1c6476"
      },
      "source": [
        "# Install opus-tools\n",
        "! pip install opustools-pkg"
      ],
      "execution_count": 1,
      "outputs": [
        {
          "output_type": "stream",
          "text": [
            "Collecting opustools-pkg\n",
            "  Downloading opustools_pkg-0.0.52-py3-none-any.whl (80 kB)\n",
            "\u001b[?25l\r\u001b[K     |████                            | 10 kB 19.9 MB/s eta 0:00:01\r\u001b[K     |████████                        | 20 kB 23.1 MB/s eta 0:00:01\r\u001b[K     |████████████▏                   | 30 kB 26.7 MB/s eta 0:00:01\r\u001b[K     |████████████████▏               | 40 kB 29.9 MB/s eta 0:00:01\r\u001b[K     |████████████████████▎           | 51 kB 32.7 MB/s eta 0:00:01\r\u001b[K     |████████████████████████▎       | 61 kB 34.3 MB/s eta 0:00:01\r\u001b[K     |████████████████████████████▎   | 71 kB 35.7 MB/s eta 0:00:01\r\u001b[K     |████████████████████████████████| 80 kB 9.2 MB/s \n",
            "\u001b[?25hInstalling collected packages: opustools-pkg\n",
            "Successfully installed opustools-pkg-0.0.52\n"
          ],
          "name": "stdout"
        }
      ]
    },
    {
      "cell_type": "code",
      "metadata": {
        "id": "lUFSdr-NP4Hn",
        "colab": {
          "base_uri": "https://localhost:8080/"
        },
        "outputId": "63a22fe5-d2a7-4c18-fcf8-145997a8ac26"
      },
      "source": [
        "from google.colab import drive\n",
        "drive.mount('/content/drive')"
      ],
      "execution_count": 2,
      "outputs": [
        {
          "output_type": "stream",
          "text": [
            "Mounted at /content/drive\n"
          ],
          "name": "stdout"
        }
      ]
    },
    {
      "cell_type": "markdown",
      "metadata": {
        "id": "fggwPTDDPe2Z"
      },
      "source": [
        "### Setting Up the data"
      ]
    },
    {
      "cell_type": "markdown",
      "metadata": {
        "id": "rWUTZAWrPe2b"
      },
      "source": [
        "Downloading the french global test set is simple,\n",
        "we need to set english  and french as source and target language, then we find the intersection of the english test set with the english corpus after that we get the corresponding french sentencs from the french corpus"
      ]
    },
    {
      "cell_type": "code",
      "metadata": {
        "id": "YHsatlxMPe2c"
      },
      "source": [
        "import os\n",
        "source_language = \"fr\"\n",
        "target_language = \"ln\" # ln is the language code of lingala \n",
        "lc = False  # If True, lowercase the data.\n",
        "seed = 42  # Random seed for shuffling.\n",
        "tag = \"baseline\" # Give a unique name to your folder - this is to ensure you don't rewrite any models you've already submitted\n",
        "\n",
        "os.environ[\"src\"] = source_language # Sets them in bash as well, since we often use bash scripts\n",
        "os.environ[\"tgt\"] = target_language\n",
        "os.environ[\"tag\"] = tag\n",
        "\n",
        "# No need to use gdrive since we are training on gcp\n",
        "!mkdir -p \"$src-$tgt-$tag\"\n",
        "os.environ[\"gdrive_path\"] = \"%s-%s-%s\" % (source_language, target_language, tag) # saving directly on the vm"
      ],
      "execution_count": 3,
      "outputs": []
    },
    {
      "cell_type": "code",
      "metadata": {
        "id": "ZfboOthMPe2d",
        "colab": {
          "base_uri": "https://localhost:8080/"
        },
        "outputId": "95c11fc7-e18c-4987-f990-ff3a4fda6584"
      },
      "source": [
        "!echo $gdrive_path"
      ],
      "execution_count": 4,
      "outputs": [
        {
          "output_type": "stream",
          "text": [
            "fr-ln-baseline\n"
          ],
          "name": "stdout"
        }
      ]
    },
    {
      "cell_type": "markdown",
      "metadata": {
        "id": "WQqKiD6gPe2e"
      },
      "source": [
        "#### Downloading the corpus data"
      ]
    },
    {
      "cell_type": "markdown",
      "metadata": {
        "id": "lJArVs15Pe2e"
      },
      "source": [
        "for precaution , am removing the old data"
      ]
    },
    {
      "cell_type": "code",
      "metadata": {
        "id": "A_Z7CHDcPe2e"
      },
      "source": [
        "!rm -f w300.$src jw300.$tgt JW300_latest_xml_$src-$tgt.xml.gz JW300_latest_xml_$src-$tgt.xml JW300_latest_xml_$src.zip  JW300_latest_xml_$tgt.zip"
      ],
      "execution_count": 5,
      "outputs": []
    },
    {
      "cell_type": "code",
      "metadata": {
        "scrolled": true,
        "id": "Ae6Lfpt9Pe2f",
        "colab": {
          "base_uri": "https://localhost:8080/"
        },
        "outputId": "a6f784d5-4127-4254-97cf-3c80867ce4c1"
      },
      "source": [
        "# Downloading our corpus\n",
        "! opus_read -d JW300 -s $src -t $tgt -wm moses -w jw300.$src jw300.$tgt -q\n",
        "\n",
        "# extract the corpus file\n",
        "! gunzip JW300_latest_xml_$src-$tgt.xml.gz"
      ],
      "execution_count": 6,
      "outputs": [
        {
          "output_type": "stream",
          "text": [
            "\n",
            "Alignment file /proj/nlpl/data/OPUS/JW300/latest/xml/fr-ln.xml.gz not found. The following files are available for downloading:\n",
            "\n",
            "   6 MB https://object.pouta.csc.fi/OPUS-JW300/v1b/xml/fr-ln.xml.gz\n",
            " 278 MB https://object.pouta.csc.fi/OPUS-JW300/v1b/xml/fr.zip\n",
            "  60 MB https://object.pouta.csc.fi/OPUS-JW300/v1b/xml/ln.zip\n",
            "\n",
            " 345 MB Total size\n",
            "./JW300_latest_xml_fr-ln.xml.gz ... 100% of 6 MB\n",
            "./JW300_latest_xml_fr.zip ... 100% of 278 MB\n",
            "./JW300_latest_xml_ln.zip ... 100% of 60 MB\n"
          ],
          "name": "stdout"
        }
      ]
    },
    {
      "cell_type": "code",
      "metadata": {
        "id": "5CJ1rL7LPe2g",
        "colab": {
          "base_uri": "https://localhost:8080/"
        },
        "outputId": "cfd32bb4-0a73-4f8d-f245-c2a4e33dadd9"
      },
      "source": [
        "! wget https://raw.githubusercontent.com/ai-drc/RDC-Mobongoli/main/jw300_utils/test/test.$src-any.$src\n",
        "  \n",
        "# And the specific test set for this language pair.\n",
        "os.environ[\"trg\"] = target_language \n",
        "os.environ[\"src\"] = source_language "
      ],
      "execution_count": 7,
      "outputs": [
        {
          "output_type": "stream",
          "text": [
            "--2021-07-20 15:21:17--  https://raw.githubusercontent.com/ai-drc/RDC-Mobongoli/main/jw300_utils/test/test.fr-any.fr\n",
            "Resolving raw.githubusercontent.com (raw.githubusercontent.com)... 185.199.109.133, 185.199.111.133, 185.199.110.133, ...\n",
            "Connecting to raw.githubusercontent.com (raw.githubusercontent.com)|185.199.109.133|:443... connected.\n",
            "HTTP request sent, awaiting response... 200 OK\n",
            "Length: 377235 (368K) [text/plain]\n",
            "Saving to: ‘test.fr-any.fr’\n",
            "\n",
            "\rtest.fr-any.fr        0%[                    ]       0  --.-KB/s               \rtest.fr-any.fr      100%[===================>] 368.39K  --.-KB/s    in 0.01s   \n",
            "\n",
            "2021-07-20 15:21:17 (33.4 MB/s) - ‘test.fr-any.fr’ saved [377235/377235]\n",
            "\n"
          ],
          "name": "stdout"
        }
      ]
    },
    {
      "cell_type": "code",
      "metadata": {
        "id": "WILjSl2FPe2h",
        "colab": {
          "base_uri": "https://localhost:8080/"
        },
        "outputId": "6632a8dd-56d0-4156-fa57-3d790aadc453"
      },
      "source": [
        "# Read the test data to filter from train and dev splits.\n",
        "# Store english portion in set for quick filtering checks.\n",
        "en_test_sents = set()\n",
        "filter_test_sents = f\"test.{source_language}-any.{source_language}\"\n",
        "j = 0\n",
        "with open(filter_test_sents) as f:\n",
        "  for line in f:\n",
        "    en_test_sents.add(line.strip())\n",
        "    j += 1\n",
        "print('Loaded {} global test sentences to filter from the training/dev data.'.format(j))"
      ],
      "execution_count": 8,
      "outputs": [
        {
          "output_type": "stream",
          "text": [
            "Loaded 3974 global test sentences to filter from the training/dev data.\n"
          ],
          "name": "stdout"
        }
      ]
    },
    {
      "cell_type": "code",
      "metadata": {
        "id": "0juxqZMRPe2h",
        "colab": {
          "base_uri": "https://localhost:8080/"
        },
        "outputId": "1a205062-95ce-4769-fedc-075b44c04868"
      },
      "source": [
        "!ls"
      ],
      "execution_count": 9,
      "outputs": [
        {
          "output_type": "stream",
          "text": [
            "drive\t\tJW300_latest_xml_fr-ln.xml  jw300.ln\n",
            "fr-ln-baseline\tJW300_latest_xml_fr.zip     sample_data\n",
            "jw300.fr\tJW300_latest_xml_ln.zip     test.fr-any.fr\n"
          ],
          "name": "stdout"
        }
      ]
    },
    {
      "cell_type": "markdown",
      "metadata": {
        "id": "400YHwcVPe2i"
      },
      "source": [
        "#### Building the corpus"
      ]
    },
    {
      "cell_type": "markdown",
      "metadata": {
        "id": "_J_R2uQhPe2i"
      },
      "source": [
        "For those who knows french , in the 2 cells bellows am checking if the 2 dataset are aligned"
      ]
    },
    {
      "cell_type": "code",
      "metadata": {
        "scrolled": true,
        "id": "zL3Q2E-1Pe2i",
        "colab": {
          "base_uri": "https://localhost:8080/"
        },
        "outputId": "467c575c-4b4e-47bf-cb46-f27ec8a829cf"
      },
      "source": [
        "! head -5 jw300.$src"
      ],
      "execution_count": 10,
      "outputs": [
        {
          "output_type": "stream",
          "text": [
            "Qui veut être millionnaire ?\n",
            "IL SEMBLE que ce soit là le désir de tout un chacun , ou presque .\n",
            "Or la solution la plus simple , dans l’esprit du public , est de gagner à la loterie ou au loto sportif * .\n",
            "Flattant les désirs du grand nombre — et convoitant les excédents qui reviendront à l’État — , de Moscou à Madrid , de Manille à Mexico , les gouvernements parrainent des loteries d’État qui peuvent faire gagner l’équivalent de plusieurs centaines de millions de francs français .\n",
            "Quelques joueurs deviennent effectivement millionnaires .\n"
          ],
          "name": "stdout"
        }
      ]
    },
    {
      "cell_type": "code",
      "metadata": {
        "id": "pzZ3rV0uPe2j",
        "colab": {
          "base_uri": "https://localhost:8080/"
        },
        "outputId": "378582e7-960e-42f6-da45-db0974a72ea2"
      },
      "source": [
        "! head -5 jw300.$tgt"
      ],
      "execution_count": 11,
      "outputs": [
        {
          "output_type": "stream",
          "text": [
            "Nani alingi kozala milionere ?\n",
            "EYANO emonani lokola ete , wana ezali mposa ya moto na moto to pene na bato nyonso .\n",
            "Nzokande , na makanisi ya bato , nzela ya pɛtɛɛ mpo na kozwa yango ezali kolónga na loterie to na momekano ya kosakola liboso équipe ya ndembo oyo ekolónga .\n",
            "Kolamusáká mposa ya bato mingi ​ — mpe koluláká kozwa misolo oyo Leta akozwa likoló ​ — kolongwa Moscou kino Madrid , kolongwa Manille kino Mexico , baguvernema bazali kopesa lisungi na loterie esalemi na Leta , kati na yango balóngi bakoki kozwa nkámá mingi ya bamilió ya badolare .\n",
            "Mwa babɛti na yango bazali mpenza kokóma bamilionere .\n"
          ],
          "name": "stdout"
        }
      ]
    },
    {
      "cell_type": "code",
      "metadata": {
        "id": "G0KcEXSrPe2j",
        "colab": {
          "base_uri": "https://localhost:8080/",
          "height": 376
        },
        "outputId": "4ba03411-f751-4c46-84a6-b132401494cb"
      },
      "source": [
        "import pandas as pd\n",
        "\n",
        "# TMX file to dataframe\n",
        "source_file = 'jw300.' + source_language  ## source language is english\n",
        "target_file = 'jw300.' + target_language ## Target is french\n",
        "french_test = {}\n",
        "source = []\n",
        "target = []\n",
        "english_sentences_in_global_test_set = {}  # Collect the line numbers of the source portion to skip the same lines for the target portion.\n",
        "with open(source_file) as src_f:\n",
        "    for i, line in enumerate(src_f):\n",
        "        # Skip sentences that are contained in the test set and add them into the new frencg test\n",
        "        if line.strip() not in en_test_sents:\n",
        "            source.append(line.strip())\n",
        "        else:\n",
        "            # TODOS : Here is the intersection with the global test set\n",
        "            english_sentences_in_global_test_set[i] = line.strip()           \n",
        "with open(target_file) as f:\n",
        "    for j, line in enumerate(f):\n",
        "        # Only add to corpus if corresponding source was not skipped.\n",
        "        if j not in english_sentences_in_global_test_set.keys():\n",
        "            target.append(line.strip())\n",
        "        else:\n",
        "            #TODOS : Collecting the aligned test sentences\n",
        "            french_test[j] = line.strip()\n",
        "    \n",
        "print('Loaded data and skipped {}/{} lines since contained in test set.'.format(len(english_sentences_in_global_test_set.keys()), i))\n",
        "    \n",
        "df = pd.DataFrame(zip(source, target), columns=['source_sentence', 'target_sentence'])\n",
        "# if you get TypeError: data argument can't be an iterator is because of your zip version run this below\n",
        "#df = pd.DataFrame(list(zip(source, target)), columns=['source_sentence', 'target_sentence'])\n",
        "df.tail(10)"
      ],
      "execution_count": 12,
      "outputs": [
        {
          "output_type": "stream",
          "text": [
            "Loaded data and skipped 6707/590525 lines since contained in test set.\n"
          ],
          "name": "stdout"
        },
        {
          "output_type": "execute_result",
          "data": {
            "text/html": [
              "<div>\n",
              "<style scoped>\n",
              "    .dataframe tbody tr th:only-of-type {\n",
              "        vertical-align: middle;\n",
              "    }\n",
              "\n",
              "    .dataframe tbody tr th {\n",
              "        vertical-align: top;\n",
              "    }\n",
              "\n",
              "    .dataframe thead th {\n",
              "        text-align: right;\n",
              "    }\n",
              "</style>\n",
              "<table border=\"1\" class=\"dataframe\">\n",
              "  <thead>\n",
              "    <tr style=\"text-align: right;\">\n",
              "      <th></th>\n",
              "      <th>source_sentence</th>\n",
              "      <th>target_sentence</th>\n",
              "    </tr>\n",
              "  </thead>\n",
              "  <tbody>\n",
              "    <tr>\n",
              "      <th>583809</th>\n",
              "      <td>Comme les chrétiens hébreux , nous pouvons étu...</td>\n",
              "      <td>Lokola bakristo Baebre , tokoki kotánga makamb...</td>\n",
              "    </tr>\n",
              "    <tr>\n",
              "      <th>583810</th>\n",
              "      <td>Pour montrer que cette promesse est biblique ,...</td>\n",
              "      <td>Mpo na komonisa ete elaka yango euti na Makoma...</td>\n",
              "    </tr>\n",
              "    <tr>\n",
              "      <th>583811</th>\n",
              "      <td>Nous sommes touchés de savoir que « la promess...</td>\n",
              "      <td>Koyeba ete “ elaka ya kokɔta na kopema [ ya Nz...</td>\n",
              "    </tr>\n",
              "    <tr>\n",
              "      <th>583812</th>\n",
              "      <td>Nous sommes convaincus que c’est possible d’en...</td>\n",
              "      <td>Tondimaka ete makambo oyo Biblia eteyaka na oy...</td>\n",
              "    </tr>\n",
              "    <tr>\n",
              "      <th>583813</th>\n",
              "      <td>Pas en obéissant à la Loi de Moïse , ni en fai...</td>\n",
              "      <td>Tosalaka yango te mpo na koluka kotosa Mibeko ...</td>\n",
              "    </tr>\n",
              "    <tr>\n",
              "      <th>583814</th>\n",
              "      <td>Mais c’est plutôt en travaillant avec foi et d...</td>\n",
              "      <td>Kasi , lokola tondimelaka Nzambe , tosepelaka ...</td>\n",
              "    </tr>\n",
              "    <tr>\n",
              "      <th>583815</th>\n",
              "      <td>De plus , des milliers de personnes dans le mo...</td>\n",
              "      <td>Ebele ya bato na mokili mobimba babandá mpe ko...</td>\n",
              "    </tr>\n",
              "    <tr>\n",
              "      <th>583816</th>\n",
              "      <td>Cette étude a motivé beaucoup d’entre elles à ...</td>\n",
              "      <td>Yango esalisaki mingi na bango bábongola bomoi...</td>\n",
              "    </tr>\n",
              "    <tr>\n",
              "      <th>583817</th>\n",
              "      <td>L’effet que « la parole de Dieu » a sur ces pe...</td>\n",
              "      <td>Ndenge oyo bazali kobongwana emonisi polele et...</td>\n",
              "    </tr>\n",
              "    <tr>\n",
              "      <th>583818</th>\n",
              "      <td>Les déclarations de Jéhovah sur son projet qui...</td>\n",
              "      <td>Makambo oyo Nzambe amonisá na Biblia mpo na mo...</td>\n",
              "    </tr>\n",
              "  </tbody>\n",
              "</table>\n",
              "</div>"
            ],
            "text/plain": [
              "                                          source_sentence                                    target_sentence\n",
              "583809  Comme les chrétiens hébreux , nous pouvons étu...  Lokola bakristo Baebre , tokoki kotánga makamb...\n",
              "583810  Pour montrer que cette promesse est biblique ,...  Mpo na komonisa ete elaka yango euti na Makoma...\n",
              "583811  Nous sommes touchés de savoir que « la promess...  Koyeba ete “ elaka ya kokɔta na kopema [ ya Nz...\n",
              "583812  Nous sommes convaincus que c’est possible d’en...  Tondimaka ete makambo oyo Biblia eteyaka na oy...\n",
              "583813  Pas en obéissant à la Loi de Moïse , ni en fai...  Tosalaka yango te mpo na koluka kotosa Mibeko ...\n",
              "583814  Mais c’est plutôt en travaillant avec foi et d...  Kasi , lokola tondimelaka Nzambe , tosepelaka ...\n",
              "583815  De plus , des milliers de personnes dans le mo...  Ebele ya bato na mokili mobimba babandá mpe ko...\n",
              "583816  Cette étude a motivé beaucoup d’entre elles à ...  Yango esalisaki mingi na bango bábongola bomoi...\n",
              "583817  L’effet que « la parole de Dieu » a sur ces pe...  Ndenge oyo bazali kobongwana emonisi polele et...\n",
              "583818  Les déclarations de Jéhovah sur son projet qui...  Makambo oyo Nzambe amonisá na Biblia mpo na mo..."
            ]
          },
          "metadata": {
            "tags": []
          },
          "execution_count": 12
        }
      ]
    },
    {
      "cell_type": "code",
      "metadata": {
        "scrolled": true,
        "id": "hFNEa0ApPe2k"
      },
      "source": [
        "# french_test"
      ],
      "execution_count": 13,
      "outputs": []
    },
    {
      "cell_type": "code",
      "metadata": {
        "id": "4JjXKwDHPe2k"
      },
      "source": [
        "# english_sentences_in_global_test_set[6794]"
      ],
      "execution_count": 14,
      "outputs": []
    },
    {
      "cell_type": "code",
      "metadata": {
        "id": "9By8U_KlPe2k"
      },
      "source": [
        "french_test_set = pd.DataFrame(zip(french_test.values(), english_sentences_in_global_test_set.values()), columns=[f'{target_language}_equivalent', f'{source_language}_equivalent'])"
      ],
      "execution_count": 15,
      "outputs": []
    },
    {
      "cell_type": "code",
      "metadata": {
        "id": "2n96K0KkPe2k"
      },
      "source": [
        "french_test_set = french_test_set.reset_index()"
      ],
      "execution_count": 16,
      "outputs": []
    },
    {
      "cell_type": "code",
      "metadata": {
        "id": "sViuL7PbPe2l"
      },
      "source": [
        "french_test_set = french_test_set.set_index(\"index\")"
      ],
      "execution_count": 17,
      "outputs": []
    },
    {
      "cell_type": "code",
      "metadata": {
        "id": "jKcQLjElPe2l",
        "colab": {
          "base_uri": "https://localhost:8080/",
          "height": 235
        },
        "outputId": "275872cf-3aba-4e42-ea5e-20ca0d0875ba"
      },
      "source": [
        "french_test_set.tail()"
      ],
      "execution_count": 18,
      "outputs": [
        {
          "output_type": "execute_result",
          "data": {
            "text/html": [
              "<div>\n",
              "<style scoped>\n",
              "    .dataframe tbody tr th:only-of-type {\n",
              "        vertical-align: middle;\n",
              "    }\n",
              "\n",
              "    .dataframe tbody tr th {\n",
              "        vertical-align: top;\n",
              "    }\n",
              "\n",
              "    .dataframe thead th {\n",
              "        text-align: right;\n",
              "    }\n",
              "</style>\n",
              "<table border=\"1\" class=\"dataframe\">\n",
              "  <thead>\n",
              "    <tr style=\"text-align: right;\">\n",
              "      <th></th>\n",
              "      <th>ln_equivalent</th>\n",
              "      <th>fr_equivalent</th>\n",
              "    </tr>\n",
              "    <tr>\n",
              "      <th>index</th>\n",
              "      <th></th>\n",
              "      <th></th>\n",
              "    </tr>\n",
              "  </thead>\n",
              "  <tbody>\n",
              "    <tr>\n",
              "      <th>6702</th>\n",
              "      <td>Sikoyo , nani aleki na mayele : moto oyo asalá...</td>\n",
              "      <td>Alors , qui est le plus intelligent : le créat...</td>\n",
              "    </tr>\n",
              "    <tr>\n",
              "      <th>6703</th>\n",
              "      <td>13 , 14 .</td>\n",
              "      <td>13 , 14 .</td>\n",
              "    </tr>\n",
              "    <tr>\n",
              "      <th>6704</th>\n",
              "      <td>Yango wana , ezali na ntina mingi ete baboti b...</td>\n",
              "      <td>C’est pour cela que c’est important que les pa...</td>\n",
              "    </tr>\n",
              "    <tr>\n",
              "      <th>6705</th>\n",
              "      <td>Tiká bana na yo bámona ete Yehova azali mpenza...</td>\n",
              "      <td>Montre - ​ leur que Jéhovah est vraiment réel ...</td>\n",
              "    </tr>\n",
              "    <tr>\n",
              "      <th>6706</th>\n",
              "      <td>Yango ekómisaki makasi kondima na ye epai ya N...</td>\n",
              "      <td>C’est excellent pour sa foi en Dieu et en la B...</td>\n",
              "    </tr>\n",
              "  </tbody>\n",
              "</table>\n",
              "</div>"
            ],
            "text/plain": [
              "                                           ln_equivalent                                      fr_equivalent\n",
              "index                                                                                                      \n",
              "6702   Sikoyo , nani aleki na mayele : moto oyo asalá...  Alors , qui est le plus intelligent : le créat...\n",
              "6703                                           13 , 14 .                                          13 , 14 .\n",
              "6704   Yango wana , ezali na ntina mingi ete baboti b...  C’est pour cela que c’est important que les pa...\n",
              "6705   Tiká bana na yo bámona ete Yehova azali mpenza...  Montre - ​ leur que Jéhovah est vraiment réel ...\n",
              "6706   Yango ekómisaki makasi kondima na ye epai ya N...  C’est excellent pour sa foi en Dieu et en la B..."
            ]
          },
          "metadata": {
            "tags": []
          },
          "execution_count": 18
        }
      ]
    },
    {
      "cell_type": "markdown",
      "metadata": {
        "id": "AuJFYrq6Pe2l"
      },
      "source": [
        "Removing duplicates from english and french set"
      ]
    },
    {
      "cell_type": "code",
      "metadata": {
        "id": "lUeemf_fPe2l"
      },
      "source": [
        "french_test_set = french_test_set.drop_duplicates(subset=f'{target_language}_equivalent')"
      ],
      "execution_count": 19,
      "outputs": []
    },
    {
      "cell_type": "code",
      "metadata": {
        "id": "hUWrhaibPe2m"
      },
      "source": [
        "french_test_set = french_test_set.drop_duplicates(subset=f'{source_language}_equivalent')"
      ],
      "execution_count": 20,
      "outputs": []
    },
    {
      "cell_type": "code",
      "metadata": {
        "id": "yFksOUDrPe2m",
        "colab": {
          "base_uri": "https://localhost:8080/",
          "height": 235
        },
        "outputId": "4adb0a50-b4d2-4e9f-e22c-a307eb3c07e7"
      },
      "source": [
        "french_test_set.head()"
      ],
      "execution_count": 21,
      "outputs": [
        {
          "output_type": "execute_result",
          "data": {
            "text/html": [
              "<div>\n",
              "<style scoped>\n",
              "    .dataframe tbody tr th:only-of-type {\n",
              "        vertical-align: middle;\n",
              "    }\n",
              "\n",
              "    .dataframe tbody tr th {\n",
              "        vertical-align: top;\n",
              "    }\n",
              "\n",
              "    .dataframe thead th {\n",
              "        text-align: right;\n",
              "    }\n",
              "</style>\n",
              "<table border=\"1\" class=\"dataframe\">\n",
              "  <thead>\n",
              "    <tr style=\"text-align: right;\">\n",
              "      <th></th>\n",
              "      <th>ln_equivalent</th>\n",
              "      <th>fr_equivalent</th>\n",
              "    </tr>\n",
              "    <tr>\n",
              "      <th>index</th>\n",
              "      <th></th>\n",
              "      <th></th>\n",
              "    </tr>\n",
              "  </thead>\n",
              "  <tbody>\n",
              "    <tr>\n",
              "      <th>0</th>\n",
              "      <td>Mpo na nini ?</td>\n",
              "      <td>Pourquoi ?</td>\n",
              "    </tr>\n",
              "    <tr>\n",
              "      <th>1</th>\n",
              "      <td>Oyo ezali mobeko moleki monene mpe oyo na libo...</td>\n",
              "      <td>C’est là le plus grand et le premier commandem...</td>\n",
              "    </tr>\n",
              "    <tr>\n",
              "      <th>6</th>\n",
              "      <td>Lamuká !</td>\n",
              "      <td>Réveillez - vous !</td>\n",
              "    </tr>\n",
              "    <tr>\n",
              "      <th>11</th>\n",
              "      <td>Sapolsky mpe E .</td>\n",
              "      <td>Non .</td>\n",
              "    </tr>\n",
              "    <tr>\n",
              "      <th>18</th>\n",
              "      <td>Oyo ezali mobeko moleki monene mpe ya liboso .</td>\n",
              "      <td>’ C’est là le plus grand et le premier command...</td>\n",
              "    </tr>\n",
              "  </tbody>\n",
              "</table>\n",
              "</div>"
            ],
            "text/plain": [
              "                                           ln_equivalent                                      fr_equivalent\n",
              "index                                                                                                      \n",
              "0                                          Mpo na nini ?                                         Pourquoi ?\n",
              "1      Oyo ezali mobeko moleki monene mpe oyo na libo...  C’est là le plus grand et le premier commandem...\n",
              "6                                               Lamuká !                                 Réveillez - vous !\n",
              "11                                      Sapolsky mpe E .                                              Non .\n",
              "18        Oyo ezali mobeko moleki monene mpe ya liboso .  ’ C’est là le plus grand et le premier command..."
            ]
          },
          "metadata": {
            "tags": []
          },
          "execution_count": 21
        }
      ]
    },
    {
      "cell_type": "code",
      "metadata": {
        "id": "UuN0V1NWPe2m",
        "colab": {
          "base_uri": "https://localhost:8080/"
        },
        "outputId": "325b3e27-cd02-4733-d4f2-1b15a5ef820e"
      },
      "source": [
        "french_test_set.shape"
      ],
      "execution_count": 22,
      "outputs": [
        {
          "output_type": "execute_result",
          "data": {
            "text/plain": [
              "(2933, 2)"
            ]
          },
          "metadata": {
            "tags": []
          },
          "execution_count": 22
        }
      ]
    },
    {
      "cell_type": "code",
      "metadata": {
        "id": "p3nNXTnvPe2m",
        "colab": {
          "base_uri": "https://localhost:8080/",
          "height": 80
        },
        "outputId": "ff6dd8f2-1228-4ae1-952e-157c483c8fd7"
      },
      "source": [
        "french_test_set.loc[~french_test_set[f'{source_language}_equivalent'].isin(en_test_sents)]"
      ],
      "execution_count": 24,
      "outputs": [
        {
          "output_type": "execute_result",
          "data": {
            "text/html": [
              "<div>\n",
              "<style scoped>\n",
              "    .dataframe tbody tr th:only-of-type {\n",
              "        vertical-align: middle;\n",
              "    }\n",
              "\n",
              "    .dataframe tbody tr th {\n",
              "        vertical-align: top;\n",
              "    }\n",
              "\n",
              "    .dataframe thead th {\n",
              "        text-align: right;\n",
              "    }\n",
              "</style>\n",
              "<table border=\"1\" class=\"dataframe\">\n",
              "  <thead>\n",
              "    <tr style=\"text-align: right;\">\n",
              "      <th></th>\n",
              "      <th>ln_equivalent</th>\n",
              "      <th>fr_equivalent</th>\n",
              "    </tr>\n",
              "    <tr>\n",
              "      <th>index</th>\n",
              "      <th></th>\n",
              "      <th></th>\n",
              "    </tr>\n",
              "  </thead>\n",
              "  <tbody>\n",
              "  </tbody>\n",
              "</table>\n",
              "</div>"
            ],
            "text/plain": [
              "Empty DataFrame\n",
              "Columns: [ln_equivalent, fr_equivalent]\n",
              "Index: []"
            ]
          },
          "metadata": {
            "tags": []
          },
          "execution_count": 24
        }
      ]
    },
    {
      "cell_type": "code",
      "metadata": {
        "id": "oLhUlcGePe2m"
      },
      "source": [
        "with open(f\"test.{target_language}-any.{target_language}\", \"w\") as test_fr_any_fr:\n",
        "    test_fr_any_fr.write(\"\\n\".join(french_test_set[f'{target_language}_equivalent']))"
      ],
      "execution_count": 25,
      "outputs": []
    },
    {
      "cell_type": "code",
      "metadata": {
        "id": "GPXIdWbwPe2s",
        "colab": {
          "base_uri": "https://localhost:8080/"
        },
        "outputId": "3173f85e-5f09-4692-d566-cfbdcd42e15b"
      },
      "source": [
        "!head -5 test.$tgt-any.$tgt"
      ],
      "execution_count": 26,
      "outputs": [
        {
          "output_type": "stream",
          "text": [
            "Mpo na nini ?\n",
            "Oyo ezali mobeko moleki monene mpe oyo na liboso .\n",
            "Lamuká !\n",
            "Sapolsky mpe E .\n",
            "Oyo ezali mobeko moleki monene mpe ya liboso .\n"
          ],
          "name": "stdout"
        }
      ]
    },
    {
      "cell_type": "code",
      "metadata": {
        "id": "y7o_jFm9Pe2s"
      },
      "source": [
        ""
      ],
      "execution_count": null,
      "outputs": []
    }
  ]
}